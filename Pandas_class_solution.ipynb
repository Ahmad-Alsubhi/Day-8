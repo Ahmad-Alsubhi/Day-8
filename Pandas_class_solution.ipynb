{
 "cells": [
  {
   "cell_type": "markdown",
   "id": "d2d83482",
   "metadata": {},
   "source": [
    "# Import Pandas Library"
   ]
  },
  {
   "cell_type": "code",
   "execution_count": 1,
   "id": "b62499b7",
   "metadata": {},
   "outputs": [],
   "source": [
    "import pandas as pd\n",
    "import numpy as np"
   ]
  },
  {
   "cell_type": "markdown",
   "id": "b34eff8d",
   "metadata": {},
   "source": [
    "# Data Structures"
   ]
  },
  {
   "cell_type": "markdown",
   "id": "895286dc",
   "metadata": {},
   "source": [
    "## First: Series"
   ]
  },
  {
   "cell_type": "code",
   "execution_count": 2,
   "id": "a7b6329d",
   "metadata": {},
   "outputs": [
    {
     "data": {
      "text/plain": [
       "0    1\n",
       "1    2\n",
       "2    3\n",
       "3    4\n",
       "4    5\n",
       "Name: value, dtype: int64"
      ]
     },
     "execution_count": 2,
     "metadata": {},
     "output_type": "execute_result"
    }
   ],
   "source": [
    "lst = [1,2,3,4,5] \n",
    "s = pd.Series(lst, name=\"value\")\n",
    "s"
   ]
  },
  {
   "cell_type": "code",
   "execution_count": 3,
   "id": "045605a7",
   "metadata": {},
   "outputs": [
    {
     "data": {
      "text/plain": [
       "0    1.0\n",
       "1    2.0\n",
       "2    3.0\n",
       "3    4.0\n",
       "4    5.0\n",
       "dtype: float64"
      ]
     },
     "execution_count": 3,
     "metadata": {},
     "output_type": "execute_result"
    }
   ],
   "source": [
    "# change dtype\n",
    "s = pd.Series(lst, dtype= float)\n",
    "s"
   ]
  },
  {
   "cell_type": "code",
   "execution_count": 4,
   "id": "fbc2a877",
   "metadata": {},
   "outputs": [
    {
     "data": {
      "text/plain": [
       "A    1\n",
       "B    2\n",
       "C    3\n",
       "D    4\n",
       "E    5\n",
       "dtype: int64"
      ]
     },
     "execution_count": 4,
     "metadata": {},
     "output_type": "execute_result"
    }
   ],
   "source": [
    "# choose indexes\n",
    "s = pd.Series(lst, index=['A', 'B', 'C', 'D', 'E' ])\n",
    "s"
   ]
  },
  {
   "cell_type": "code",
   "execution_count": 5,
   "id": "1a13f14b",
   "metadata": {},
   "outputs": [
    {
     "data": {
      "text/plain": [
       "10    Nourah\n",
       "12     Sarah\n",
       "13     Ahmed\n",
       "14      Lama\n",
       "dtype: object"
      ]
     },
     "execution_count": 5,
     "metadata": {},
     "output_type": "execute_result"
    }
   ],
   "source": [
    "index = [10, 12, 13, 14]\n",
    "names = ['Nourah', 'Sarah', 'Ahmed', 'Lama']\n",
    "s2 = pd.Series(names, index=index)\n",
    "s2"
   ]
  },
  {
   "cell_type": "code",
   "execution_count": 6,
   "id": "a59bffb7",
   "metadata": {},
   "outputs": [
    {
     "data": {
      "text/plain": [
       "10    Nourah\n",
       "12     Sarah\n",
       "13     Ahmed\n",
       "14      Lama\n",
       "dtype: object"
      ]
     },
     "execution_count": 6,
     "metadata": {},
     "output_type": "execute_result"
    }
   ],
   "source": [
    "# use dictionary \n",
    "names = {10: 'Nourah', 12: 'Sarah', 13: 'Ahmed', 14: 'Lama'}\n",
    "s3 = pd.Series(names)\n",
    "s3"
   ]
  },
  {
   "cell_type": "code",
   "execution_count": 7,
   "id": "2fd0309b-5eb5-4a0c-a163-2c4b4b5f71d8",
   "metadata": {},
   "outputs": [
    {
     "data": {
      "text/plain": [
       "dict_keys([10, 12, 13, 14])"
      ]
     },
     "execution_count": 7,
     "metadata": {},
     "output_type": "execute_result"
    }
   ],
   "source": [
    "names.keys()"
   ]
  },
  {
   "cell_type": "code",
   "execution_count": 8,
   "id": "a5d3a2fb-ad8a-4aaf-ac00-7509a2c8af17",
   "metadata": {},
   "outputs": [
    {
     "data": {
      "text/plain": [
       "Nourah    10\n",
       "Sarah     12\n",
       "Ahmed     13\n",
       "Lama      14\n",
       "dtype: int64"
      ]
     },
     "execution_count": 8,
     "metadata": {},
     "output_type": "execute_result"
    }
   ],
   "source": [
    "pd.Series(names.keys(), index=names.values())"
   ]
  },
  {
   "cell_type": "code",
   "execution_count": 9,
   "id": "b99673a1-45c4-4263-ba38-234406a25bfa",
   "metadata": {},
   "outputs": [
    {
     "data": {
      "text/plain": [
       "10    Nourah\n",
       "12     Sarah\n",
       "13     Ahmed\n",
       "14      Lama\n",
       "dtype: object"
      ]
     },
     "execution_count": 9,
     "metadata": {},
     "output_type": "execute_result"
    }
   ],
   "source": [
    "s3"
   ]
  },
  {
   "cell_type": "code",
   "execution_count": 10,
   "id": "667c340f-3b3c-42dc-96ca-22a111f3db38",
   "metadata": {},
   "outputs": [
    {
     "data": {
      "text/plain": [
       "array(['Nourah', 'Sarah', 'Ahmed', 'Lama'], dtype=object)"
      ]
     },
     "execution_count": 10,
     "metadata": {},
     "output_type": "execute_result"
    }
   ],
   "source": [
    "s3.values"
   ]
  },
  {
   "cell_type": "code",
   "execution_count": 11,
   "id": "95b503ff-045b-40d2-8218-29495109c8cf",
   "metadata": {},
   "outputs": [
    {
     "data": {
      "text/plain": [
       "[0, 1, 2, 3]"
      ]
     },
     "execution_count": 11,
     "metadata": {},
     "output_type": "execute_result"
    }
   ],
   "source": [
    "list(range(4))"
   ]
  },
  {
   "cell_type": "code",
   "execution_count": 12,
   "id": "4f564032-d79a-4530-9cc9-809f538cccf1",
   "metadata": {},
   "outputs": [
    {
     "data": {
      "text/plain": [
       "10    Nourah\n",
       "12     Sarah\n",
       "13     Ahmed\n",
       "14      Lama\n",
       "dtype: object"
      ]
     },
     "execution_count": 12,
     "metadata": {},
     "output_type": "execute_result"
    }
   ],
   "source": [
    "s3"
   ]
  },
  {
   "cell_type": "code",
   "execution_count": 13,
   "id": "8c1b4d6c",
   "metadata": {},
   "outputs": [
    {
     "data": {
      "text/plain": [
       "0    Nourah\n",
       "1     Sarah\n",
       "2     Ahmed\n",
       "dtype: object"
      ]
     },
     "execution_count": 13,
     "metadata": {},
     "output_type": "execute_result"
    }
   ],
   "source": [
    "# change the indexes\n",
    "s3.index = range(4)\n",
    "s3[0:3]"
   ]
  },
  {
   "cell_type": "code",
   "execution_count": 14,
   "id": "07e2ca69",
   "metadata": {},
   "outputs": [
    {
     "name": "stdout",
     "output_type": "stream",
     "text": [
      "Ahmed\n"
     ]
    }
   ],
   "source": [
    "# Selecting\n",
    "print(s3[2]) # index = 2"
   ]
  },
  {
   "cell_type": "code",
   "execution_count": 15,
   "id": "55ecedd1",
   "metadata": {},
   "outputs": [
    {
     "data": {
      "text/plain": [
       "0    Nourah\n",
       "1     Sarah\n",
       "2     Ahmed\n",
       "dtype: object"
      ]
     },
     "execution_count": 15,
     "metadata": {},
     "output_type": "execute_result"
    }
   ],
   "source": [
    "# Slicing like numpy [start, end(execluded), gap]\n",
    "# Note that the slice does not use the index labels as references, but the position\n",
    "s3[:3] # from position 0 to 2"
   ]
  },
  {
   "cell_type": "code",
   "execution_count": 16,
   "id": "64ee2212-9efa-4730-9929-b89df99bf0ff",
   "metadata": {},
   "outputs": [
    {
     "data": {
      "text/plain": [
       "0    Nourah\n",
       "1     Sarah\n",
       "2     Ahmed\n",
       "3      Lama\n",
       "dtype: object"
      ]
     },
     "execution_count": 16,
     "metadata": {},
     "output_type": "execute_result"
    }
   ],
   "source": [
    "s3"
   ]
  },
  {
   "cell_type": "code",
   "execution_count": 17,
   "id": "b33140b3",
   "metadata": {},
   "outputs": [
    {
     "data": {
      "text/plain": [
       "0    Nourah\n",
       "1     Sarah\n",
       "2     Ahmed\n",
       "dtype: object"
      ]
     },
     "execution_count": 17,
     "metadata": {},
     "output_type": "execute_result"
    }
   ],
   "source": [
    "s3[:-1] # from 0 to last item(execluded)"
   ]
  },
  {
   "cell_type": "code",
   "execution_count": 18,
   "id": "452a6ed8-fe3e-4857-8444-61c4dd7de96a",
   "metadata": {},
   "outputs": [
    {
     "data": {
      "text/plain": [
       "0    Nourah\n",
       "1     Sarah\n",
       "2     Ahmed\n",
       "3      Lama\n",
       "dtype: object"
      ]
     },
     "execution_count": 18,
     "metadata": {},
     "output_type": "execute_result"
    }
   ],
   "source": [
    "s3"
   ]
  },
  {
   "cell_type": "code",
   "execution_count": 19,
   "id": "81fcd941-fe63-4623-b505-23bb27a2b3a7",
   "metadata": {},
   "outputs": [
    {
     "data": {
      "text/plain": [
       "0    Nourah\n",
       "1     Sarah\n",
       "2     Ahmed\n",
       "3      Lama\n",
       "0      Naif\n",
       "1     Dania\n",
       "dtype: object"
      ]
     },
     "execution_count": 19,
     "metadata": {},
     "output_type": "execute_result"
    }
   ],
   "source": [
    "s4 = pd.Series(['Naif','Dania'])\n",
    "s3 = s3._append(s4)\n",
    "s3"
   ]
  },
  {
   "cell_type": "code",
   "execution_count": 20,
   "id": "e87100eb-334a-40d3-a83a-f72f6dc253aa",
   "metadata": {},
   "outputs": [
    {
     "data": {
      "text/plain": [
       "0    Nourah\n",
       "0      Naif\n",
       "dtype: object"
      ]
     },
     "execution_count": 20,
     "metadata": {},
     "output_type": "execute_result"
    }
   ],
   "source": [
    "s3[0]"
   ]
  },
  {
   "cell_type": "code",
   "execution_count": 21,
   "id": "1c664ec5-1cd4-4982-9368-0bd83342fe89",
   "metadata": {},
   "outputs": [
    {
     "data": {
      "text/plain": [
       "{0: 'Naif', 1: 'Dania', 2: 'Ahmed', 3: 'Lama'}"
      ]
     },
     "execution_count": 21,
     "metadata": {},
     "output_type": "execute_result"
    }
   ],
   "source": [
    "s3.to_dict()"
   ]
  },
  {
   "cell_type": "code",
   "execution_count": 22,
   "id": "1a9360ac",
   "metadata": {},
   "outputs": [
    {
     "data": {
      "text/plain": [
       "0     Nourah\n",
       "1      Sarah\n",
       "2      Ahmed\n",
       "3       Lama\n",
       "0       Naif\n",
       "1      Dania\n",
       "50      Naif\n",
       "60     Dania\n",
       "dtype: object"
      ]
     },
     "execution_count": 22,
     "metadata": {},
     "output_type": "execute_result"
    }
   ],
   "source": [
    "# Add elements \n",
    "s4 = pd.Series({50: 'Naif', 60: 'Dania'})\n",
    "s3 = s3._append(s4)\n",
    "s3"
   ]
  },
  {
   "cell_type": "code",
   "execution_count": 23,
   "id": "5ff63aa6",
   "metadata": {},
   "outputs": [],
   "source": [
    "x = pd.Series(['a', 'b'])\n",
    "y = pd.Series(['c', 'd'])"
   ]
  },
  {
   "cell_type": "code",
   "execution_count": 24,
   "id": "2c5dca48-0738-4591-99ba-0b2cd60672c1",
   "metadata": {},
   "outputs": [
    {
     "data": {
      "text/plain": [
       "0    a\n",
       "1    b\n",
       "dtype: object"
      ]
     },
     "execution_count": 24,
     "metadata": {},
     "output_type": "execute_result"
    }
   ],
   "source": [
    "x"
   ]
  },
  {
   "cell_type": "code",
   "execution_count": 25,
   "id": "fcc1dc03-f90f-4fc3-af10-15be6558c249",
   "metadata": {},
   "outputs": [
    {
     "data": {
      "text/plain": [
       "0    c\n",
       "1    d\n",
       "dtype: object"
      ]
     },
     "execution_count": 25,
     "metadata": {},
     "output_type": "execute_result"
    }
   ],
   "source": [
    "y"
   ]
  },
  {
   "cell_type": "code",
   "execution_count": 26,
   "id": "41fda587-2fed-460b-8744-8dc135eebeac",
   "metadata": {},
   "outputs": [
    {
     "data": {
      "text/plain": [
       "0    a\n",
       "1    b\n",
       "0    c\n",
       "1    d\n",
       "dtype: object"
      ]
     },
     "execution_count": 26,
     "metadata": {},
     "output_type": "execute_result"
    }
   ],
   "source": [
    "z = pd.concat([x, y])\n",
    "z"
   ]
  },
  {
   "cell_type": "code",
   "execution_count": 27,
   "id": "a666c600-6efa-4314-b52a-638561da8fc5",
   "metadata": {},
   "outputs": [
    {
     "data": {
      "text/plain": [
       "0    a\n",
       "1    b\n",
       "2    c\n",
       "3    d\n",
       "dtype: object"
      ]
     },
     "execution_count": 27,
     "metadata": {},
     "output_type": "execute_result"
    }
   ],
   "source": [
    "z.reset_index(inplace=True, drop=True)\n",
    "z"
   ]
  },
  {
   "cell_type": "code",
   "execution_count": 28,
   "id": "c374926c-1624-4746-b1b2-556665cf8fa4",
   "metadata": {},
   "outputs": [
    {
     "data": {
      "text/plain": [
       "0    a\n",
       "1    b\n",
       "2    c\n",
       "3    d\n",
       "dtype: object"
      ]
     },
     "execution_count": 28,
     "metadata": {},
     "output_type": "execute_result"
    }
   ],
   "source": [
    "z = z.reset_index(drop=True)\n",
    "z"
   ]
  },
  {
   "cell_type": "code",
   "execution_count": 29,
   "id": "48b919b6-4c68-4749-90aa-9bc545986f27",
   "metadata": {},
   "outputs": [
    {
     "data": {
      "text/plain": [
       "0    a\n",
       "1    b\n",
       "2    c\n",
       "3    d\n",
       "dtype: object"
      ]
     },
     "execution_count": 29,
     "metadata": {},
     "output_type": "execute_result"
    }
   ],
   "source": [
    "z"
   ]
  },
  {
   "cell_type": "code",
   "execution_count": 30,
   "id": "4297e594",
   "metadata": {},
   "outputs": [
    {
     "data": {
      "text/plain": [
       "0    a\n",
       "1    b\n",
       "2    c\n",
       "3    d\n",
       "dtype: object"
      ]
     },
     "execution_count": 30,
     "metadata": {},
     "output_type": "execute_result"
    }
   ],
   "source": [
    "z = pd.concat([x, y],ignore_index=True )\n",
    "z"
   ]
  },
  {
   "cell_type": "code",
   "execution_count": 31,
   "id": "27a40040-758c-4895-a1f9-a332c33918a3",
   "metadata": {},
   "outputs": [
    {
     "data": {
      "text/plain": [
       "0     Nourah\n",
       "1      Sarah\n",
       "2      Ahmed\n",
       "3       Lama\n",
       "0       Naif\n",
       "1      Dania\n",
       "50      Naif\n",
       "60     Dania\n",
       "dtype: object"
      ]
     },
     "execution_count": 31,
     "metadata": {},
     "output_type": "execute_result"
    }
   ],
   "source": [
    "s3"
   ]
  },
  {
   "cell_type": "code",
   "execution_count": 32,
   "id": "cb89aa6f-e1eb-42d6-b988-d96bcd70f07c",
   "metadata": {},
   "outputs": [
    {
     "data": {
      "text/plain": [
       "1    Sarah\n",
       "2    Ahmed\n",
       "3     Lama\n",
       "dtype: object"
      ]
     },
     "execution_count": 32,
     "metadata": {},
     "output_type": "execute_result"
    }
   ],
   "source": [
    "s3[1:4]"
   ]
  },
  {
   "cell_type": "code",
   "execution_count": 33,
   "id": "f9d82147-032d-44ac-847d-4d57f042f7ef",
   "metadata": {},
   "outputs": [
    {
     "data": {
      "text/plain": [
       "Index([1, 2, 3], dtype='int64')"
      ]
     },
     "execution_count": 33,
     "metadata": {},
     "output_type": "execute_result"
    }
   ],
   "source": [
    "s3[1:4].index"
   ]
  },
  {
   "cell_type": "code",
   "execution_count": 34,
   "id": "a20b9d4d-c120-4a17-b712-27768b271ea4",
   "metadata": {},
   "outputs": [
    {
     "data": {
      "text/plain": [
       "0     Nourah\n",
       "0       Naif\n",
       "50      Naif\n",
       "60     Dania\n",
       "dtype: object"
      ]
     },
     "execution_count": 34,
     "metadata": {},
     "output_type": "execute_result"
    }
   ],
   "source": [
    "s3.drop(index=s3[1:4].index)"
   ]
  },
  {
   "cell_type": "code",
   "execution_count": 35,
   "id": "dbb5229a-833a-4745-9802-1a896a083297",
   "metadata": {},
   "outputs": [
    {
     "data": {
      "text/plain": [
       "0     Nourah\n",
       "1      Sarah\n",
       "2      Ahmed\n",
       "3       Lama\n",
       "0       Naif\n",
       "1      Dania\n",
       "50      Naif\n",
       "60     Dania\n",
       "dtype: object"
      ]
     },
     "execution_count": 35,
     "metadata": {},
     "output_type": "execute_result"
    }
   ],
   "source": [
    "s3"
   ]
  },
  {
   "cell_type": "code",
   "execution_count": 36,
   "id": "cd890f6a",
   "metadata": {},
   "outputs": [],
   "source": [
    "# delete an element \n",
    "s3 = s3.drop(s3[:1].index)"
   ]
  },
  {
   "cell_type": "code",
   "execution_count": 37,
   "id": "1da4d53d-6467-4b03-8d0b-934fd74a413a",
   "metadata": {},
   "outputs": [
    {
     "data": {
      "text/plain": [
       "1    Sarah\n",
       "dtype: object"
      ]
     },
     "execution_count": 37,
     "metadata": {},
     "output_type": "execute_result"
    }
   ],
   "source": [
    "s3[:1]"
   ]
  },
  {
   "cell_type": "code",
   "execution_count": 38,
   "id": "634912a1",
   "metadata": {},
   "outputs": [
    {
     "data": {
      "text/plain": [
       "1     Sarah\n",
       "2     Ahmed\n",
       "3      Lama\n",
       "1     Dania\n",
       "50     Naif\n",
       "60    Dania\n",
       "dtype: object"
      ]
     },
     "execution_count": 38,
     "metadata": {},
     "output_type": "execute_result"
    }
   ],
   "source": [
    "s3"
   ]
  },
  {
   "cell_type": "code",
   "execution_count": 39,
   "id": "4a75d40a",
   "metadata": {},
   "outputs": [
    {
     "data": {
      "text/plain": [
       "1     Sarah\n",
       "2     Ahmed\n",
       "3      Lama\n",
       "1     Dania\n",
       "50     Naif\n",
       "dtype: object"
      ]
     },
     "execution_count": 39,
     "metadata": {},
     "output_type": "execute_result"
    }
   ],
   "source": [
    "# drop duplicate elements\n",
    "s3 = s3.drop_duplicates()\n",
    "s3"
   ]
  },
  {
   "cell_type": "code",
   "execution_count": 40,
   "id": "02fe974c",
   "metadata": {},
   "outputs": [
    {
     "data": {
      "text/plain": [
       "A    1\n",
       "B    2\n",
       "C    3\n",
       "D    4\n",
       "E    5\n",
       "dtype: int64"
      ]
     },
     "execution_count": 40,
     "metadata": {},
     "output_type": "execute_result"
    }
   ],
   "source": [
    "s"
   ]
  },
  {
   "cell_type": "code",
   "execution_count": null,
   "id": "07f2d55e-0edf-4b5f-9b88-38997e985d61",
   "metadata": {},
   "outputs": [],
   "source": []
  },
  {
   "cell_type": "code",
   "execution_count": 41,
   "id": "1fdb4cf4",
   "metadata": {},
   "outputs": [
    {
     "data": {
      "text/plain": [
       "A    1\n",
       "B    2\n",
       "C    3\n",
       "D    4\n",
       "E    5\n",
       "dtype: int64"
      ]
     },
     "execution_count": 41,
     "metadata": {},
     "output_type": "execute_result"
    }
   ],
   "source": [
    "s4 = s.copy()\n",
    "s4"
   ]
  },
  {
   "cell_type": "code",
   "execution_count": 42,
   "id": "0285d337",
   "metadata": {},
   "outputs": [
    {
     "data": {
      "text/plain": [
       "A    4\n",
       "B    5\n",
       "C    6\n",
       "D    7\n",
       "E    8\n",
       "dtype: int64"
      ]
     },
     "execution_count": 42,
     "metadata": {},
     "output_type": "execute_result"
    }
   ],
   "source": [
    "s4 = s4+3\n",
    "s4"
   ]
  },
  {
   "cell_type": "code",
   "execution_count": null,
   "id": "1d7250f3-e728-4272-93aa-bdd4c98b6f1d",
   "metadata": {},
   "outputs": [],
   "source": []
  },
  {
   "cell_type": "code",
   "execution_count": 43,
   "id": "f12a7438",
   "metadata": {},
   "outputs": [
    {
     "data": {
      "text/plain": [
       "A     5\n",
       "B     7\n",
       "C     9\n",
       "D    11\n",
       "E    13\n",
       "dtype: int64"
      ]
     },
     "execution_count": 43,
     "metadata": {},
     "output_type": "execute_result"
    }
   ],
   "source": [
    "s4.add(s)"
   ]
  },
  {
   "cell_type": "code",
   "execution_count": 44,
   "id": "a30bca00-4cea-436b-ae70-742def283824",
   "metadata": {},
   "outputs": [
    {
     "data": {
      "text/plain": [
       "A    1\n",
       "B    2\n",
       "C    3\n",
       "D    4\n",
       "E    5\n",
       "dtype: int64"
      ]
     },
     "execution_count": 44,
     "metadata": {},
     "output_type": "execute_result"
    }
   ],
   "source": [
    "s"
   ]
  },
  {
   "cell_type": "code",
   "execution_count": 45,
   "id": "0757da3c-8757-4584-8dde-39a743a7c101",
   "metadata": {},
   "outputs": [
    {
     "data": {
      "text/plain": [
       "A    1\n",
       "B    2\n",
       "C    3\n",
       "D    4\n",
       "E    5\n",
       "dtype: int64"
      ]
     },
     "execution_count": 45,
     "metadata": {},
     "output_type": "execute_result"
    }
   ],
   "source": [
    "s"
   ]
  },
  {
   "cell_type": "code",
   "execution_count": 46,
   "id": "359fd5ba",
   "metadata": {},
   "outputs": [
    {
     "data": {
      "text/plain": [
       "A    6\n",
       "B    8\n",
       "dtype: int64"
      ]
     },
     "execution_count": 46,
     "metadata": {},
     "output_type": "execute_result"
    }
   ],
   "source": [
    "s5 = pd.Series({'A': 6, 'B': 8})\n",
    "s5"
   ]
  },
  {
   "cell_type": "code",
   "execution_count": 47,
   "id": "aad83b0b-6a17-48a0-a25c-1eea4d93f488",
   "metadata": {},
   "outputs": [],
   "source": [
    "s5 = s5.add(s, fill_value=0)"
   ]
  },
  {
   "cell_type": "code",
   "execution_count": 48,
   "id": "189fd606",
   "metadata": {},
   "outputs": [
    {
     "data": {
      "text/plain": [
       "A     7.0\n",
       "B    10.0\n",
       "C     3.0\n",
       "D     4.0\n",
       "E     5.0\n",
       "dtype: float64"
      ]
     },
     "execution_count": 48,
     "metadata": {},
     "output_type": "execute_result"
    }
   ],
   "source": [
    "s5 # you have to save the result"
   ]
  },
  {
   "cell_type": "code",
   "execution_count": 49,
   "id": "2d61ec40-e717-49f2-a3fa-d88701d75955",
   "metadata": {},
   "outputs": [
    {
     "data": {
      "text/plain": [
       "A    4\n",
       "B    5\n",
       "C    6\n",
       "D    7\n",
       "E    8\n",
       "dtype: int64"
      ]
     },
     "execution_count": 49,
     "metadata": {},
     "output_type": "execute_result"
    }
   ],
   "source": [
    "s4"
   ]
  },
  {
   "cell_type": "code",
   "execution_count": 50,
   "id": "a1cc30a2",
   "metadata": {},
   "outputs": [
    {
     "data": {
      "text/plain": [
       "A    3\n",
       "B    3\n",
       "C    3\n",
       "D    3\n",
       "E    3\n",
       "dtype: int64"
      ]
     },
     "execution_count": 50,
     "metadata": {},
     "output_type": "execute_result"
    }
   ],
   "source": [
    "s4.sub(s)"
   ]
  },
  {
   "cell_type": "code",
   "execution_count": 51,
   "id": "8c12c3e1",
   "metadata": {},
   "outputs": [
    {
     "data": {
      "text/plain": [
       "A     4\n",
       "B    10\n",
       "C    18\n",
       "D    28\n",
       "E    40\n",
       "dtype: int64"
      ]
     },
     "execution_count": 51,
     "metadata": {},
     "output_type": "execute_result"
    }
   ],
   "source": [
    "s4.mul(s)"
   ]
  },
  {
   "cell_type": "code",
   "execution_count": 52,
   "id": "8d3b5191",
   "metadata": {},
   "outputs": [
    {
     "data": {
      "text/plain": [
       "A    4.00\n",
       "B    2.50\n",
       "C    2.00\n",
       "D    1.75\n",
       "E    1.60\n",
       "dtype: float64"
      ]
     },
     "execution_count": 52,
     "metadata": {},
     "output_type": "execute_result"
    }
   ],
   "source": [
    "s4.div(s)"
   ]
  },
  {
   "cell_type": "markdown",
   "id": "d3344287",
   "metadata": {},
   "source": [
    "## Second: DataFrame"
   ]
  },
  {
   "cell_type": "markdown",
   "id": "ba3ae296",
   "metadata": {},
   "source": [
    "### A- Creating a new DataFrame from the scratch"
   ]
  },
  {
   "cell_type": "code",
   "execution_count": null,
   "id": "e309621b-17b6-4560-b61f-4d7e06a719a3",
   "metadata": {},
   "outputs": [],
   "source": [
    "s4 = pd.Series({50: 'Naif', 60: 'Dania'})"
   ]
  },
  {
   "cell_type": "code",
   "execution_count": 55,
   "id": "99f948c0",
   "metadata": {},
   "outputs": [
    {
     "data": {
      "text/html": [
       "<div>\n",
       "<style scoped>\n",
       "    .dataframe tbody tr th:only-of-type {\n",
       "        vertical-align: middle;\n",
       "    }\n",
       "\n",
       "    .dataframe tbody tr th {\n",
       "        vertical-align: top;\n",
       "    }\n",
       "\n",
       "    .dataframe thead th {\n",
       "        text-align: right;\n",
       "    }\n",
       "</style>\n",
       "<table border=\"1\" class=\"dataframe\">\n",
       "  <thead>\n",
       "    <tr style=\"text-align: right;\">\n",
       "      <th></th>\n",
       "      <th>SalesPerson</th>\n",
       "      <th>Region</th>\n",
       "      <th>OrderAmount</th>\n",
       "      <th>Month</th>\n",
       "      <th>isAccepted</th>\n",
       "    </tr>\n",
       "  </thead>\n",
       "  <tbody>\n",
       "    <tr>\n",
       "      <th>10</th>\n",
       "      <td>Kathey</td>\n",
       "      <td>East</td>\n",
       "      <td>600</td>\n",
       "      <td>Jan</td>\n",
       "      <td>True</td>\n",
       "    </tr>\n",
       "    <tr>\n",
       "      <th>11</th>\n",
       "      <td>Michael</td>\n",
       "      <td>West</td>\n",
       "      <td>700</td>\n",
       "      <td>Feb</td>\n",
       "      <td>False</td>\n",
       "    </tr>\n",
       "    <tr>\n",
       "      <th>12</th>\n",
       "      <td>William</td>\n",
       "      <td>North</td>\n",
       "      <td>400</td>\n",
       "      <td>Feb</td>\n",
       "      <td>False</td>\n",
       "    </tr>\n",
       "    <tr>\n",
       "      <th>13</th>\n",
       "      <td>Kathey</td>\n",
       "      <td>South</td>\n",
       "      <td>500</td>\n",
       "      <td>Mar</td>\n",
       "      <td>True</td>\n",
       "    </tr>\n",
       "    <tr>\n",
       "      <th>14</th>\n",
       "      <td>William</td>\n",
       "      <td>North</td>\n",
       "      <td>400</td>\n",
       "      <td>May</td>\n",
       "      <td>True</td>\n",
       "    </tr>\n",
       "    <tr>\n",
       "      <th>15</th>\n",
       "      <td>Kathey</td>\n",
       "      <td>North</td>\n",
       "      <td>700</td>\n",
       "      <td>Apr</td>\n",
       "      <td>True</td>\n",
       "    </tr>\n",
       "    <tr>\n",
       "      <th>16</th>\n",
       "      <td>Michael</td>\n",
       "      <td>East</td>\n",
       "      <td>800</td>\n",
       "      <td>May</td>\n",
       "      <td>False</td>\n",
       "    </tr>\n",
       "  </tbody>\n",
       "</table>\n",
       "</div>"
      ],
      "text/plain": [
       "   SalesPerson Region  OrderAmount Month  isAccepted\n",
       "10      Kathey   East          600   Jan        True\n",
       "11     Michael   West          700   Feb       False\n",
       "12     William  North          400   Feb       False\n",
       "13      Kathey  South          500   Mar        True\n",
       "14     William  North          400   May        True\n",
       "15      Kathey  North          700   Apr        True\n",
       "16     Michael   East          800   May       False"
      ]
     },
     "execution_count": 55,
     "metadata": {},
     "output_type": "execute_result"
    }
   ],
   "source": [
    "data = {'SalesPerson': ['Kathey', 'Michael', 'William', 'Kathey', 'William', 'Kathey', 'Michael'],\n",
    "        'Region': ['East', 'West', 'North', 'South', 'North', 'North', 'East'],\n",
    "        'OrderAmount': [600, 700, 400, 500, 400, 700, 800],\n",
    "        'Month': ['Jan', 'Feb', 'Feb', 'Mar', 'May', 'Apr', 'May'],\n",
    "        'isAccepted': [True, False, False, True, True, True, False]\n",
    "       }\n",
    "\n",
    "SalesDF = pd.DataFrame(data, index= range(10, 17))\n",
    "SalesDF   "
   ]
  },
  {
   "cell_type": "code",
   "execution_count": 59,
   "id": "47b90429-a683-4942-bf27-ac5e8a4d758c",
   "metadata": {},
   "outputs": [
    {
     "data": {
      "text/html": [
       "<div>\n",
       "<style scoped>\n",
       "    .dataframe tbody tr th:only-of-type {\n",
       "        vertical-align: middle;\n",
       "    }\n",
       "\n",
       "    .dataframe tbody tr th {\n",
       "        vertical-align: top;\n",
       "    }\n",
       "\n",
       "    .dataframe thead th {\n",
       "        text-align: right;\n",
       "    }\n",
       "</style>\n",
       "<table border=\"1\" class=\"dataframe\">\n",
       "  <thead>\n",
       "    <tr style=\"text-align: right;\">\n",
       "      <th></th>\n",
       "      <th>SalesPerson</th>\n",
       "    </tr>\n",
       "  </thead>\n",
       "  <tbody>\n",
       "    <tr>\n",
       "      <th>10</th>\n",
       "      <td>Kathey</td>\n",
       "    </tr>\n",
       "    <tr>\n",
       "      <th>11</th>\n",
       "      <td>Michael</td>\n",
       "    </tr>\n",
       "    <tr>\n",
       "      <th>12</th>\n",
       "      <td>William</td>\n",
       "    </tr>\n",
       "    <tr>\n",
       "      <th>13</th>\n",
       "      <td>Kathey</td>\n",
       "    </tr>\n",
       "    <tr>\n",
       "      <th>14</th>\n",
       "      <td>William</td>\n",
       "    </tr>\n",
       "    <tr>\n",
       "      <th>15</th>\n",
       "      <td>Kathey</td>\n",
       "    </tr>\n",
       "    <tr>\n",
       "      <th>16</th>\n",
       "      <td>Michael</td>\n",
       "    </tr>\n",
       "  </tbody>\n",
       "</table>\n",
       "</div>"
      ],
      "text/plain": [
       "   SalesPerson\n",
       "10      Kathey\n",
       "11     Michael\n",
       "12     William\n",
       "13      Kathey\n",
       "14     William\n",
       "15      Kathey\n",
       "16     Michael"
      ]
     },
     "execution_count": 59,
     "metadata": {},
     "output_type": "execute_result"
    }
   ],
   "source": [
    "SalesDF[['SalesPerson']]"
   ]
  },
  {
   "cell_type": "code",
   "execution_count": 60,
   "id": "dc72ac1c",
   "metadata": {},
   "outputs": [
    {
     "data": {
      "text/html": [
       "<div>\n",
       "<style scoped>\n",
       "    .dataframe tbody tr th:only-of-type {\n",
       "        vertical-align: middle;\n",
       "    }\n",
       "\n",
       "    .dataframe tbody tr th {\n",
       "        vertical-align: top;\n",
       "    }\n",
       "\n",
       "    .dataframe thead th {\n",
       "        text-align: right;\n",
       "    }\n",
       "</style>\n",
       "<table border=\"1\" class=\"dataframe\">\n",
       "  <thead>\n",
       "    <tr style=\"text-align: right;\">\n",
       "      <th></th>\n",
       "      <th>year</th>\n",
       "      <th>team</th>\n",
       "      <th>wins</th>\n",
       "      <th>draws</th>\n",
       "      <th>losses</th>\n",
       "    </tr>\n",
       "  </thead>\n",
       "  <tbody>\n",
       "    <tr>\n",
       "      <th>0</th>\n",
       "      <td>2010</td>\n",
       "      <td>FCBarcelona</td>\n",
       "      <td>30</td>\n",
       "      <td>6</td>\n",
       "      <td>2</td>\n",
       "    </tr>\n",
       "    <tr>\n",
       "      <th>1</th>\n",
       "      <td>2011</td>\n",
       "      <td>FCBarcelona</td>\n",
       "      <td>28</td>\n",
       "      <td>7</td>\n",
       "      <td>3</td>\n",
       "    </tr>\n",
       "    <tr>\n",
       "      <th>2</th>\n",
       "      <td>2012</td>\n",
       "      <td>FCBarcelona</td>\n",
       "      <td>32</td>\n",
       "      <td>4</td>\n",
       "      <td>2</td>\n",
       "    </tr>\n",
       "    <tr>\n",
       "      <th>3</th>\n",
       "      <td>2010</td>\n",
       "      <td>RMadrid</td>\n",
       "      <td>29</td>\n",
       "      <td>5</td>\n",
       "      <td>4</td>\n",
       "    </tr>\n",
       "    <tr>\n",
       "      <th>4</th>\n",
       "      <td>2011</td>\n",
       "      <td>RMadrid</td>\n",
       "      <td>32</td>\n",
       "      <td>4</td>\n",
       "      <td>2</td>\n",
       "    </tr>\n",
       "    <tr>\n",
       "      <th>5</th>\n",
       "      <td>2012</td>\n",
       "      <td>RMadrid</td>\n",
       "      <td>26</td>\n",
       "      <td>7</td>\n",
       "      <td>5</td>\n",
       "    </tr>\n",
       "    <tr>\n",
       "      <th>6</th>\n",
       "      <td>2010</td>\n",
       "      <td>ValenciaCF</td>\n",
       "      <td>21</td>\n",
       "      <td>8</td>\n",
       "      <td>9</td>\n",
       "    </tr>\n",
       "    <tr>\n",
       "      <th>7</th>\n",
       "      <td>2011</td>\n",
       "      <td>ValenciaCF</td>\n",
       "      <td>17</td>\n",
       "      <td>10</td>\n",
       "      <td>11</td>\n",
       "    </tr>\n",
       "    <tr>\n",
       "      <th>8</th>\n",
       "      <td>2012</td>\n",
       "      <td>ValenciaCF</td>\n",
       "      <td>19</td>\n",
       "      <td>8</td>\n",
       "      <td>11</td>\n",
       "    </tr>\n",
       "  </tbody>\n",
       "</table>\n",
       "</div>"
      ],
      "text/plain": [
       "   year         team  wins  draws  losses\n",
       "0  2010  FCBarcelona    30      6       2\n",
       "1  2011  FCBarcelona    28      7       3\n",
       "2  2012  FCBarcelona    32      4       2\n",
       "3  2010      RMadrid    29      5       4\n",
       "4  2011      RMadrid    32      4       2\n",
       "5  2012      RMadrid    26      7       5\n",
       "6  2010   ValenciaCF    21      8       9\n",
       "7  2011   ValenciaCF    17     10      11\n",
       "8  2012   ValenciaCF    19      8      11"
      ]
     },
     "execution_count": 60,
     "metadata": {},
     "output_type": "execute_result"
    }
   ],
   "source": [
    "data = {'year': [2010, 2011, 2012, 2010, 2011, 2012, 2010, 2011, 2012],\n",
    "        'team': ['FCBarcelona', 'FCBarcelona', 'FCBarcelona', 'RMadrid', 'RMadrid', 'RMadrid', 'ValenciaCF',\n",
    "                 'ValenciaCF', 'ValenciaCF'],\n",
    "        'wins':   [30, 28, 32, 29, 32, 26, 21, 17, 19],\n",
    "        'draws':  [6, 7, 4, 5, 4, 7, 8, 10, 8],\n",
    "        'losses': [2, 3, 2, 4, 2, 5, 9, 11, 11]}\n",
    "\n",
    "football = pd.DataFrame(data)\n",
    "football   "
   ]
  },
  {
   "cell_type": "markdown",
   "id": "19fd01d2",
   "metadata": {},
   "source": [
    "### B- Reading tabular data"
   ]
  },
  {
   "cell_type": "code",
   "execution_count": 61,
   "id": "5eec50b0",
   "metadata": {},
   "outputs": [
    {
     "data": {
      "text/html": [
       "<div>\n",
       "<style scoped>\n",
       "    .dataframe tbody tr th:only-of-type {\n",
       "        vertical-align: middle;\n",
       "    }\n",
       "\n",
       "    .dataframe tbody tr th {\n",
       "        vertical-align: top;\n",
       "    }\n",
       "\n",
       "    .dataframe thead th {\n",
       "        text-align: right;\n",
       "    }\n",
       "</style>\n",
       "<table border=\"1\" class=\"dataframe\">\n",
       "  <thead>\n",
       "    <tr style=\"text-align: right;\">\n",
       "      <th></th>\n",
       "      <th>TIME</th>\n",
       "      <th>GEO</th>\n",
       "      <th>INDIC_ED</th>\n",
       "      <th>Value</th>\n",
       "      <th>Flag and Footnotes</th>\n",
       "    </tr>\n",
       "  </thead>\n",
       "  <tbody>\n",
       "    <tr>\n",
       "      <th>0</th>\n",
       "      <td>2000</td>\n",
       "      <td>European Union (28 countries)</td>\n",
       "      <td>Total public expenditure on education as % of ...</td>\n",
       "      <td>:</td>\n",
       "      <td>NaN</td>\n",
       "    </tr>\n",
       "    <tr>\n",
       "      <th>1</th>\n",
       "      <td>2001</td>\n",
       "      <td>European Union (28 countries)</td>\n",
       "      <td>Total public expenditure on education as % of ...</td>\n",
       "      <td>:</td>\n",
       "      <td>NaN</td>\n",
       "    </tr>\n",
       "    <tr>\n",
       "      <th>2</th>\n",
       "      <td>2002</td>\n",
       "      <td>European Union (28 countries)</td>\n",
       "      <td>Total public expenditure on education as % of ...</td>\n",
       "      <td>5.00</td>\n",
       "      <td>e</td>\n",
       "    </tr>\n",
       "    <tr>\n",
       "      <th>3</th>\n",
       "      <td>2003</td>\n",
       "      <td>European Union (28 countries)</td>\n",
       "      <td>Total public expenditure on education as % of ...</td>\n",
       "      <td>5.03</td>\n",
       "      <td>e</td>\n",
       "    </tr>\n",
       "    <tr>\n",
       "      <th>4</th>\n",
       "      <td>2004</td>\n",
       "      <td>European Union (28 countries)</td>\n",
       "      <td>Total public expenditure on education as % of ...</td>\n",
       "      <td>4.95</td>\n",
       "      <td>e</td>\n",
       "    </tr>\n",
       "    <tr>\n",
       "      <th>...</th>\n",
       "      <td>...</td>\n",
       "      <td>...</td>\n",
       "      <td>...</td>\n",
       "      <td>...</td>\n",
       "      <td>...</td>\n",
       "    </tr>\n",
       "    <tr>\n",
       "      <th>379</th>\n",
       "      <td>2007</td>\n",
       "      <td>Finland</td>\n",
       "      <td>Total public expenditure on education as % of ...</td>\n",
       "      <td>5.90</td>\n",
       "      <td>NaN</td>\n",
       "    </tr>\n",
       "    <tr>\n",
       "      <th>380</th>\n",
       "      <td>2008</td>\n",
       "      <td>Finland</td>\n",
       "      <td>Total public expenditure on education as % of ...</td>\n",
       "      <td>6.10</td>\n",
       "      <td>NaN</td>\n",
       "    </tr>\n",
       "    <tr>\n",
       "      <th>381</th>\n",
       "      <td>2009</td>\n",
       "      <td>Finland</td>\n",
       "      <td>Total public expenditure on education as % of ...</td>\n",
       "      <td>6.81</td>\n",
       "      <td>NaN</td>\n",
       "    </tr>\n",
       "    <tr>\n",
       "      <th>382</th>\n",
       "      <td>2010</td>\n",
       "      <td>Finland</td>\n",
       "      <td>Total public expenditure on education as % of ...</td>\n",
       "      <td>6.85</td>\n",
       "      <td>NaN</td>\n",
       "    </tr>\n",
       "    <tr>\n",
       "      <th>383</th>\n",
       "      <td>2011</td>\n",
       "      <td>Finland</td>\n",
       "      <td>Total public expenditure on education as % of ...</td>\n",
       "      <td>6.76</td>\n",
       "      <td>NaN</td>\n",
       "    </tr>\n",
       "  </tbody>\n",
       "</table>\n",
       "<p>384 rows × 5 columns</p>\n",
       "</div>"
      ],
      "text/plain": [
       "     TIME                            GEO  \\\n",
       "0    2000  European Union (28 countries)   \n",
       "1    2001  European Union (28 countries)   \n",
       "2    2002  European Union (28 countries)   \n",
       "3    2003  European Union (28 countries)   \n",
       "4    2004  European Union (28 countries)   \n",
       "..    ...                            ...   \n",
       "379  2007                        Finland   \n",
       "380  2008                        Finland   \n",
       "381  2009                        Finland   \n",
       "382  2010                        Finland   \n",
       "383  2011                        Finland   \n",
       "\n",
       "                                              INDIC_ED Value  \\\n",
       "0    Total public expenditure on education as % of ...     :   \n",
       "1    Total public expenditure on education as % of ...     :   \n",
       "2    Total public expenditure on education as % of ...  5.00   \n",
       "3    Total public expenditure on education as % of ...  5.03   \n",
       "4    Total public expenditure on education as % of ...  4.95   \n",
       "..                                                 ...   ...   \n",
       "379  Total public expenditure on education as % of ...  5.90   \n",
       "380  Total public expenditure on education as % of ...  6.10   \n",
       "381  Total public expenditure on education as % of ...  6.81   \n",
       "382  Total public expenditure on education as % of ...  6.85   \n",
       "383  Total public expenditure on education as % of ...  6.76   \n",
       "\n",
       "    Flag and Footnotes  \n",
       "0                  NaN  \n",
       "1                  NaN  \n",
       "2                    e  \n",
       "3                    e  \n",
       "4                    e  \n",
       "..                 ...  \n",
       "379                NaN  \n",
       "380                NaN  \n",
       "381                NaN  \n",
       "382                NaN  \n",
       "383                NaN  \n",
       "\n",
       "[384 rows x 5 columns]"
      ]
     },
     "execution_count": 61,
     "metadata": {},
     "output_type": "execute_result"
    }
   ],
   "source": [
    "edu = pd.read_csv('Data/educ_figdp_1_Data.csv')\n",
    "edu"
   ]
  },
  {
   "cell_type": "code",
   "execution_count": 62,
   "id": "53b9c649-839b-4b70-a5a2-6aabd17ed0c3",
   "metadata": {},
   "outputs": [
    {
     "data": {
      "text/plain": [
       "(384, 5)"
      ]
     },
     "execution_count": 62,
     "metadata": {},
     "output_type": "execute_result"
    }
   ],
   "source": [
    "edu.shape"
   ]
  },
  {
   "cell_type": "code",
   "execution_count": 63,
   "id": "5a7e2043-3ce6-440d-ba0f-b6c4c9bb534c",
   "metadata": {},
   "outputs": [
    {
     "data": {
      "text/plain": [
       "Index(['TIME', 'GEO', 'INDIC_ED', 'Value', 'Flag and Footnotes'], dtype='object')"
      ]
     },
     "execution_count": 63,
     "metadata": {},
     "output_type": "execute_result"
    }
   ],
   "source": [
    "edu.columns"
   ]
  },
  {
   "cell_type": "code",
   "execution_count": 64,
   "id": "4fa99164-252e-4e8c-b9b0-01a318f857ee",
   "metadata": {},
   "outputs": [
    {
     "data": {
      "text/plain": [
       "1920"
      ]
     },
     "execution_count": 64,
     "metadata": {},
     "output_type": "execute_result"
    }
   ],
   "source": [
    "edu.size"
   ]
  },
  {
   "cell_type": "code",
   "execution_count": 66,
   "id": "38c4ef49-8c15-410f-970f-2a4d193de88e",
   "metadata": {},
   "outputs": [
    {
     "data": {
      "text/plain": [
       "pandas.core.frame.DataFrame"
      ]
     },
     "execution_count": 66,
     "metadata": {},
     "output_type": "execute_result"
    }
   ],
   "source": [
    "type(edu)"
   ]
  },
  {
   "cell_type": "code",
   "execution_count": 65,
   "id": "bb8768d7",
   "metadata": {},
   "outputs": [
    {
     "data": {
      "text/plain": [
       "TIME                   int64\n",
       "GEO                   object\n",
       "INDIC_ED              object\n",
       "Value                 object\n",
       "Flag and Footnotes    object\n",
       "dtype: object"
      ]
     },
     "execution_count": 65,
     "metadata": {},
     "output_type": "execute_result"
    }
   ],
   "source": [
    "edu.dtypes"
   ]
  },
  {
   "cell_type": "markdown",
   "id": "18043292",
   "metadata": {},
   "source": [
    "# Viewing Data"
   ]
  },
  {
   "cell_type": "code",
   "execution_count": 67,
   "id": "f8ab3251",
   "metadata": {},
   "outputs": [
    {
     "data": {
      "text/html": [
       "<div>\n",
       "<style scoped>\n",
       "    .dataframe tbody tr th:only-of-type {\n",
       "        vertical-align: middle;\n",
       "    }\n",
       "\n",
       "    .dataframe tbody tr th {\n",
       "        vertical-align: top;\n",
       "    }\n",
       "\n",
       "    .dataframe thead th {\n",
       "        text-align: right;\n",
       "    }\n",
       "</style>\n",
       "<table border=\"1\" class=\"dataframe\">\n",
       "  <thead>\n",
       "    <tr style=\"text-align: right;\">\n",
       "      <th></th>\n",
       "      <th>TIME</th>\n",
       "      <th>GEO</th>\n",
       "      <th>INDIC_ED</th>\n",
       "      <th>Value</th>\n",
       "      <th>Flag and Footnotes</th>\n",
       "    </tr>\n",
       "  </thead>\n",
       "  <tbody>\n",
       "    <tr>\n",
       "      <th>0</th>\n",
       "      <td>2000</td>\n",
       "      <td>European Union (28 countries)</td>\n",
       "      <td>Total public expenditure on education as % of ...</td>\n",
       "      <td>:</td>\n",
       "      <td>NaN</td>\n",
       "    </tr>\n",
       "    <tr>\n",
       "      <th>1</th>\n",
       "      <td>2001</td>\n",
       "      <td>European Union (28 countries)</td>\n",
       "      <td>Total public expenditure on education as % of ...</td>\n",
       "      <td>:</td>\n",
       "      <td>NaN</td>\n",
       "    </tr>\n",
       "    <tr>\n",
       "      <th>2</th>\n",
       "      <td>2002</td>\n",
       "      <td>European Union (28 countries)</td>\n",
       "      <td>Total public expenditure on education as % of ...</td>\n",
       "      <td>5.00</td>\n",
       "      <td>e</td>\n",
       "    </tr>\n",
       "    <tr>\n",
       "      <th>3</th>\n",
       "      <td>2003</td>\n",
       "      <td>European Union (28 countries)</td>\n",
       "      <td>Total public expenditure on education as % of ...</td>\n",
       "      <td>5.03</td>\n",
       "      <td>e</td>\n",
       "    </tr>\n",
       "    <tr>\n",
       "      <th>4</th>\n",
       "      <td>2004</td>\n",
       "      <td>European Union (28 countries)</td>\n",
       "      <td>Total public expenditure on education as % of ...</td>\n",
       "      <td>4.95</td>\n",
       "      <td>e</td>\n",
       "    </tr>\n",
       "  </tbody>\n",
       "</table>\n",
       "</div>"
      ],
      "text/plain": [
       "   TIME                            GEO  \\\n",
       "0  2000  European Union (28 countries)   \n",
       "1  2001  European Union (28 countries)   \n",
       "2  2002  European Union (28 countries)   \n",
       "3  2003  European Union (28 countries)   \n",
       "4  2004  European Union (28 countries)   \n",
       "\n",
       "                                            INDIC_ED Value Flag and Footnotes  \n",
       "0  Total public expenditure on education as % of ...     :                NaN  \n",
       "1  Total public expenditure on education as % of ...     :                NaN  \n",
       "2  Total public expenditure on education as % of ...  5.00                  e  \n",
       "3  Total public expenditure on education as % of ...  5.03                  e  \n",
       "4  Total public expenditure on education as % of ...  4.95                  e  "
      ]
     },
     "execution_count": 67,
     "metadata": {},
     "output_type": "execute_result"
    }
   ],
   "source": [
    "edu.head() #first rows that are listed"
   ]
  },
  {
   "cell_type": "code",
   "execution_count": 69,
   "id": "bf8365c4",
   "metadata": {},
   "outputs": [
    {
     "data": {
      "text/html": [
       "<div>\n",
       "<style scoped>\n",
       "    .dataframe tbody tr th:only-of-type {\n",
       "        vertical-align: middle;\n",
       "    }\n",
       "\n",
       "    .dataframe tbody tr th {\n",
       "        vertical-align: top;\n",
       "    }\n",
       "\n",
       "    .dataframe thead th {\n",
       "        text-align: right;\n",
       "    }\n",
       "</style>\n",
       "<table border=\"1\" class=\"dataframe\">\n",
       "  <thead>\n",
       "    <tr style=\"text-align: right;\">\n",
       "      <th></th>\n",
       "      <th>TIME</th>\n",
       "      <th>GEO</th>\n",
       "      <th>INDIC_ED</th>\n",
       "      <th>Value</th>\n",
       "      <th>Flag and Footnotes</th>\n",
       "    </tr>\n",
       "  </thead>\n",
       "  <tbody>\n",
       "    <tr>\n",
       "      <th>0</th>\n",
       "      <td>2000</td>\n",
       "      <td>European Union (28 countries)</td>\n",
       "      <td>Total public expenditure on education as % of ...</td>\n",
       "      <td>:</td>\n",
       "      <td>NaN</td>\n",
       "    </tr>\n",
       "    <tr>\n",
       "      <th>1</th>\n",
       "      <td>2001</td>\n",
       "      <td>European Union (28 countries)</td>\n",
       "      <td>Total public expenditure on education as % of ...</td>\n",
       "      <td>:</td>\n",
       "      <td>NaN</td>\n",
       "    </tr>\n",
       "    <tr>\n",
       "      <th>2</th>\n",
       "      <td>2002</td>\n",
       "      <td>European Union (28 countries)</td>\n",
       "      <td>Total public expenditure on education as % of ...</td>\n",
       "      <td>5.00</td>\n",
       "      <td>e</td>\n",
       "    </tr>\n",
       "    <tr>\n",
       "      <th>3</th>\n",
       "      <td>2003</td>\n",
       "      <td>European Union (28 countries)</td>\n",
       "      <td>Total public expenditure on education as % of ...</td>\n",
       "      <td>5.03</td>\n",
       "      <td>e</td>\n",
       "    </tr>\n",
       "    <tr>\n",
       "      <th>4</th>\n",
       "      <td>2004</td>\n",
       "      <td>European Union (28 countries)</td>\n",
       "      <td>Total public expenditure on education as % of ...</td>\n",
       "      <td>4.95</td>\n",
       "      <td>e</td>\n",
       "    </tr>\n",
       "    <tr>\n",
       "      <th>...</th>\n",
       "      <td>...</td>\n",
       "      <td>...</td>\n",
       "      <td>...</td>\n",
       "      <td>...</td>\n",
       "      <td>...</td>\n",
       "    </tr>\n",
       "    <tr>\n",
       "      <th>295</th>\n",
       "      <td>2007</td>\n",
       "      <td>Netherlands</td>\n",
       "      <td>Total public expenditure on education as % of ...</td>\n",
       "      <td>5.32</td>\n",
       "      <td>NaN</td>\n",
       "    </tr>\n",
       "    <tr>\n",
       "      <th>296</th>\n",
       "      <td>2008</td>\n",
       "      <td>Netherlands</td>\n",
       "      <td>Total public expenditure on education as % of ...</td>\n",
       "      <td>5.50</td>\n",
       "      <td>NaN</td>\n",
       "    </tr>\n",
       "    <tr>\n",
       "      <th>297</th>\n",
       "      <td>2009</td>\n",
       "      <td>Netherlands</td>\n",
       "      <td>Total public expenditure on education as % of ...</td>\n",
       "      <td>5.95</td>\n",
       "      <td>NaN</td>\n",
       "    </tr>\n",
       "    <tr>\n",
       "      <th>298</th>\n",
       "      <td>2010</td>\n",
       "      <td>Netherlands</td>\n",
       "      <td>Total public expenditure on education as % of ...</td>\n",
       "      <td>5.98</td>\n",
       "      <td>NaN</td>\n",
       "    </tr>\n",
       "    <tr>\n",
       "      <th>299</th>\n",
       "      <td>2011</td>\n",
       "      <td>Netherlands</td>\n",
       "      <td>Total public expenditure on education as % of ...</td>\n",
       "      <td>5.93</td>\n",
       "      <td>NaN</td>\n",
       "    </tr>\n",
       "  </tbody>\n",
       "</table>\n",
       "<p>300 rows × 5 columns</p>\n",
       "</div>"
      ],
      "text/plain": [
       "     TIME                            GEO  \\\n",
       "0    2000  European Union (28 countries)   \n",
       "1    2001  European Union (28 countries)   \n",
       "2    2002  European Union (28 countries)   \n",
       "3    2003  European Union (28 countries)   \n",
       "4    2004  European Union (28 countries)   \n",
       "..    ...                            ...   \n",
       "295  2007                    Netherlands   \n",
       "296  2008                    Netherlands   \n",
       "297  2009                    Netherlands   \n",
       "298  2010                    Netherlands   \n",
       "299  2011                    Netherlands   \n",
       "\n",
       "                                              INDIC_ED Value  \\\n",
       "0    Total public expenditure on education as % of ...     :   \n",
       "1    Total public expenditure on education as % of ...     :   \n",
       "2    Total public expenditure on education as % of ...  5.00   \n",
       "3    Total public expenditure on education as % of ...  5.03   \n",
       "4    Total public expenditure on education as % of ...  4.95   \n",
       "..                                                 ...   ...   \n",
       "295  Total public expenditure on education as % of ...  5.32   \n",
       "296  Total public expenditure on education as % of ...  5.50   \n",
       "297  Total public expenditure on education as % of ...  5.95   \n",
       "298  Total public expenditure on education as % of ...  5.98   \n",
       "299  Total public expenditure on education as % of ...  5.93   \n",
       "\n",
       "    Flag and Footnotes  \n",
       "0                  NaN  \n",
       "1                  NaN  \n",
       "2                    e  \n",
       "3                    e  \n",
       "4                    e  \n",
       "..                 ...  \n",
       "295                NaN  \n",
       "296                NaN  \n",
       "297                NaN  \n",
       "298                NaN  \n",
       "299                NaN  \n",
       "\n",
       "[300 rows x 5 columns]"
      ]
     },
     "execution_count": 69,
     "metadata": {},
     "output_type": "execute_result"
    }
   ],
   "source": [
    "edu.head(300)"
   ]
  },
  {
   "cell_type": "code",
   "execution_count": 70,
   "id": "df79ab6f-c0d5-4f11-81bf-3a1f686d360c",
   "metadata": {},
   "outputs": [
    {
     "data": {
      "text/plain": [
       "(384, 5)"
      ]
     },
     "execution_count": 70,
     "metadata": {},
     "output_type": "execute_result"
    }
   ],
   "source": [
    "edu.shape"
   ]
  },
  {
   "cell_type": "code",
   "execution_count": 71,
   "id": "fa3a1ff4",
   "metadata": {},
   "outputs": [
    {
     "data": {
      "text/html": [
       "<div>\n",
       "<style scoped>\n",
       "    .dataframe tbody tr th:only-of-type {\n",
       "        vertical-align: middle;\n",
       "    }\n",
       "\n",
       "    .dataframe tbody tr th {\n",
       "        vertical-align: top;\n",
       "    }\n",
       "\n",
       "    .dataframe thead th {\n",
       "        text-align: right;\n",
       "    }\n",
       "</style>\n",
       "<table border=\"1\" class=\"dataframe\">\n",
       "  <thead>\n",
       "    <tr style=\"text-align: right;\">\n",
       "      <th></th>\n",
       "      <th>TIME</th>\n",
       "      <th>GEO</th>\n",
       "      <th>INDIC_ED</th>\n",
       "      <th>Value</th>\n",
       "      <th>Flag and Footnotes</th>\n",
       "    </tr>\n",
       "  </thead>\n",
       "  <tbody>\n",
       "    <tr>\n",
       "      <th>379</th>\n",
       "      <td>2007</td>\n",
       "      <td>Finland</td>\n",
       "      <td>Total public expenditure on education as % of ...</td>\n",
       "      <td>5.90</td>\n",
       "      <td>NaN</td>\n",
       "    </tr>\n",
       "    <tr>\n",
       "      <th>380</th>\n",
       "      <td>2008</td>\n",
       "      <td>Finland</td>\n",
       "      <td>Total public expenditure on education as % of ...</td>\n",
       "      <td>6.10</td>\n",
       "      <td>NaN</td>\n",
       "    </tr>\n",
       "    <tr>\n",
       "      <th>381</th>\n",
       "      <td>2009</td>\n",
       "      <td>Finland</td>\n",
       "      <td>Total public expenditure on education as % of ...</td>\n",
       "      <td>6.81</td>\n",
       "      <td>NaN</td>\n",
       "    </tr>\n",
       "    <tr>\n",
       "      <th>382</th>\n",
       "      <td>2010</td>\n",
       "      <td>Finland</td>\n",
       "      <td>Total public expenditure on education as % of ...</td>\n",
       "      <td>6.85</td>\n",
       "      <td>NaN</td>\n",
       "    </tr>\n",
       "    <tr>\n",
       "      <th>383</th>\n",
       "      <td>2011</td>\n",
       "      <td>Finland</td>\n",
       "      <td>Total public expenditure on education as % of ...</td>\n",
       "      <td>6.76</td>\n",
       "      <td>NaN</td>\n",
       "    </tr>\n",
       "  </tbody>\n",
       "</table>\n",
       "</div>"
      ],
      "text/plain": [
       "     TIME      GEO                                           INDIC_ED Value  \\\n",
       "379  2007  Finland  Total public expenditure on education as % of ...  5.90   \n",
       "380  2008  Finland  Total public expenditure on education as % of ...  6.10   \n",
       "381  2009  Finland  Total public expenditure on education as % of ...  6.81   \n",
       "382  2010  Finland  Total public expenditure on education as % of ...  6.85   \n",
       "383  2011  Finland  Total public expenditure on education as % of ...  6.76   \n",
       "\n",
       "    Flag and Footnotes  \n",
       "379                NaN  \n",
       "380                NaN  \n",
       "381                NaN  \n",
       "382                NaN  \n",
       "383                NaN  "
      ]
     },
     "execution_count": 71,
     "metadata": {},
     "output_type": "execute_result"
    }
   ],
   "source": [
    "edu.tail() #last rows that are listed"
   ]
  },
  {
   "cell_type": "code",
   "execution_count": 73,
   "id": "880a5117",
   "metadata": {},
   "outputs": [],
   "source": [
    "edu.columns = ['TIME', 'GEO_2', 'A', 'Value', 'Flag and Footnotes']"
   ]
  },
  {
   "cell_type": "code",
   "execution_count": 74,
   "id": "f5d58bc6-5cb7-4307-a6bc-293628488789",
   "metadata": {},
   "outputs": [
    {
     "data": {
      "text/html": [
       "<div>\n",
       "<style scoped>\n",
       "    .dataframe tbody tr th:only-of-type {\n",
       "        vertical-align: middle;\n",
       "    }\n",
       "\n",
       "    .dataframe tbody tr th {\n",
       "        vertical-align: top;\n",
       "    }\n",
       "\n",
       "    .dataframe thead th {\n",
       "        text-align: right;\n",
       "    }\n",
       "</style>\n",
       "<table border=\"1\" class=\"dataframe\">\n",
       "  <thead>\n",
       "    <tr style=\"text-align: right;\">\n",
       "      <th></th>\n",
       "      <th>TIME</th>\n",
       "      <th>GEO_2</th>\n",
       "      <th>A</th>\n",
       "      <th>Value</th>\n",
       "      <th>Flag and Footnotes</th>\n",
       "    </tr>\n",
       "  </thead>\n",
       "  <tbody>\n",
       "    <tr>\n",
       "      <th>0</th>\n",
       "      <td>2000</td>\n",
       "      <td>European Union (28 countries)</td>\n",
       "      <td>Total public expenditure on education as % of ...</td>\n",
       "      <td>:</td>\n",
       "      <td>NaN</td>\n",
       "    </tr>\n",
       "    <tr>\n",
       "      <th>1</th>\n",
       "      <td>2001</td>\n",
       "      <td>European Union (28 countries)</td>\n",
       "      <td>Total public expenditure on education as % of ...</td>\n",
       "      <td>:</td>\n",
       "      <td>NaN</td>\n",
       "    </tr>\n",
       "  </tbody>\n",
       "</table>\n",
       "</div>"
      ],
      "text/plain": [
       "   TIME                          GEO_2  \\\n",
       "0  2000  European Union (28 countries)   \n",
       "1  2001  European Union (28 countries)   \n",
       "\n",
       "                                                   A Value Flag and Footnotes  \n",
       "0  Total public expenditure on education as % of ...     :                NaN  \n",
       "1  Total public expenditure on education as % of ...     :                NaN  "
      ]
     },
     "execution_count": 74,
     "metadata": {},
     "output_type": "execute_result"
    }
   ],
   "source": [
    "edu.head(2)"
   ]
  },
  {
   "cell_type": "code",
   "execution_count": 77,
   "id": "92048c15-46c4-4b4f-8b0c-832955323bec",
   "metadata": {},
   "outputs": [],
   "source": [
    "edu = edu.rename(columns={\"GEO_2\": \"GEO\"})"
   ]
  },
  {
   "cell_type": "code",
   "execution_count": 78,
   "id": "4ac7941f-aff1-44ee-8df1-1c87f4e5ba66",
   "metadata": {},
   "outputs": [
    {
     "data": {
      "text/html": [
       "<div>\n",
       "<style scoped>\n",
       "    .dataframe tbody tr th:only-of-type {\n",
       "        vertical-align: middle;\n",
       "    }\n",
       "\n",
       "    .dataframe tbody tr th {\n",
       "        vertical-align: top;\n",
       "    }\n",
       "\n",
       "    .dataframe thead th {\n",
       "        text-align: right;\n",
       "    }\n",
       "</style>\n",
       "<table border=\"1\" class=\"dataframe\">\n",
       "  <thead>\n",
       "    <tr style=\"text-align: right;\">\n",
       "      <th></th>\n",
       "      <th>TIME</th>\n",
       "      <th>GEO</th>\n",
       "      <th>A</th>\n",
       "      <th>Value</th>\n",
       "      <th>Flag and Footnotes</th>\n",
       "    </tr>\n",
       "  </thead>\n",
       "  <tbody>\n",
       "    <tr>\n",
       "      <th>0</th>\n",
       "      <td>2000</td>\n",
       "      <td>European Union (28 countries)</td>\n",
       "      <td>Total public expenditure on education as % of ...</td>\n",
       "      <td>:</td>\n",
       "      <td>NaN</td>\n",
       "    </tr>\n",
       "    <tr>\n",
       "      <th>1</th>\n",
       "      <td>2001</td>\n",
       "      <td>European Union (28 countries)</td>\n",
       "      <td>Total public expenditure on education as % of ...</td>\n",
       "      <td>:</td>\n",
       "      <td>NaN</td>\n",
       "    </tr>\n",
       "  </tbody>\n",
       "</table>\n",
       "</div>"
      ],
      "text/plain": [
       "   TIME                            GEO  \\\n",
       "0  2000  European Union (28 countries)   \n",
       "1  2001  European Union (28 countries)   \n",
       "\n",
       "                                                   A Value Flag and Footnotes  \n",
       "0  Total public expenditure on education as % of ...     :                NaN  \n",
       "1  Total public expenditure on education as % of ...     :                NaN  "
      ]
     },
     "execution_count": 78,
     "metadata": {},
     "output_type": "execute_result"
    }
   ],
   "source": [
    "edu.head(2)"
   ]
  },
  {
   "cell_type": "code",
   "execution_count": 80,
   "id": "3a4b16fa",
   "metadata": {},
   "outputs": [
    {
     "data": {
      "text/plain": [
       "'A'"
      ]
     },
     "execution_count": 80,
     "metadata": {},
     "output_type": "execute_result"
    }
   ],
   "source": [
    "edu.columns[2]"
   ]
  },
  {
   "cell_type": "code",
   "execution_count": 86,
   "id": "16f8c33d",
   "metadata": {},
   "outputs": [],
   "source": [
    "edu.index = range(5, 389)"
   ]
  },
  {
   "cell_type": "code",
   "execution_count": 88,
   "id": "192b0e67-3f1f-4f90-b9b7-1c88782ca590",
   "metadata": {},
   "outputs": [
    {
     "data": {
      "text/html": [
       "<div>\n",
       "<style scoped>\n",
       "    .dataframe tbody tr th:only-of-type {\n",
       "        vertical-align: middle;\n",
       "    }\n",
       "\n",
       "    .dataframe tbody tr th {\n",
       "        vertical-align: top;\n",
       "    }\n",
       "\n",
       "    .dataframe thead th {\n",
       "        text-align: right;\n",
       "    }\n",
       "</style>\n",
       "<table border=\"1\" class=\"dataframe\">\n",
       "  <thead>\n",
       "    <tr style=\"text-align: right;\">\n",
       "      <th></th>\n",
       "      <th>TIME</th>\n",
       "      <th>GEO</th>\n",
       "      <th>A</th>\n",
       "      <th>Value</th>\n",
       "      <th>Flag and Footnotes</th>\n",
       "    </tr>\n",
       "  </thead>\n",
       "  <tbody>\n",
       "    <tr>\n",
       "      <th>5</th>\n",
       "      <td>2000</td>\n",
       "      <td>European Union (28 countries)</td>\n",
       "      <td>Total public expenditure on education as % of ...</td>\n",
       "      <td>:</td>\n",
       "      <td>NaN</td>\n",
       "    </tr>\n",
       "    <tr>\n",
       "      <th>6</th>\n",
       "      <td>2001</td>\n",
       "      <td>European Union (28 countries)</td>\n",
       "      <td>Total public expenditure on education as % of ...</td>\n",
       "      <td>:</td>\n",
       "      <td>NaN</td>\n",
       "    </tr>\n",
       "    <tr>\n",
       "      <th>7</th>\n",
       "      <td>2002</td>\n",
       "      <td>European Union (28 countries)</td>\n",
       "      <td>Total public expenditure on education as % of ...</td>\n",
       "      <td>5.00</td>\n",
       "      <td>e</td>\n",
       "    </tr>\n",
       "    <tr>\n",
       "      <th>8</th>\n",
       "      <td>2003</td>\n",
       "      <td>European Union (28 countries)</td>\n",
       "      <td>Total public expenditure on education as % of ...</td>\n",
       "      <td>5.03</td>\n",
       "      <td>e</td>\n",
       "    </tr>\n",
       "    <tr>\n",
       "      <th>9</th>\n",
       "      <td>2004</td>\n",
       "      <td>European Union (28 countries)</td>\n",
       "      <td>Total public expenditure on education as % of ...</td>\n",
       "      <td>4.95</td>\n",
       "      <td>e</td>\n",
       "    </tr>\n",
       "    <tr>\n",
       "      <th>...</th>\n",
       "      <td>...</td>\n",
       "      <td>...</td>\n",
       "      <td>...</td>\n",
       "      <td>...</td>\n",
       "      <td>...</td>\n",
       "    </tr>\n",
       "    <tr>\n",
       "      <th>384</th>\n",
       "      <td>2007</td>\n",
       "      <td>Finland</td>\n",
       "      <td>Total public expenditure on education as % of ...</td>\n",
       "      <td>5.90</td>\n",
       "      <td>NaN</td>\n",
       "    </tr>\n",
       "    <tr>\n",
       "      <th>385</th>\n",
       "      <td>2008</td>\n",
       "      <td>Finland</td>\n",
       "      <td>Total public expenditure on education as % of ...</td>\n",
       "      <td>6.10</td>\n",
       "      <td>NaN</td>\n",
       "    </tr>\n",
       "    <tr>\n",
       "      <th>386</th>\n",
       "      <td>2009</td>\n",
       "      <td>Finland</td>\n",
       "      <td>Total public expenditure on education as % of ...</td>\n",
       "      <td>6.81</td>\n",
       "      <td>NaN</td>\n",
       "    </tr>\n",
       "    <tr>\n",
       "      <th>387</th>\n",
       "      <td>2010</td>\n",
       "      <td>Finland</td>\n",
       "      <td>Total public expenditure on education as % of ...</td>\n",
       "      <td>6.85</td>\n",
       "      <td>NaN</td>\n",
       "    </tr>\n",
       "    <tr>\n",
       "      <th>388</th>\n",
       "      <td>2011</td>\n",
       "      <td>Finland</td>\n",
       "      <td>Total public expenditure on education as % of ...</td>\n",
       "      <td>6.76</td>\n",
       "      <td>NaN</td>\n",
       "    </tr>\n",
       "  </tbody>\n",
       "</table>\n",
       "<p>384 rows × 5 columns</p>\n",
       "</div>"
      ],
      "text/plain": [
       "     TIME                            GEO  \\\n",
       "5    2000  European Union (28 countries)   \n",
       "6    2001  European Union (28 countries)   \n",
       "7    2002  European Union (28 countries)   \n",
       "8    2003  European Union (28 countries)   \n",
       "9    2004  European Union (28 countries)   \n",
       "..    ...                            ...   \n",
       "384  2007                        Finland   \n",
       "385  2008                        Finland   \n",
       "386  2009                        Finland   \n",
       "387  2010                        Finland   \n",
       "388  2011                        Finland   \n",
       "\n",
       "                                                     A Value  \\\n",
       "5    Total public expenditure on education as % of ...     :   \n",
       "6    Total public expenditure on education as % of ...     :   \n",
       "7    Total public expenditure on education as % of ...  5.00   \n",
       "8    Total public expenditure on education as % of ...  5.03   \n",
       "9    Total public expenditure on education as % of ...  4.95   \n",
       "..                                                 ...   ...   \n",
       "384  Total public expenditure on education as % of ...  5.90   \n",
       "385  Total public expenditure on education as % of ...  6.10   \n",
       "386  Total public expenditure on education as % of ...  6.81   \n",
       "387  Total public expenditure on education as % of ...  6.85   \n",
       "388  Total public expenditure on education as % of ...  6.76   \n",
       "\n",
       "    Flag and Footnotes  \n",
       "5                  NaN  \n",
       "6                  NaN  \n",
       "7                    e  \n",
       "8                    e  \n",
       "9                    e  \n",
       "..                 ...  \n",
       "384                NaN  \n",
       "385                NaN  \n",
       "386                NaN  \n",
       "387                NaN  \n",
       "388                NaN  \n",
       "\n",
       "[384 rows x 5 columns]"
      ]
     },
     "execution_count": 88,
     "metadata": {},
     "output_type": "execute_result"
    }
   ],
   "source": [
    "edu"
   ]
  },
  {
   "cell_type": "code",
   "execution_count": 87,
   "id": "aabd6582-c0bb-48a4-9c63-436f2b4de513",
   "metadata": {},
   "outputs": [
    {
     "data": {
      "text/plain": [
       "RangeIndex(start=5, stop=389, step=1)"
      ]
     },
     "execution_count": 87,
     "metadata": {},
     "output_type": "execute_result"
    }
   ],
   "source": [
    "edu.index"
   ]
  },
  {
   "cell_type": "code",
   "execution_count": 91,
   "id": "f44e0d1e",
   "metadata": {},
   "outputs": [
    {
     "data": {
      "text/plain": [
       "array([[2000, 'European Union (28 countries)',\n",
       "        'Total public expenditure on education as % of GDP, for all levels of education combined',\n",
       "        ':', nan],\n",
       "       [2001, 'European Union (28 countries)',\n",
       "        'Total public expenditure on education as % of GDP, for all levels of education combined',\n",
       "        ':', nan],\n",
       "       [2002, 'European Union (28 countries)',\n",
       "        'Total public expenditure on education as % of GDP, for all levels of education combined',\n",
       "        '5.00', 'e'],\n",
       "       ...,\n",
       "       [2009, 'Finland',\n",
       "        'Total public expenditure on education as % of GDP, for all levels of education combined',\n",
       "        '6.81', nan],\n",
       "       [2010, 'Finland',\n",
       "        'Total public expenditure on education as % of GDP, for all levels of education combined',\n",
       "        '6.85', nan],\n",
       "       [2011, 'Finland',\n",
       "        'Total public expenditure on education as % of GDP, for all levels of education combined',\n",
       "        '6.76', nan]], dtype=object)"
      ]
     },
     "execution_count": 91,
     "metadata": {},
     "output_type": "execute_result"
    }
   ],
   "source": [
    "edu.values # values of any DataFrame can be retrieved as a Python array by calling its values attribute."
   ]
  },
  {
   "cell_type": "code",
   "execution_count": 92,
   "id": "4c684db0-e7f1-4419-8e9d-ae52bff9961f",
   "metadata": {},
   "outputs": [
    {
     "data": {
      "text/html": [
       "<div>\n",
       "<style scoped>\n",
       "    .dataframe tbody tr th:only-of-type {\n",
       "        vertical-align: middle;\n",
       "    }\n",
       "\n",
       "    .dataframe tbody tr th {\n",
       "        vertical-align: top;\n",
       "    }\n",
       "\n",
       "    .dataframe thead th {\n",
       "        text-align: right;\n",
       "    }\n",
       "</style>\n",
       "<table border=\"1\" class=\"dataframe\">\n",
       "  <thead>\n",
       "    <tr style=\"text-align: right;\">\n",
       "      <th></th>\n",
       "      <th>TIME</th>\n",
       "      <th>GEO</th>\n",
       "      <th>A</th>\n",
       "      <th>Value</th>\n",
       "      <th>Flag and Footnotes</th>\n",
       "    </tr>\n",
       "  </thead>\n",
       "  <tbody>\n",
       "    <tr>\n",
       "      <th>5</th>\n",
       "      <td>2000</td>\n",
       "      <td>European Union (28 countries)</td>\n",
       "      <td>Total public expenditure on education as % of ...</td>\n",
       "      <td>:</td>\n",
       "      <td>NaN</td>\n",
       "    </tr>\n",
       "    <tr>\n",
       "      <th>6</th>\n",
       "      <td>2001</td>\n",
       "      <td>European Union (28 countries)</td>\n",
       "      <td>Total public expenditure on education as % of ...</td>\n",
       "      <td>:</td>\n",
       "      <td>NaN</td>\n",
       "    </tr>\n",
       "  </tbody>\n",
       "</table>\n",
       "</div>"
      ],
      "text/plain": [
       "   TIME                            GEO  \\\n",
       "5  2000  European Union (28 countries)   \n",
       "6  2001  European Union (28 countries)   \n",
       "\n",
       "                                                   A Value Flag and Footnotes  \n",
       "5  Total public expenditure on education as % of ...     :                NaN  \n",
       "6  Total public expenditure on education as % of ...     :                NaN  "
      ]
     },
     "execution_count": 92,
     "metadata": {},
     "output_type": "execute_result"
    }
   ],
   "source": [
    "edu.head(2)"
   ]
  },
  {
   "cell_type": "code",
   "execution_count": 93,
   "id": "bced237d-8675-4d93-8f67-a3e1572fd3aa",
   "metadata": {},
   "outputs": [
    {
     "data": {
      "text/plain": [
       "TIME                   int64\n",
       "GEO                   object\n",
       "A                     object\n",
       "Value                 object\n",
       "Flag and Footnotes    object\n",
       "dtype: object"
      ]
     },
     "execution_count": 93,
     "metadata": {},
     "output_type": "execute_result"
    }
   ],
   "source": [
    "edu.dtypes"
   ]
  },
  {
   "cell_type": "code",
   "execution_count": 94,
   "id": "89115137-ebdd-4afb-958a-cddd351668d0",
   "metadata": {},
   "outputs": [
    {
     "name": "stdout",
     "output_type": "stream",
     "text": [
      "<class 'pandas.core.frame.DataFrame'>\n",
      "RangeIndex: 384 entries, 5 to 388\n",
      "Data columns (total 5 columns):\n",
      " #   Column              Non-Null Count  Dtype \n",
      "---  ------              --------------  ----- \n",
      " 0   TIME                384 non-null    int64 \n",
      " 1   GEO                 384 non-null    object\n",
      " 2   A                   384 non-null    object\n",
      " 3   Value               384 non-null    object\n",
      " 4   Flag and Footnotes  165 non-null    object\n",
      "dtypes: int64(1), object(4)\n",
      "memory usage: 15.1+ KB\n"
     ]
    }
   ],
   "source": [
    "edu.info()"
   ]
  },
  {
   "cell_type": "code",
   "execution_count": 95,
   "id": "aa74840f",
   "metadata": {},
   "outputs": [
    {
     "data": {
      "text/html": [
       "<div>\n",
       "<style scoped>\n",
       "    .dataframe tbody tr th:only-of-type {\n",
       "        vertical-align: middle;\n",
       "    }\n",
       "\n",
       "    .dataframe tbody tr th {\n",
       "        vertical-align: top;\n",
       "    }\n",
       "\n",
       "    .dataframe thead th {\n",
       "        text-align: right;\n",
       "    }\n",
       "</style>\n",
       "<table border=\"1\" class=\"dataframe\">\n",
       "  <thead>\n",
       "    <tr style=\"text-align: right;\">\n",
       "      <th></th>\n",
       "      <th>TIME</th>\n",
       "    </tr>\n",
       "  </thead>\n",
       "  <tbody>\n",
       "    <tr>\n",
       "      <th>count</th>\n",
       "      <td>384.000000</td>\n",
       "    </tr>\n",
       "    <tr>\n",
       "      <th>mean</th>\n",
       "      <td>2005.500000</td>\n",
       "    </tr>\n",
       "    <tr>\n",
       "      <th>std</th>\n",
       "      <td>3.456556</td>\n",
       "    </tr>\n",
       "    <tr>\n",
       "      <th>min</th>\n",
       "      <td>2000.000000</td>\n",
       "    </tr>\n",
       "    <tr>\n",
       "      <th>25%</th>\n",
       "      <td>2002.750000</td>\n",
       "    </tr>\n",
       "    <tr>\n",
       "      <th>50%</th>\n",
       "      <td>2005.500000</td>\n",
       "    </tr>\n",
       "    <tr>\n",
       "      <th>75%</th>\n",
       "      <td>2008.250000</td>\n",
       "    </tr>\n",
       "    <tr>\n",
       "      <th>max</th>\n",
       "      <td>2011.000000</td>\n",
       "    </tr>\n",
       "  </tbody>\n",
       "</table>\n",
       "</div>"
      ],
      "text/plain": [
       "              TIME\n",
       "count   384.000000\n",
       "mean   2005.500000\n",
       "std       3.456556\n",
       "min    2000.000000\n",
       "25%    2002.750000\n",
       "50%    2005.500000\n",
       "75%    2008.250000\n",
       "max    2011.000000"
      ]
     },
     "execution_count": 95,
     "metadata": {},
     "output_type": "execute_result"
    }
   ],
   "source": [
    "# quick statistical information\n",
    "edu.describe()"
   ]
  },
  {
   "cell_type": "code",
   "execution_count": 96,
   "id": "829ba325",
   "metadata": {},
   "outputs": [
    {
     "data": {
      "text/html": [
       "<div>\n",
       "<style scoped>\n",
       "    .dataframe tbody tr th:only-of-type {\n",
       "        vertical-align: middle;\n",
       "    }\n",
       "\n",
       "    .dataframe tbody tr th {\n",
       "        vertical-align: top;\n",
       "    }\n",
       "\n",
       "    .dataframe thead th {\n",
       "        text-align: right;\n",
       "    }\n",
       "</style>\n",
       "<table border=\"1\" class=\"dataframe\">\n",
       "  <thead>\n",
       "    <tr style=\"text-align: right;\">\n",
       "      <th></th>\n",
       "      <th>GEO</th>\n",
       "      <th>A</th>\n",
       "      <th>Value</th>\n",
       "      <th>Flag and Footnotes</th>\n",
       "    </tr>\n",
       "  </thead>\n",
       "  <tbody>\n",
       "    <tr>\n",
       "      <th>count</th>\n",
       "      <td>384</td>\n",
       "      <td>384</td>\n",
       "      <td>384</td>\n",
       "      <td>165</td>\n",
       "    </tr>\n",
       "    <tr>\n",
       "      <th>unique</th>\n",
       "      <td>32</td>\n",
       "      <td>1</td>\n",
       "      <td>211</td>\n",
       "      <td>6</td>\n",
       "    </tr>\n",
       "    <tr>\n",
       "      <th>top</th>\n",
       "      <td>European Union (28 countries)</td>\n",
       "      <td>Total public expenditure on education as % of ...</td>\n",
       "      <td>:</td>\n",
       "      <td>e</td>\n",
       "    </tr>\n",
       "    <tr>\n",
       "      <th>freq</th>\n",
       "      <td>12</td>\n",
       "      <td>384</td>\n",
       "      <td>23</td>\n",
       "      <td>70</td>\n",
       "    </tr>\n",
       "  </tbody>\n",
       "</table>\n",
       "</div>"
      ],
      "text/plain": [
       "                                  GEO  \\\n",
       "count                             384   \n",
       "unique                             32   \n",
       "top     European Union (28 countries)   \n",
       "freq                               12   \n",
       "\n",
       "                                                        A Value  \\\n",
       "count                                                 384   384   \n",
       "unique                                                  1   211   \n",
       "top     Total public expenditure on education as % of ...     :   \n",
       "freq                                                  384    23   \n",
       "\n",
       "       Flag and Footnotes  \n",
       "count                 165  \n",
       "unique                  6  \n",
       "top                     e  \n",
       "freq                   70  "
      ]
     },
     "execution_count": 96,
     "metadata": {},
     "output_type": "execute_result"
    }
   ],
   "source": [
    "edu.describe(include=[object])"
   ]
  },
  {
   "cell_type": "code",
   "execution_count": 101,
   "id": "28ea90d4",
   "metadata": {},
   "outputs": [
    {
     "data": {
      "text/html": [
       "<div>\n",
       "<style scoped>\n",
       "    .dataframe tbody tr th:only-of-type {\n",
       "        vertical-align: middle;\n",
       "    }\n",
       "\n",
       "    .dataframe tbody tr th {\n",
       "        vertical-align: top;\n",
       "    }\n",
       "\n",
       "    .dataframe thead th {\n",
       "        text-align: right;\n",
       "    }\n",
       "</style>\n",
       "<table border=\"1\" class=\"dataframe\">\n",
       "  <thead>\n",
       "    <tr style=\"text-align: right;\">\n",
       "      <th></th>\n",
       "      <th>GEO</th>\n",
       "      <th>A</th>\n",
       "      <th>Value</th>\n",
       "      <th>Flag and Footnotes</th>\n",
       "    </tr>\n",
       "  </thead>\n",
       "  <tbody>\n",
       "    <tr>\n",
       "      <th>count</th>\n",
       "      <td>384</td>\n",
       "      <td>384</td>\n",
       "      <td>384</td>\n",
       "      <td>165</td>\n",
       "    </tr>\n",
       "    <tr>\n",
       "      <th>unique</th>\n",
       "      <td>32</td>\n",
       "      <td>1</td>\n",
       "      <td>211</td>\n",
       "      <td>6</td>\n",
       "    </tr>\n",
       "    <tr>\n",
       "      <th>top</th>\n",
       "      <td>European Union (28 countries)</td>\n",
       "      <td>Total public expenditure on education as % of ...</td>\n",
       "      <td>:</td>\n",
       "      <td>e</td>\n",
       "    </tr>\n",
       "    <tr>\n",
       "      <th>freq</th>\n",
       "      <td>12</td>\n",
       "      <td>384</td>\n",
       "      <td>23</td>\n",
       "      <td>70</td>\n",
       "    </tr>\n",
       "  </tbody>\n",
       "</table>\n",
       "</div>"
      ],
      "text/plain": [
       "                                  GEO  \\\n",
       "count                             384   \n",
       "unique                             32   \n",
       "top     European Union (28 countries)   \n",
       "freq                               12   \n",
       "\n",
       "                                                        A Value  \\\n",
       "count                                                 384   384   \n",
       "unique                                                  1   211   \n",
       "top     Total public expenditure on education as % of ...     :   \n",
       "freq                                                  384    23   \n",
       "\n",
       "       Flag and Footnotes  \n",
       "count                 165  \n",
       "unique                  6  \n",
       "top                     e  \n",
       "freq                   70  "
      ]
     },
     "execution_count": 101,
     "metadata": {},
     "output_type": "execute_result"
    }
   ],
   "source": [
    "edu.describe(exclude=\"number\")"
   ]
  },
  {
   "cell_type": "code",
   "execution_count": 98,
   "id": "b860af10",
   "metadata": {},
   "outputs": [
    {
     "data": {
      "text/html": [
       "<div>\n",
       "<style scoped>\n",
       "    .dataframe tbody tr th:only-of-type {\n",
       "        vertical-align: middle;\n",
       "    }\n",
       "\n",
       "    .dataframe tbody tr th {\n",
       "        vertical-align: top;\n",
       "    }\n",
       "\n",
       "    .dataframe thead th {\n",
       "        text-align: right;\n",
       "    }\n",
       "</style>\n",
       "<table border=\"1\" class=\"dataframe\">\n",
       "  <thead>\n",
       "    <tr style=\"text-align: right;\">\n",
       "      <th></th>\n",
       "      <th>5</th>\n",
       "      <th>6</th>\n",
       "      <th>7</th>\n",
       "      <th>8</th>\n",
       "      <th>9</th>\n",
       "      <th>10</th>\n",
       "      <th>11</th>\n",
       "      <th>12</th>\n",
       "      <th>13</th>\n",
       "      <th>14</th>\n",
       "      <th>...</th>\n",
       "      <th>379</th>\n",
       "      <th>380</th>\n",
       "      <th>381</th>\n",
       "      <th>382</th>\n",
       "      <th>383</th>\n",
       "      <th>384</th>\n",
       "      <th>385</th>\n",
       "      <th>386</th>\n",
       "      <th>387</th>\n",
       "      <th>388</th>\n",
       "    </tr>\n",
       "  </thead>\n",
       "  <tbody>\n",
       "    <tr>\n",
       "      <th>TIME</th>\n",
       "      <td>2000</td>\n",
       "      <td>2001</td>\n",
       "      <td>2002</td>\n",
       "      <td>2003</td>\n",
       "      <td>2004</td>\n",
       "      <td>2005</td>\n",
       "      <td>2006</td>\n",
       "      <td>2007</td>\n",
       "      <td>2008</td>\n",
       "      <td>2009</td>\n",
       "      <td>...</td>\n",
       "      <td>2002</td>\n",
       "      <td>2003</td>\n",
       "      <td>2004</td>\n",
       "      <td>2005</td>\n",
       "      <td>2006</td>\n",
       "      <td>2007</td>\n",
       "      <td>2008</td>\n",
       "      <td>2009</td>\n",
       "      <td>2010</td>\n",
       "      <td>2011</td>\n",
       "    </tr>\n",
       "    <tr>\n",
       "      <th>GEO</th>\n",
       "      <td>European Union (28 countries)</td>\n",
       "      <td>European Union (28 countries)</td>\n",
       "      <td>European Union (28 countries)</td>\n",
       "      <td>European Union (28 countries)</td>\n",
       "      <td>European Union (28 countries)</td>\n",
       "      <td>European Union (28 countries)</td>\n",
       "      <td>European Union (28 countries)</td>\n",
       "      <td>European Union (28 countries)</td>\n",
       "      <td>European Union (28 countries)</td>\n",
       "      <td>European Union (28 countries)</td>\n",
       "      <td>...</td>\n",
       "      <td>Finland</td>\n",
       "      <td>Finland</td>\n",
       "      <td>Finland</td>\n",
       "      <td>Finland</td>\n",
       "      <td>Finland</td>\n",
       "      <td>Finland</td>\n",
       "      <td>Finland</td>\n",
       "      <td>Finland</td>\n",
       "      <td>Finland</td>\n",
       "      <td>Finland</td>\n",
       "    </tr>\n",
       "    <tr>\n",
       "      <th>A</th>\n",
       "      <td>Total public expenditure on education as % of ...</td>\n",
       "      <td>Total public expenditure on education as % of ...</td>\n",
       "      <td>Total public expenditure on education as % of ...</td>\n",
       "      <td>Total public expenditure on education as % of ...</td>\n",
       "      <td>Total public expenditure on education as % of ...</td>\n",
       "      <td>Total public expenditure on education as % of ...</td>\n",
       "      <td>Total public expenditure on education as % of ...</td>\n",
       "      <td>Total public expenditure on education as % of ...</td>\n",
       "      <td>Total public expenditure on education as % of ...</td>\n",
       "      <td>Total public expenditure on education as % of ...</td>\n",
       "      <td>...</td>\n",
       "      <td>Total public expenditure on education as % of ...</td>\n",
       "      <td>Total public expenditure on education as % of ...</td>\n",
       "      <td>Total public expenditure on education as % of ...</td>\n",
       "      <td>Total public expenditure on education as % of ...</td>\n",
       "      <td>Total public expenditure on education as % of ...</td>\n",
       "      <td>Total public expenditure on education as % of ...</td>\n",
       "      <td>Total public expenditure on education as % of ...</td>\n",
       "      <td>Total public expenditure on education as % of ...</td>\n",
       "      <td>Total public expenditure on education as % of ...</td>\n",
       "      <td>Total public expenditure on education as % of ...</td>\n",
       "    </tr>\n",
       "    <tr>\n",
       "      <th>Value</th>\n",
       "      <td>:</td>\n",
       "      <td>:</td>\n",
       "      <td>5.00</td>\n",
       "      <td>5.03</td>\n",
       "      <td>4.95</td>\n",
       "      <td>4.92</td>\n",
       "      <td>4.91</td>\n",
       "      <td>4.92</td>\n",
       "      <td>5.04</td>\n",
       "      <td>5.38</td>\n",
       "      <td>...</td>\n",
       "      <td>6.22</td>\n",
       "      <td>6.43</td>\n",
       "      <td>6.42</td>\n",
       "      <td>6.30</td>\n",
       "      <td>6.18</td>\n",
       "      <td>5.90</td>\n",
       "      <td>6.10</td>\n",
       "      <td>6.81</td>\n",
       "      <td>6.85</td>\n",
       "      <td>6.76</td>\n",
       "    </tr>\n",
       "    <tr>\n",
       "      <th>Flag and Footnotes</th>\n",
       "      <td>NaN</td>\n",
       "      <td>NaN</td>\n",
       "      <td>e</td>\n",
       "      <td>e</td>\n",
       "      <td>e</td>\n",
       "      <td>e</td>\n",
       "      <td>e</td>\n",
       "      <td>e</td>\n",
       "      <td>e</td>\n",
       "      <td>e</td>\n",
       "      <td>...</td>\n",
       "      <td>NaN</td>\n",
       "      <td>NaN</td>\n",
       "      <td>NaN</td>\n",
       "      <td>NaN</td>\n",
       "      <td>NaN</td>\n",
       "      <td>NaN</td>\n",
       "      <td>NaN</td>\n",
       "      <td>NaN</td>\n",
       "      <td>NaN</td>\n",
       "      <td>NaN</td>\n",
       "    </tr>\n",
       "  </tbody>\n",
       "</table>\n",
       "<p>5 rows × 384 columns</p>\n",
       "</div>"
      ],
      "text/plain": [
       "                                                                  5    \\\n",
       "TIME                                                             2000   \n",
       "GEO                                     European Union (28 countries)   \n",
       "A                   Total public expenditure on education as % of ...   \n",
       "Value                                                               :   \n",
       "Flag and Footnotes                                                NaN   \n",
       "\n",
       "                                                                  6    \\\n",
       "TIME                                                             2001   \n",
       "GEO                                     European Union (28 countries)   \n",
       "A                   Total public expenditure on education as % of ...   \n",
       "Value                                                               :   \n",
       "Flag and Footnotes                                                NaN   \n",
       "\n",
       "                                                                  7    \\\n",
       "TIME                                                             2002   \n",
       "GEO                                     European Union (28 countries)   \n",
       "A                   Total public expenditure on education as % of ...   \n",
       "Value                                                            5.00   \n",
       "Flag and Footnotes                                                  e   \n",
       "\n",
       "                                                                  8    \\\n",
       "TIME                                                             2003   \n",
       "GEO                                     European Union (28 countries)   \n",
       "A                   Total public expenditure on education as % of ...   \n",
       "Value                                                            5.03   \n",
       "Flag and Footnotes                                                  e   \n",
       "\n",
       "                                                                  9    \\\n",
       "TIME                                                             2004   \n",
       "GEO                                     European Union (28 countries)   \n",
       "A                   Total public expenditure on education as % of ...   \n",
       "Value                                                            4.95   \n",
       "Flag and Footnotes                                                  e   \n",
       "\n",
       "                                                                  10   \\\n",
       "TIME                                                             2005   \n",
       "GEO                                     European Union (28 countries)   \n",
       "A                   Total public expenditure on education as % of ...   \n",
       "Value                                                            4.92   \n",
       "Flag and Footnotes                                                  e   \n",
       "\n",
       "                                                                  11   \\\n",
       "TIME                                                             2006   \n",
       "GEO                                     European Union (28 countries)   \n",
       "A                   Total public expenditure on education as % of ...   \n",
       "Value                                                            4.91   \n",
       "Flag and Footnotes                                                  e   \n",
       "\n",
       "                                                                  12   \\\n",
       "TIME                                                             2007   \n",
       "GEO                                     European Union (28 countries)   \n",
       "A                   Total public expenditure on education as % of ...   \n",
       "Value                                                            4.92   \n",
       "Flag and Footnotes                                                  e   \n",
       "\n",
       "                                                                  13   \\\n",
       "TIME                                                             2008   \n",
       "GEO                                     European Union (28 countries)   \n",
       "A                   Total public expenditure on education as % of ...   \n",
       "Value                                                            5.04   \n",
       "Flag and Footnotes                                                  e   \n",
       "\n",
       "                                                                  14   ...  \\\n",
       "TIME                                                             2009  ...   \n",
       "GEO                                     European Union (28 countries)  ...   \n",
       "A                   Total public expenditure on education as % of ...  ...   \n",
       "Value                                                            5.38  ...   \n",
       "Flag and Footnotes                                                  e  ...   \n",
       "\n",
       "                                                                  379  \\\n",
       "TIME                                                             2002   \n",
       "GEO                                                           Finland   \n",
       "A                   Total public expenditure on education as % of ...   \n",
       "Value                                                            6.22   \n",
       "Flag and Footnotes                                                NaN   \n",
       "\n",
       "                                                                  380  \\\n",
       "TIME                                                             2003   \n",
       "GEO                                                           Finland   \n",
       "A                   Total public expenditure on education as % of ...   \n",
       "Value                                                            6.43   \n",
       "Flag and Footnotes                                                NaN   \n",
       "\n",
       "                                                                  381  \\\n",
       "TIME                                                             2004   \n",
       "GEO                                                           Finland   \n",
       "A                   Total public expenditure on education as % of ...   \n",
       "Value                                                            6.42   \n",
       "Flag and Footnotes                                                NaN   \n",
       "\n",
       "                                                                  382  \\\n",
       "TIME                                                             2005   \n",
       "GEO                                                           Finland   \n",
       "A                   Total public expenditure on education as % of ...   \n",
       "Value                                                            6.30   \n",
       "Flag and Footnotes                                                NaN   \n",
       "\n",
       "                                                                  383  \\\n",
       "TIME                                                             2006   \n",
       "GEO                                                           Finland   \n",
       "A                   Total public expenditure on education as % of ...   \n",
       "Value                                                            6.18   \n",
       "Flag and Footnotes                                                NaN   \n",
       "\n",
       "                                                                  384  \\\n",
       "TIME                                                             2007   \n",
       "GEO                                                           Finland   \n",
       "A                   Total public expenditure on education as % of ...   \n",
       "Value                                                            5.90   \n",
       "Flag and Footnotes                                                NaN   \n",
       "\n",
       "                                                                  385  \\\n",
       "TIME                                                             2008   \n",
       "GEO                                                           Finland   \n",
       "A                   Total public expenditure on education as % of ...   \n",
       "Value                                                            6.10   \n",
       "Flag and Footnotes                                                NaN   \n",
       "\n",
       "                                                                  386  \\\n",
       "TIME                                                             2009   \n",
       "GEO                                                           Finland   \n",
       "A                   Total public expenditure on education as % of ...   \n",
       "Value                                                            6.81   \n",
       "Flag and Footnotes                                                NaN   \n",
       "\n",
       "                                                                  387  \\\n",
       "TIME                                                             2010   \n",
       "GEO                                                           Finland   \n",
       "A                   Total public expenditure on education as % of ...   \n",
       "Value                                                            6.85   \n",
       "Flag and Footnotes                                                NaN   \n",
       "\n",
       "                                                                  388  \n",
       "TIME                                                             2011  \n",
       "GEO                                                           Finland  \n",
       "A                   Total public expenditure on education as % of ...  \n",
       "Value                                                            6.76  \n",
       "Flag and Footnotes                                                NaN  \n",
       "\n",
       "[5 rows x 384 columns]"
      ]
     },
     "execution_count": 98,
     "metadata": {},
     "output_type": "execute_result"
    }
   ],
   "source": [
    "edu.T"
   ]
  },
  {
   "cell_type": "markdown",
   "id": "40330a39",
   "metadata": {},
   "source": [
    "# Selection"
   ]
  },
  {
   "cell_type": "code",
   "execution_count": 102,
   "id": "fd03b361-c2d3-4da9-b699-20217a346daf",
   "metadata": {},
   "outputs": [
    {
     "data": {
      "text/html": [
       "<div>\n",
       "<style scoped>\n",
       "    .dataframe tbody tr th:only-of-type {\n",
       "        vertical-align: middle;\n",
       "    }\n",
       "\n",
       "    .dataframe tbody tr th {\n",
       "        vertical-align: top;\n",
       "    }\n",
       "\n",
       "    .dataframe thead th {\n",
       "        text-align: right;\n",
       "    }\n",
       "</style>\n",
       "<table border=\"1\" class=\"dataframe\">\n",
       "  <thead>\n",
       "    <tr style=\"text-align: right;\">\n",
       "      <th></th>\n",
       "      <th>TIME</th>\n",
       "      <th>GEO</th>\n",
       "      <th>A</th>\n",
       "      <th>Value</th>\n",
       "      <th>Flag and Footnotes</th>\n",
       "    </tr>\n",
       "  </thead>\n",
       "  <tbody>\n",
       "    <tr>\n",
       "      <th>5</th>\n",
       "      <td>2000</td>\n",
       "      <td>European Union (28 countries)</td>\n",
       "      <td>Total public expenditure on education as % of ...</td>\n",
       "      <td>:</td>\n",
       "      <td>NaN</td>\n",
       "    </tr>\n",
       "    <tr>\n",
       "      <th>6</th>\n",
       "      <td>2001</td>\n",
       "      <td>European Union (28 countries)</td>\n",
       "      <td>Total public expenditure on education as % of ...</td>\n",
       "      <td>:</td>\n",
       "      <td>NaN</td>\n",
       "    </tr>\n",
       "  </tbody>\n",
       "</table>\n",
       "</div>"
      ],
      "text/plain": [
       "   TIME                            GEO  \\\n",
       "5  2000  European Union (28 countries)   \n",
       "6  2001  European Union (28 countries)   \n",
       "\n",
       "                                                   A Value Flag and Footnotes  \n",
       "5  Total public expenditure on education as % of ...     :                NaN  \n",
       "6  Total public expenditure on education as % of ...     :                NaN  "
      ]
     },
     "execution_count": 102,
     "metadata": {},
     "output_type": "execute_result"
    }
   ],
   "source": [
    "edu.head(2)"
   ]
  },
  {
   "cell_type": "code",
   "execution_count": 103,
   "id": "73607b81-00ff-44bd-8a74-3eaf2f89ec57",
   "metadata": {},
   "outputs": [
    {
     "data": {
      "text/plain": [
       "5         :\n",
       "6         :\n",
       "7      5.00\n",
       "8      5.03\n",
       "9      4.95\n",
       "       ... \n",
       "384    5.90\n",
       "385    6.10\n",
       "386    6.81\n",
       "387    6.85\n",
       "388    6.76\n",
       "Name: Value, Length: 384, dtype: object"
      ]
     },
     "execution_count": 103,
     "metadata": {},
     "output_type": "execute_result"
    }
   ],
   "source": [
    "edu['Value']"
   ]
  },
  {
   "cell_type": "code",
   "execution_count": 104,
   "id": "8c492702",
   "metadata": {},
   "outputs": [
    {
     "data": {
      "text/plain": [
       "pandas.core.series.Series"
      ]
     },
     "execution_count": 104,
     "metadata": {},
     "output_type": "execute_result"
    }
   ],
   "source": [
    "type(edu['Value']) # The result will be a Series data structure, not a DataFrame, because only one column is retrieved."
   ]
  },
  {
   "cell_type": "code",
   "execution_count": 105,
   "id": "fd5aa991",
   "metadata": {},
   "outputs": [
    {
     "data": {
      "text/html": [
       "<div>\n",
       "<style scoped>\n",
       "    .dataframe tbody tr th:only-of-type {\n",
       "        vertical-align: middle;\n",
       "    }\n",
       "\n",
       "    .dataframe tbody tr th {\n",
       "        vertical-align: top;\n",
       "    }\n",
       "\n",
       "    .dataframe thead th {\n",
       "        text-align: right;\n",
       "    }\n",
       "</style>\n",
       "<table border=\"1\" class=\"dataframe\">\n",
       "  <thead>\n",
       "    <tr style=\"text-align: right;\">\n",
       "      <th></th>\n",
       "      <th>Value</th>\n",
       "      <th>GEO</th>\n",
       "    </tr>\n",
       "  </thead>\n",
       "  <tbody>\n",
       "    <tr>\n",
       "      <th>5</th>\n",
       "      <td>:</td>\n",
       "      <td>European Union (28 countries)</td>\n",
       "    </tr>\n",
       "    <tr>\n",
       "      <th>6</th>\n",
       "      <td>:</td>\n",
       "      <td>European Union (28 countries)</td>\n",
       "    </tr>\n",
       "    <tr>\n",
       "      <th>7</th>\n",
       "      <td>5.00</td>\n",
       "      <td>European Union (28 countries)</td>\n",
       "    </tr>\n",
       "    <tr>\n",
       "      <th>8</th>\n",
       "      <td>5.03</td>\n",
       "      <td>European Union (28 countries)</td>\n",
       "    </tr>\n",
       "    <tr>\n",
       "      <th>9</th>\n",
       "      <td>4.95</td>\n",
       "      <td>European Union (28 countries)</td>\n",
       "    </tr>\n",
       "    <tr>\n",
       "      <th>...</th>\n",
       "      <td>...</td>\n",
       "      <td>...</td>\n",
       "    </tr>\n",
       "    <tr>\n",
       "      <th>384</th>\n",
       "      <td>5.90</td>\n",
       "      <td>Finland</td>\n",
       "    </tr>\n",
       "    <tr>\n",
       "      <th>385</th>\n",
       "      <td>6.10</td>\n",
       "      <td>Finland</td>\n",
       "    </tr>\n",
       "    <tr>\n",
       "      <th>386</th>\n",
       "      <td>6.81</td>\n",
       "      <td>Finland</td>\n",
       "    </tr>\n",
       "    <tr>\n",
       "      <th>387</th>\n",
       "      <td>6.85</td>\n",
       "      <td>Finland</td>\n",
       "    </tr>\n",
       "    <tr>\n",
       "      <th>388</th>\n",
       "      <td>6.76</td>\n",
       "      <td>Finland</td>\n",
       "    </tr>\n",
       "  </tbody>\n",
       "</table>\n",
       "<p>384 rows × 2 columns</p>\n",
       "</div>"
      ],
      "text/plain": [
       "    Value                            GEO\n",
       "5       :  European Union (28 countries)\n",
       "6       :  European Union (28 countries)\n",
       "7    5.00  European Union (28 countries)\n",
       "8    5.03  European Union (28 countries)\n",
       "9    4.95  European Union (28 countries)\n",
       "..    ...                            ...\n",
       "384  5.90                        Finland\n",
       "385  6.10                        Finland\n",
       "386  6.81                        Finland\n",
       "387  6.85                        Finland\n",
       "388  6.76                        Finland\n",
       "\n",
       "[384 rows x 2 columns]"
      ]
     },
     "execution_count": 105,
     "metadata": {},
     "output_type": "execute_result"
    }
   ],
   "source": [
    "edu[['Value','GEO']]"
   ]
  },
  {
   "cell_type": "code",
   "execution_count": 106,
   "id": "7e92fc9d",
   "metadata": {},
   "outputs": [
    {
     "data": {
      "text/html": [
       "<div>\n",
       "<style scoped>\n",
       "    .dataframe tbody tr th:only-of-type {\n",
       "        vertical-align: middle;\n",
       "    }\n",
       "\n",
       "    .dataframe tbody tr th {\n",
       "        vertical-align: top;\n",
       "    }\n",
       "\n",
       "    .dataframe thead th {\n",
       "        text-align: right;\n",
       "    }\n",
       "</style>\n",
       "<table border=\"1\" class=\"dataframe\">\n",
       "  <thead>\n",
       "    <tr style=\"text-align: right;\">\n",
       "      <th></th>\n",
       "      <th>TIME</th>\n",
       "      <th>GEO</th>\n",
       "      <th>A</th>\n",
       "      <th>Value</th>\n",
       "      <th>Flag and Footnotes</th>\n",
       "    </tr>\n",
       "  </thead>\n",
       "  <tbody>\n",
       "    <tr>\n",
       "      <th>15</th>\n",
       "      <td>2010</td>\n",
       "      <td>European Union (28 countries)</td>\n",
       "      <td>Total public expenditure on education as % of ...</td>\n",
       "      <td>5.41</td>\n",
       "      <td>e</td>\n",
       "    </tr>\n",
       "    <tr>\n",
       "      <th>16</th>\n",
       "      <td>2011</td>\n",
       "      <td>European Union (28 countries)</td>\n",
       "      <td>Total public expenditure on education as % of ...</td>\n",
       "      <td>5.25</td>\n",
       "      <td>e</td>\n",
       "    </tr>\n",
       "    <tr>\n",
       "      <th>17</th>\n",
       "      <td>2000</td>\n",
       "      <td>European Union (27 countries)</td>\n",
       "      <td>Total public expenditure on education as % of ...</td>\n",
       "      <td>4.91</td>\n",
       "      <td>s</td>\n",
       "    </tr>\n",
       "    <tr>\n",
       "      <th>18</th>\n",
       "      <td>2001</td>\n",
       "      <td>European Union (27 countries)</td>\n",
       "      <td>Total public expenditure on education as % of ...</td>\n",
       "      <td>4.99</td>\n",
       "      <td>s</td>\n",
       "    </tr>\n",
       "  </tbody>\n",
       "</table>\n",
       "</div>"
      ],
      "text/plain": [
       "    TIME                            GEO  \\\n",
       "15  2010  European Union (28 countries)   \n",
       "16  2011  European Union (28 countries)   \n",
       "17  2000  European Union (27 countries)   \n",
       "18  2001  European Union (27 countries)   \n",
       "\n",
       "                                                    A Value Flag and Footnotes  \n",
       "15  Total public expenditure on education as % of ...  5.41                  e  \n",
       "16  Total public expenditure on education as % of ...  5.25                  e  \n",
       "17  Total public expenditure on education as % of ...  4.91                  s  \n",
       "18  Total public expenditure on education as % of ...  4.99                  s  "
      ]
     },
     "execution_count": 106,
     "metadata": {},
     "output_type": "execute_result"
    }
   ],
   "source": [
    "edu[10:14] # select a subset of rows from a DataFrame"
   ]
  },
  {
   "cell_type": "code",
   "execution_count": 112,
   "id": "2a053f96-8ec7-4873-8754-115b91908ea7",
   "metadata": {},
   "outputs": [
    {
     "data": {
      "text/html": [
       "<div>\n",
       "<style scoped>\n",
       "    .dataframe tbody tr th:only-of-type {\n",
       "        vertical-align: middle;\n",
       "    }\n",
       "\n",
       "    .dataframe tbody tr th {\n",
       "        vertical-align: top;\n",
       "    }\n",
       "\n",
       "    .dataframe thead th {\n",
       "        text-align: right;\n",
       "    }\n",
       "</style>\n",
       "<table border=\"1\" class=\"dataframe\">\n",
       "  <thead>\n",
       "    <tr style=\"text-align: right;\">\n",
       "      <th></th>\n",
       "      <th>TIME</th>\n",
       "      <th>GEO</th>\n",
       "      <th>A</th>\n",
       "      <th>Value</th>\n",
       "      <th>Flag and Footnotes</th>\n",
       "    </tr>\n",
       "  </thead>\n",
       "  <tbody>\n",
       "    <tr>\n",
       "      <th>5</th>\n",
       "      <td>2000</td>\n",
       "      <td>European Union (28 countries)</td>\n",
       "      <td>Total public expenditure on education as % of ...</td>\n",
       "      <td>:</td>\n",
       "      <td>NaN</td>\n",
       "    </tr>\n",
       "    <tr>\n",
       "      <th>6</th>\n",
       "      <td>2001</td>\n",
       "      <td>European Union (28 countries)</td>\n",
       "      <td>Total public expenditure on education as % of ...</td>\n",
       "      <td>:</td>\n",
       "      <td>NaN</td>\n",
       "    </tr>\n",
       "    <tr>\n",
       "      <th>7</th>\n",
       "      <td>2002</td>\n",
       "      <td>European Union (28 countries)</td>\n",
       "      <td>Total public expenditure on education as % of ...</td>\n",
       "      <td>5.00</td>\n",
       "      <td>e</td>\n",
       "    </tr>\n",
       "    <tr>\n",
       "      <th>8</th>\n",
       "      <td>2003</td>\n",
       "      <td>European Union (28 countries)</td>\n",
       "      <td>Total public expenditure on education as % of ...</td>\n",
       "      <td>5.03</td>\n",
       "      <td>e</td>\n",
       "    </tr>\n",
       "    <tr>\n",
       "      <th>9</th>\n",
       "      <td>2004</td>\n",
       "      <td>European Union (28 countries)</td>\n",
       "      <td>Total public expenditure on education as % of ...</td>\n",
       "      <td>4.95</td>\n",
       "      <td>e</td>\n",
       "    </tr>\n",
       "  </tbody>\n",
       "</table>\n",
       "</div>"
      ],
      "text/plain": [
       "   TIME                            GEO  \\\n",
       "5  2000  European Union (28 countries)   \n",
       "6  2001  European Union (28 countries)   \n",
       "7  2002  European Union (28 countries)   \n",
       "8  2003  European Union (28 countries)   \n",
       "9  2004  European Union (28 countries)   \n",
       "\n",
       "                                                   A Value Flag and Footnotes  \n",
       "5  Total public expenditure on education as % of ...     :                NaN  \n",
       "6  Total public expenditure on education as % of ...     :                NaN  \n",
       "7  Total public expenditure on education as % of ...  5.00                  e  \n",
       "8  Total public expenditure on education as % of ...  5.03                  e  \n",
       "9  Total public expenditure on education as % of ...  4.95                  e  "
      ]
     },
     "execution_count": 112,
     "metadata": {},
     "output_type": "execute_result"
    }
   ],
   "source": [
    "edu.head()"
   ]
  },
  {
   "cell_type": "code",
   "execution_count": 108,
   "id": "6313ea71-a39e-4dda-8e1a-b6580959dcad",
   "metadata": {},
   "outputs": [
    {
     "data": {
      "text/html": [
       "<div>\n",
       "<style scoped>\n",
       "    .dataframe tbody tr th:only-of-type {\n",
       "        vertical-align: middle;\n",
       "    }\n",
       "\n",
       "    .dataframe tbody tr th {\n",
       "        vertical-align: top;\n",
       "    }\n",
       "\n",
       "    .dataframe thead th {\n",
       "        text-align: right;\n",
       "    }\n",
       "</style>\n",
       "<table border=\"1\" class=\"dataframe\">\n",
       "  <thead>\n",
       "    <tr style=\"text-align: right;\">\n",
       "      <th></th>\n",
       "      <th>TIME</th>\n",
       "      <th>GEO</th>\n",
       "    </tr>\n",
       "  </thead>\n",
       "  <tbody>\n",
       "    <tr>\n",
       "      <th>5</th>\n",
       "      <td>2000</td>\n",
       "      <td>European Union (28 countries)</td>\n",
       "    </tr>\n",
       "    <tr>\n",
       "      <th>6</th>\n",
       "      <td>2001</td>\n",
       "      <td>European Union (28 countries)</td>\n",
       "    </tr>\n",
       "    <tr>\n",
       "      <th>7</th>\n",
       "      <td>2002</td>\n",
       "      <td>European Union (28 countries)</td>\n",
       "    </tr>\n",
       "  </tbody>\n",
       "</table>\n",
       "</div>"
      ],
      "text/plain": [
       "   TIME                            GEO\n",
       "5  2000  European Union (28 countries)\n",
       "6  2001  European Union (28 countries)\n",
       "7  2002  European Union (28 countries)"
      ]
     },
     "execution_count": 108,
     "metadata": {},
     "output_type": "execute_result"
    }
   ],
   "source": [
    "edu.iloc[ 0:3 , 0:2]"
   ]
  },
  {
   "cell_type": "code",
   "execution_count": 114,
   "id": "0864cd4f",
   "metadata": {},
   "outputs": [
    {
     "data": {
      "text/html": [
       "<div>\n",
       "<style scoped>\n",
       "    .dataframe tbody tr th:only-of-type {\n",
       "        vertical-align: middle;\n",
       "    }\n",
       "\n",
       "    .dataframe tbody tr th {\n",
       "        vertical-align: top;\n",
       "    }\n",
       "\n",
       "    .dataframe thead th {\n",
       "        text-align: right;\n",
       "    }\n",
       "</style>\n",
       "<table border=\"1\" class=\"dataframe\">\n",
       "  <thead>\n",
       "    <tr style=\"text-align: right;\">\n",
       "      <th></th>\n",
       "      <th>Value</th>\n",
       "      <th>GEO</th>\n",
       "    </tr>\n",
       "  </thead>\n",
       "  <tbody>\n",
       "    <tr>\n",
       "      <th>5</th>\n",
       "      <td>:</td>\n",
       "      <td>European Union (28 countries)</td>\n",
       "    </tr>\n",
       "    <tr>\n",
       "      <th>21</th>\n",
       "      <td>4.95</td>\n",
       "      <td>European Union (27 countries)</td>\n",
       "    </tr>\n",
       "    <tr>\n",
       "      <th>32</th>\n",
       "      <td>5.06</td>\n",
       "      <td>European Union (25 countries)</td>\n",
       "    </tr>\n",
       "  </tbody>\n",
       "</table>\n",
       "</div>"
      ],
      "text/plain": [
       "   Value                            GEO\n",
       "5      :  European Union (28 countries)\n",
       "21  4.95  European Union (27 countries)\n",
       "32  5.06  European Union (25 countries)"
      ]
     },
     "execution_count": 114,
     "metadata": {},
     "output_type": "execute_result"
    }
   ],
   "source": [
    "edu.loc[ [5, 21, 32] , ['Value','GEO']]  #[rows, columns]"
   ]
  },
  {
   "cell_type": "code",
   "execution_count": 115,
   "id": "42a20215",
   "metadata": {},
   "outputs": [
    {
     "data": {
      "text/html": [
       "<div>\n",
       "<style scoped>\n",
       "    .dataframe tbody tr th:only-of-type {\n",
       "        vertical-align: middle;\n",
       "    }\n",
       "\n",
       "    .dataframe tbody tr th {\n",
       "        vertical-align: top;\n",
       "    }\n",
       "\n",
       "    .dataframe thead th {\n",
       "        text-align: right;\n",
       "    }\n",
       "</style>\n",
       "<table border=\"1\" class=\"dataframe\">\n",
       "  <thead>\n",
       "    <tr style=\"text-align: right;\">\n",
       "      <th></th>\n",
       "      <th>TIME</th>\n",
       "      <th>GEO</th>\n",
       "      <th>A</th>\n",
       "      <th>Value</th>\n",
       "      <th>Flag and Footnotes</th>\n",
       "    </tr>\n",
       "  </thead>\n",
       "  <tbody>\n",
       "    <tr>\n",
       "      <th>90</th>\n",
       "      <td>2001</td>\n",
       "      <td>Belgium</td>\n",
       "      <td>Total public expenditure on education as % of ...</td>\n",
       "      <td>5.99</td>\n",
       "      <td>i</td>\n",
       "    </tr>\n",
       "    <tr>\n",
       "      <th>91</th>\n",
       "      <td>2002</td>\n",
       "      <td>Belgium</td>\n",
       "      <td>Total public expenditure on education as % of ...</td>\n",
       "      <td>6.09</td>\n",
       "      <td>d</td>\n",
       "    </tr>\n",
       "    <tr>\n",
       "      <th>92</th>\n",
       "      <td>2003</td>\n",
       "      <td>Belgium</td>\n",
       "      <td>Total public expenditure on education as % of ...</td>\n",
       "      <td>6.02</td>\n",
       "      <td>d</td>\n",
       "    </tr>\n",
       "    <tr>\n",
       "      <th>93</th>\n",
       "      <td>2004</td>\n",
       "      <td>Belgium</td>\n",
       "      <td>Total public expenditure on education as % of ...</td>\n",
       "      <td>5.95</td>\n",
       "      <td>d</td>\n",
       "    </tr>\n",
       "    <tr>\n",
       "      <th>94</th>\n",
       "      <td>2005</td>\n",
       "      <td>Belgium</td>\n",
       "      <td>Total public expenditure on education as % of ...</td>\n",
       "      <td>5.92</td>\n",
       "      <td>d</td>\n",
       "    </tr>\n",
       "  </tbody>\n",
       "</table>\n",
       "</div>"
      ],
      "text/plain": [
       "    TIME      GEO                                                  A Value  \\\n",
       "90  2001  Belgium  Total public expenditure on education as % of ...  5.99   \n",
       "91  2002  Belgium  Total public expenditure on education as % of ...  6.09   \n",
       "92  2003  Belgium  Total public expenditure on education as % of ...  6.02   \n",
       "93  2004  Belgium  Total public expenditure on education as % of ...  5.95   \n",
       "94  2005  Belgium  Total public expenditure on education as % of ...  5.92   \n",
       "\n",
       "   Flag and Footnotes  \n",
       "90                  i  \n",
       "91                  d  \n",
       "92                  d  \n",
       "93                  d  \n",
       "94                  d  "
      ]
     },
     "execution_count": 115,
     "metadata": {},
     "output_type": "execute_result"
    }
   ],
   "source": [
    "edu.loc[90:94,:] #[rows, columns=all]"
   ]
  },
  {
   "cell_type": "code",
   "execution_count": 116,
   "id": "c88248cc-d807-4c67-af72-4bbaed62717f",
   "metadata": {},
   "outputs": [
    {
     "data": {
      "text/html": [
       "<div>\n",
       "<style scoped>\n",
       "    .dataframe tbody tr th:only-of-type {\n",
       "        vertical-align: middle;\n",
       "    }\n",
       "\n",
       "    .dataframe tbody tr th {\n",
       "        vertical-align: top;\n",
       "    }\n",
       "\n",
       "    .dataframe thead th {\n",
       "        text-align: right;\n",
       "    }\n",
       "</style>\n",
       "<table border=\"1\" class=\"dataframe\">\n",
       "  <thead>\n",
       "    <tr style=\"text-align: right;\">\n",
       "      <th></th>\n",
       "      <th>TIME</th>\n",
       "      <th>GEO</th>\n",
       "      <th>A</th>\n",
       "      <th>Value</th>\n",
       "      <th>Flag and Footnotes</th>\n",
       "    </tr>\n",
       "  </thead>\n",
       "  <tbody>\n",
       "    <tr>\n",
       "      <th>5</th>\n",
       "      <td>2000</td>\n",
       "      <td>European Union (28 countries)</td>\n",
       "      <td>Total public expenditure on education as % of ...</td>\n",
       "      <td>:</td>\n",
       "      <td>NaN</td>\n",
       "    </tr>\n",
       "    <tr>\n",
       "      <th>6</th>\n",
       "      <td>2001</td>\n",
       "      <td>European Union (28 countries)</td>\n",
       "      <td>Total public expenditure on education as % of ...</td>\n",
       "      <td>:</td>\n",
       "      <td>NaN</td>\n",
       "    </tr>\n",
       "    <tr>\n",
       "      <th>7</th>\n",
       "      <td>2002</td>\n",
       "      <td>European Union (28 countries)</td>\n",
       "      <td>Total public expenditure on education as % of ...</td>\n",
       "      <td>5.00</td>\n",
       "      <td>e</td>\n",
       "    </tr>\n",
       "    <tr>\n",
       "      <th>8</th>\n",
       "      <td>2003</td>\n",
       "      <td>European Union (28 countries)</td>\n",
       "      <td>Total public expenditure on education as % of ...</td>\n",
       "      <td>5.03</td>\n",
       "      <td>e</td>\n",
       "    </tr>\n",
       "    <tr>\n",
       "      <th>9</th>\n",
       "      <td>2004</td>\n",
       "      <td>European Union (28 countries)</td>\n",
       "      <td>Total public expenditure on education as % of ...</td>\n",
       "      <td>4.95</td>\n",
       "      <td>e</td>\n",
       "    </tr>\n",
       "  </tbody>\n",
       "</table>\n",
       "</div>"
      ],
      "text/plain": [
       "   TIME                            GEO  \\\n",
       "5  2000  European Union (28 countries)   \n",
       "6  2001  European Union (28 countries)   \n",
       "7  2002  European Union (28 countries)   \n",
       "8  2003  European Union (28 countries)   \n",
       "9  2004  European Union (28 countries)   \n",
       "\n",
       "                                                   A Value Flag and Footnotes  \n",
       "5  Total public expenditure on education as % of ...     :                NaN  \n",
       "6  Total public expenditure on education as % of ...     :                NaN  \n",
       "7  Total public expenditure on education as % of ...  5.00                  e  \n",
       "8  Total public expenditure on education as % of ...  5.03                  e  \n",
       "9  Total public expenditure on education as % of ...  4.95                  e  "
      ]
     },
     "execution_count": 116,
     "metadata": {},
     "output_type": "execute_result"
    }
   ],
   "source": [
    "edu.head()"
   ]
  },
  {
   "cell_type": "code",
   "execution_count": 117,
   "id": "0a4c6638",
   "metadata": {},
   "outputs": [
    {
     "data": {
      "text/html": [
       "<div>\n",
       "<style scoped>\n",
       "    .dataframe tbody tr th:only-of-type {\n",
       "        vertical-align: middle;\n",
       "    }\n",
       "\n",
       "    .dataframe tbody tr th {\n",
       "        vertical-align: top;\n",
       "    }\n",
       "\n",
       "    .dataframe thead th {\n",
       "        text-align: right;\n",
       "    }\n",
       "</style>\n",
       "<table border=\"1\" class=\"dataframe\">\n",
       "  <thead>\n",
       "    <tr style=\"text-align: right;\">\n",
       "      <th></th>\n",
       "      <th>TIME</th>\n",
       "      <th>GEO</th>\n",
       "      <th>A</th>\n",
       "      <th>Value</th>\n",
       "      <th>Flag and Footnotes</th>\n",
       "    </tr>\n",
       "  </thead>\n",
       "  <tbody>\n",
       "    <tr>\n",
       "      <th>299</th>\n",
       "      <td>2006</td>\n",
       "      <td>Netherlands</td>\n",
       "      <td>Total public expenditure on education as % of ...</td>\n",
       "      <td>5.50</td>\n",
       "      <td>NaN</td>\n",
       "    </tr>\n",
       "    <tr>\n",
       "      <th>348</th>\n",
       "      <td>2007</td>\n",
       "      <td>Romania</td>\n",
       "      <td>Total public expenditure on education as % of ...</td>\n",
       "      <td>4.25</td>\n",
       "      <td>NaN</td>\n",
       "    </tr>\n",
       "    <tr>\n",
       "      <th>183</th>\n",
       "      <td>2010</td>\n",
       "      <td>Greece</td>\n",
       "      <td>Total public expenditure on education as % of ...</td>\n",
       "      <td>:</td>\n",
       "      <td>NaN</td>\n",
       "    </tr>\n",
       "    <tr>\n",
       "      <th>78</th>\n",
       "      <td>2001</td>\n",
       "      <td>Euro area (13 countries)</td>\n",
       "      <td>Total public expenditure on education as % of ...</td>\n",
       "      <td>4.97</td>\n",
       "      <td>s</td>\n",
       "    </tr>\n",
       "    <tr>\n",
       "      <th>289</th>\n",
       "      <td>2008</td>\n",
       "      <td>Malta</td>\n",
       "      <td>Total public expenditure on education as % of ...</td>\n",
       "      <td>5.72</td>\n",
       "      <td>i</td>\n",
       "    </tr>\n",
       "  </tbody>\n",
       "</table>\n",
       "</div>"
      ],
      "text/plain": [
       "     TIME                       GEO  \\\n",
       "299  2006               Netherlands   \n",
       "348  2007                   Romania   \n",
       "183  2010                    Greece   \n",
       "78   2001  Euro area (13 countries)   \n",
       "289  2008                     Malta   \n",
       "\n",
       "                                                     A Value  \\\n",
       "299  Total public expenditure on education as % of ...  5.50   \n",
       "348  Total public expenditure on education as % of ...  4.25   \n",
       "183  Total public expenditure on education as % of ...     :   \n",
       "78   Total public expenditure on education as % of ...  4.97   \n",
       "289  Total public expenditure on education as % of ...  5.72   \n",
       "\n",
       "    Flag and Footnotes  \n",
       "299                NaN  \n",
       "348                NaN  \n",
       "183                NaN  \n",
       "78                   s  \n",
       "289                  i  "
      ]
     },
     "execution_count": 117,
     "metadata": {},
     "output_type": "execute_result"
    }
   ],
   "source": [
    "edu.sample(5, random_state=23) # random sample >> 23 seed for random number generator.\n",
    "# seed makes the random numbers predictable"
   ]
  },
  {
   "cell_type": "markdown",
   "id": "d3a28deb",
   "metadata": {},
   "source": [
    "# Filtering Data"
   ]
  },
  {
   "cell_type": "code",
   "execution_count": 125,
   "id": "469bf140-6e12-4eb5-850a-460bcf680a72",
   "metadata": {},
   "outputs": [
    {
     "data": {
      "text/plain": [
       "Index(['TIME', 'GEO', 'A', 'Value', 'Flag and Footnotes'], dtype='object')"
      ]
     },
     "execution_count": 125,
     "metadata": {},
     "output_type": "execute_result"
    }
   ],
   "source": [
    "edu.columns"
   ]
  },
  {
   "cell_type": "code",
   "execution_count": 124,
   "id": "0ed322f8-5d12-4cb1-816b-2b1bfd57375e",
   "metadata": {},
   "outputs": [
    {
     "data": {
      "text/html": [
       "<div>\n",
       "<style scoped>\n",
       "    .dataframe tbody tr th:only-of-type {\n",
       "        vertical-align: middle;\n",
       "    }\n",
       "\n",
       "    .dataframe tbody tr th {\n",
       "        vertical-align: top;\n",
       "    }\n",
       "\n",
       "    .dataframe thead th {\n",
       "        text-align: right;\n",
       "    }\n",
       "</style>\n",
       "<table border=\"1\" class=\"dataframe\">\n",
       "  <thead>\n",
       "    <tr style=\"text-align: right;\">\n",
       "      <th></th>\n",
       "      <th>TIME</th>\n",
       "      <th>GEO</th>\n",
       "      <th>A</th>\n",
       "      <th>Value</th>\n",
       "      <th>Flag and Footnotes</th>\n",
       "    </tr>\n",
       "  </thead>\n",
       "  <tbody>\n",
       "    <tr>\n",
       "      <th>9</th>\n",
       "      <td>2004</td>\n",
       "      <td>European Union (28 countries)</td>\n",
       "      <td>Total public expenditure on education as % of ...</td>\n",
       "      <td>4.95</td>\n",
       "      <td>e</td>\n",
       "    </tr>\n",
       "    <tr>\n",
       "      <th>21</th>\n",
       "      <td>2004</td>\n",
       "      <td>European Union (27 countries)</td>\n",
       "      <td>Total public expenditure on education as % of ...</td>\n",
       "      <td>4.95</td>\n",
       "      <td>e</td>\n",
       "    </tr>\n",
       "    <tr>\n",
       "      <th>33</th>\n",
       "      <td>2004</td>\n",
       "      <td>European Union (25 countries)</td>\n",
       "      <td>Total public expenditure on education as % of ...</td>\n",
       "      <td>4.98</td>\n",
       "      <td>e</td>\n",
       "    </tr>\n",
       "    <tr>\n",
       "      <th>45</th>\n",
       "      <td>2004</td>\n",
       "      <td>Euro area (18 countries)</td>\n",
       "      <td>Total public expenditure on education as % of ...</td>\n",
       "      <td>4.80</td>\n",
       "      <td>e</td>\n",
       "    </tr>\n",
       "    <tr>\n",
       "      <th>57</th>\n",
       "      <td>2004</td>\n",
       "      <td>Euro area (17 countries)</td>\n",
       "      <td>Total public expenditure on education as % of ...</td>\n",
       "      <td>4.80</td>\n",
       "      <td>e</td>\n",
       "    </tr>\n",
       "    <tr>\n",
       "      <th>69</th>\n",
       "      <td>2004</td>\n",
       "      <td>Euro area (15 countries)</td>\n",
       "      <td>Total public expenditure on education as % of ...</td>\n",
       "      <td>4.96</td>\n",
       "      <td>e</td>\n",
       "    </tr>\n",
       "    <tr>\n",
       "      <th>81</th>\n",
       "      <td>2004</td>\n",
       "      <td>Euro area (13 countries)</td>\n",
       "      <td>Total public expenditure on education as % of ...</td>\n",
       "      <td>4.95</td>\n",
       "      <td>e</td>\n",
       "    </tr>\n",
       "    <tr>\n",
       "      <th>93</th>\n",
       "      <td>2004</td>\n",
       "      <td>Belgium</td>\n",
       "      <td>Total public expenditure on education as % of ...</td>\n",
       "      <td>5.95</td>\n",
       "      <td>d</td>\n",
       "    </tr>\n",
       "    <tr>\n",
       "      <th>105</th>\n",
       "      <td>2004</td>\n",
       "      <td>Bulgaria</td>\n",
       "      <td>Total public expenditure on education as % of ...</td>\n",
       "      <td>4.40</td>\n",
       "      <td>NaN</td>\n",
       "    </tr>\n",
       "    <tr>\n",
       "      <th>117</th>\n",
       "      <td>2004</td>\n",
       "      <td>Czech Republic</td>\n",
       "      <td>Total public expenditure on education as % of ...</td>\n",
       "      <td>4.20</td>\n",
       "      <td>NaN</td>\n",
       "    </tr>\n",
       "    <tr>\n",
       "      <th>129</th>\n",
       "      <td>2004</td>\n",
       "      <td>Denmark</td>\n",
       "      <td>Total public expenditure on education as % of ...</td>\n",
       "      <td>8.43</td>\n",
       "      <td>NaN</td>\n",
       "    </tr>\n",
       "    <tr>\n",
       "      <th>141</th>\n",
       "      <td>2004</td>\n",
       "      <td>Germany (until 1990 former territory of the FRG)</td>\n",
       "      <td>Total public expenditure on education as % of ...</td>\n",
       "      <td>4.62</td>\n",
       "      <td>NaN</td>\n",
       "    </tr>\n",
       "    <tr>\n",
       "      <th>153</th>\n",
       "      <td>2004</td>\n",
       "      <td>Estonia</td>\n",
       "      <td>Total public expenditure on education as % of ...</td>\n",
       "      <td>4.92</td>\n",
       "      <td>NaN</td>\n",
       "    </tr>\n",
       "    <tr>\n",
       "      <th>165</th>\n",
       "      <td>2004</td>\n",
       "      <td>Ireland</td>\n",
       "      <td>Total public expenditure on education as % of ...</td>\n",
       "      <td>4.66</td>\n",
       "      <td>NaN</td>\n",
       "    </tr>\n",
       "    <tr>\n",
       "      <th>177</th>\n",
       "      <td>2004</td>\n",
       "      <td>Greece</td>\n",
       "      <td>Total public expenditure on education as % of ...</td>\n",
       "      <td>3.83</td>\n",
       "      <td>i</td>\n",
       "    </tr>\n",
       "    <tr>\n",
       "      <th>189</th>\n",
       "      <td>2004</td>\n",
       "      <td>Spain</td>\n",
       "      <td>Total public expenditure on education as % of ...</td>\n",
       "      <td>4.25</td>\n",
       "      <td>NaN</td>\n",
       "    </tr>\n",
       "    <tr>\n",
       "      <th>201</th>\n",
       "      <td>2004</td>\n",
       "      <td>France</td>\n",
       "      <td>Total public expenditure on education as % of ...</td>\n",
       "      <td>5.80</td>\n",
       "      <td>NaN</td>\n",
       "    </tr>\n",
       "    <tr>\n",
       "      <th>213</th>\n",
       "      <td>2004</td>\n",
       "      <td>Italy</td>\n",
       "      <td>Total public expenditure on education as % of ...</td>\n",
       "      <td>4.56</td>\n",
       "      <td>NaN</td>\n",
       "    </tr>\n",
       "    <tr>\n",
       "      <th>225</th>\n",
       "      <td>2004</td>\n",
       "      <td>Cyprus</td>\n",
       "      <td>Total public expenditure on education as % of ...</td>\n",
       "      <td>6.77</td>\n",
       "      <td>d</td>\n",
       "    </tr>\n",
       "    <tr>\n",
       "      <th>237</th>\n",
       "      <td>2004</td>\n",
       "      <td>Latvia</td>\n",
       "      <td>Total public expenditure on education as % of ...</td>\n",
       "      <td>5.12</td>\n",
       "      <td>NaN</td>\n",
       "    </tr>\n",
       "    <tr>\n",
       "      <th>249</th>\n",
       "      <td>2004</td>\n",
       "      <td>Lithuania</td>\n",
       "      <td>Total public expenditure on education as % of ...</td>\n",
       "      <td>5.17</td>\n",
       "      <td>NaN</td>\n",
       "    </tr>\n",
       "    <tr>\n",
       "      <th>261</th>\n",
       "      <td>2004</td>\n",
       "      <td>Luxembourg</td>\n",
       "      <td>Total public expenditure on education as % of ...</td>\n",
       "      <td>3.87</td>\n",
       "      <td>d</td>\n",
       "    </tr>\n",
       "    <tr>\n",
       "      <th>273</th>\n",
       "      <td>2004</td>\n",
       "      <td>Hungary</td>\n",
       "      <td>Total public expenditure on education as % of ...</td>\n",
       "      <td>5.44</td>\n",
       "      <td>NaN</td>\n",
       "    </tr>\n",
       "    <tr>\n",
       "      <th>285</th>\n",
       "      <td>2004</td>\n",
       "      <td>Malta</td>\n",
       "      <td>Total public expenditure on education as % of ...</td>\n",
       "      <td>4.66</td>\n",
       "      <td>NaN</td>\n",
       "    </tr>\n",
       "    <tr>\n",
       "      <th>297</th>\n",
       "      <td>2004</td>\n",
       "      <td>Netherlands</td>\n",
       "      <td>Total public expenditure on education as % of ...</td>\n",
       "      <td>5.50</td>\n",
       "      <td>NaN</td>\n",
       "    </tr>\n",
       "    <tr>\n",
       "      <th>309</th>\n",
       "      <td>2004</td>\n",
       "      <td>Austria</td>\n",
       "      <td>Total public expenditure on education as % of ...</td>\n",
       "      <td>5.48</td>\n",
       "      <td>NaN</td>\n",
       "    </tr>\n",
       "    <tr>\n",
       "      <th>321</th>\n",
       "      <td>2004</td>\n",
       "      <td>Poland</td>\n",
       "      <td>Total public expenditure on education as % of ...</td>\n",
       "      <td>5.41</td>\n",
       "      <td>d</td>\n",
       "    </tr>\n",
       "    <tr>\n",
       "      <th>333</th>\n",
       "      <td>2004</td>\n",
       "      <td>Portugal</td>\n",
       "      <td>Total public expenditure on education as % of ...</td>\n",
       "      <td>5.10</td>\n",
       "      <td>d</td>\n",
       "    </tr>\n",
       "    <tr>\n",
       "      <th>345</th>\n",
       "      <td>2004</td>\n",
       "      <td>Romania</td>\n",
       "      <td>Total public expenditure on education as % of ...</td>\n",
       "      <td>3.28</td>\n",
       "      <td>NaN</td>\n",
       "    </tr>\n",
       "    <tr>\n",
       "      <th>357</th>\n",
       "      <td>2004</td>\n",
       "      <td>Slovenia</td>\n",
       "      <td>Total public expenditure on education as % of ...</td>\n",
       "      <td>5.74</td>\n",
       "      <td>NaN</td>\n",
       "    </tr>\n",
       "    <tr>\n",
       "      <th>369</th>\n",
       "      <td>2004</td>\n",
       "      <td>Slovakia</td>\n",
       "      <td>Total public expenditure on education as % of ...</td>\n",
       "      <td>4.19</td>\n",
       "      <td>d</td>\n",
       "    </tr>\n",
       "    <tr>\n",
       "      <th>381</th>\n",
       "      <td>2004</td>\n",
       "      <td>Finland</td>\n",
       "      <td>Total public expenditure on education as % of ...</td>\n",
       "      <td>6.42</td>\n",
       "      <td>NaN</td>\n",
       "    </tr>\n",
       "  </tbody>\n",
       "</table>\n",
       "</div>"
      ],
      "text/plain": [
       "     TIME                                               GEO  \\\n",
       "9    2004                     European Union (28 countries)   \n",
       "21   2004                     European Union (27 countries)   \n",
       "33   2004                     European Union (25 countries)   \n",
       "45   2004                          Euro area (18 countries)   \n",
       "57   2004                          Euro area (17 countries)   \n",
       "69   2004                          Euro area (15 countries)   \n",
       "81   2004                          Euro area (13 countries)   \n",
       "93   2004                                           Belgium   \n",
       "105  2004                                          Bulgaria   \n",
       "117  2004                                    Czech Republic   \n",
       "129  2004                                           Denmark   \n",
       "141  2004  Germany (until 1990 former territory of the FRG)   \n",
       "153  2004                                           Estonia   \n",
       "165  2004                                           Ireland   \n",
       "177  2004                                            Greece   \n",
       "189  2004                                             Spain   \n",
       "201  2004                                            France   \n",
       "213  2004                                             Italy   \n",
       "225  2004                                            Cyprus   \n",
       "237  2004                                            Latvia   \n",
       "249  2004                                         Lithuania   \n",
       "261  2004                                        Luxembourg   \n",
       "273  2004                                           Hungary   \n",
       "285  2004                                             Malta   \n",
       "297  2004                                       Netherlands   \n",
       "309  2004                                           Austria   \n",
       "321  2004                                            Poland   \n",
       "333  2004                                          Portugal   \n",
       "345  2004                                           Romania   \n",
       "357  2004                                          Slovenia   \n",
       "369  2004                                          Slovakia   \n",
       "381  2004                                           Finland   \n",
       "\n",
       "                                                     A Value  \\\n",
       "9    Total public expenditure on education as % of ...  4.95   \n",
       "21   Total public expenditure on education as % of ...  4.95   \n",
       "33   Total public expenditure on education as % of ...  4.98   \n",
       "45   Total public expenditure on education as % of ...  4.80   \n",
       "57   Total public expenditure on education as % of ...  4.80   \n",
       "69   Total public expenditure on education as % of ...  4.96   \n",
       "81   Total public expenditure on education as % of ...  4.95   \n",
       "93   Total public expenditure on education as % of ...  5.95   \n",
       "105  Total public expenditure on education as % of ...  4.40   \n",
       "117  Total public expenditure on education as % of ...  4.20   \n",
       "129  Total public expenditure on education as % of ...  8.43   \n",
       "141  Total public expenditure on education as % of ...  4.62   \n",
       "153  Total public expenditure on education as % of ...  4.92   \n",
       "165  Total public expenditure on education as % of ...  4.66   \n",
       "177  Total public expenditure on education as % of ...  3.83   \n",
       "189  Total public expenditure on education as % of ...  4.25   \n",
       "201  Total public expenditure on education as % of ...  5.80   \n",
       "213  Total public expenditure on education as % of ...  4.56   \n",
       "225  Total public expenditure on education as % of ...  6.77   \n",
       "237  Total public expenditure on education as % of ...  5.12   \n",
       "249  Total public expenditure on education as % of ...  5.17   \n",
       "261  Total public expenditure on education as % of ...  3.87   \n",
       "273  Total public expenditure on education as % of ...  5.44   \n",
       "285  Total public expenditure on education as % of ...  4.66   \n",
       "297  Total public expenditure on education as % of ...  5.50   \n",
       "309  Total public expenditure on education as % of ...  5.48   \n",
       "321  Total public expenditure on education as % of ...  5.41   \n",
       "333  Total public expenditure on education as % of ...  5.10   \n",
       "345  Total public expenditure on education as % of ...  3.28   \n",
       "357  Total public expenditure on education as % of ...  5.74   \n",
       "369  Total public expenditure on education as % of ...  4.19   \n",
       "381  Total public expenditure on education as % of ...  6.42   \n",
       "\n",
       "    Flag and Footnotes  \n",
       "9                    e  \n",
       "21                   e  \n",
       "33                   e  \n",
       "45                   e  \n",
       "57                   e  \n",
       "69                   e  \n",
       "81                   e  \n",
       "93                   d  \n",
       "105                NaN  \n",
       "117                NaN  \n",
       "129                NaN  \n",
       "141                NaN  \n",
       "153                NaN  \n",
       "165                NaN  \n",
       "177                  i  \n",
       "189                NaN  \n",
       "201                NaN  \n",
       "213                NaN  \n",
       "225                  d  \n",
       "237                NaN  \n",
       "249                NaN  \n",
       "261                  d  \n",
       "273                NaN  \n",
       "285                NaN  \n",
       "297                NaN  \n",
       "309                NaN  \n",
       "321                  d  \n",
       "333                  d  \n",
       "345                NaN  \n",
       "357                NaN  \n",
       "369                  d  \n",
       "381                NaN  "
      ]
     },
     "execution_count": 124,
     "metadata": {},
     "output_type": "execute_result"
    }
   ],
   "source": [
    "edu[edu['TIME'] == 2004]"
   ]
  },
  {
   "cell_type": "code",
   "execution_count": 120,
   "id": "2c4f13b9-63c8-460c-bde8-03437e241c4b",
   "metadata": {},
   "outputs": [
    {
     "data": {
      "text/plain": [
       "5      False\n",
       "6      False\n",
       "7      False\n",
       "8      False\n",
       "9       True\n",
       "       ...  \n",
       "384    False\n",
       "385    False\n",
       "386    False\n",
       "387    False\n",
       "388    False\n",
       "Name: TIME, Length: 384, dtype: bool"
      ]
     },
     "execution_count": 120,
     "metadata": {},
     "output_type": "execute_result"
    }
   ],
   "source": [
    "edu['TIME'] == 2004"
   ]
  },
  {
   "cell_type": "code",
   "execution_count": 126,
   "id": "75abbe07",
   "metadata": {},
   "outputs": [
    {
     "data": {
      "text/html": [
       "<div>\n",
       "<style scoped>\n",
       "    .dataframe tbody tr th:only-of-type {\n",
       "        vertical-align: middle;\n",
       "    }\n",
       "\n",
       "    .dataframe tbody tr th {\n",
       "        vertical-align: top;\n",
       "    }\n",
       "\n",
       "    .dataframe thead th {\n",
       "        text-align: right;\n",
       "    }\n",
       "</style>\n",
       "<table border=\"1\" class=\"dataframe\">\n",
       "  <thead>\n",
       "    <tr style=\"text-align: right;\">\n",
       "      <th></th>\n",
       "      <th>TIME</th>\n",
       "      <th>GEO</th>\n",
       "      <th>A</th>\n",
       "      <th>Value</th>\n",
       "      <th>Flag and Footnotes</th>\n",
       "    </tr>\n",
       "  </thead>\n",
       "  <tbody>\n",
       "    <tr>\n",
       "      <th>16</th>\n",
       "      <td>2011</td>\n",
       "      <td>European Union (28 countries)</td>\n",
       "      <td>Total public expenditure on education as % of ...</td>\n",
       "      <td>5.25</td>\n",
       "      <td>e</td>\n",
       "    </tr>\n",
       "    <tr>\n",
       "      <th>28</th>\n",
       "      <td>2011</td>\n",
       "      <td>European Union (27 countries)</td>\n",
       "      <td>Total public expenditure on education as % of ...</td>\n",
       "      <td>5.25</td>\n",
       "      <td>e</td>\n",
       "    </tr>\n",
       "    <tr>\n",
       "      <th>40</th>\n",
       "      <td>2011</td>\n",
       "      <td>European Union (25 countries)</td>\n",
       "      <td>Total public expenditure on education as % of ...</td>\n",
       "      <td>5.31</td>\n",
       "      <td>e</td>\n",
       "    </tr>\n",
       "    <tr>\n",
       "      <th>52</th>\n",
       "      <td>2011</td>\n",
       "      <td>Euro area (18 countries)</td>\n",
       "      <td>Total public expenditure on education as % of ...</td>\n",
       "      <td>5.15</td>\n",
       "      <td>e</td>\n",
       "    </tr>\n",
       "    <tr>\n",
       "      <th>64</th>\n",
       "      <td>2011</td>\n",
       "      <td>Euro area (17 countries)</td>\n",
       "      <td>Total public expenditure on education as % of ...</td>\n",
       "      <td>5.15</td>\n",
       "      <td>e</td>\n",
       "    </tr>\n",
       "    <tr>\n",
       "      <th>76</th>\n",
       "      <td>2011</td>\n",
       "      <td>Euro area (15 countries)</td>\n",
       "      <td>Total public expenditure on education as % of ...</td>\n",
       "      <td>5.16</td>\n",
       "      <td>e</td>\n",
       "    </tr>\n",
       "    <tr>\n",
       "      <th>88</th>\n",
       "      <td>2011</td>\n",
       "      <td>Euro area (13 countries)</td>\n",
       "      <td>Total public expenditure on education as % of ...</td>\n",
       "      <td>5.15</td>\n",
       "      <td>e</td>\n",
       "    </tr>\n",
       "    <tr>\n",
       "      <th>100</th>\n",
       "      <td>2011</td>\n",
       "      <td>Belgium</td>\n",
       "      <td>Total public expenditure on education as % of ...</td>\n",
       "      <td>6.55</td>\n",
       "      <td>d</td>\n",
       "    </tr>\n",
       "    <tr>\n",
       "      <th>112</th>\n",
       "      <td>2011</td>\n",
       "      <td>Bulgaria</td>\n",
       "      <td>Total public expenditure on education as % of ...</td>\n",
       "      <td>3.82</td>\n",
       "      <td>NaN</td>\n",
       "    </tr>\n",
       "    <tr>\n",
       "      <th>124</th>\n",
       "      <td>2011</td>\n",
       "      <td>Czech Republic</td>\n",
       "      <td>Total public expenditure on education as % of ...</td>\n",
       "      <td>4.51</td>\n",
       "      <td>NaN</td>\n",
       "    </tr>\n",
       "    <tr>\n",
       "      <th>136</th>\n",
       "      <td>2011</td>\n",
       "      <td>Denmark</td>\n",
       "      <td>Total public expenditure on education as % of ...</td>\n",
       "      <td>8.75</td>\n",
       "      <td>d</td>\n",
       "    </tr>\n",
       "    <tr>\n",
       "      <th>148</th>\n",
       "      <td>2011</td>\n",
       "      <td>Germany (until 1990 former territory of the FRG)</td>\n",
       "      <td>Total public expenditure on education as % of ...</td>\n",
       "      <td>4.98</td>\n",
       "      <td>NaN</td>\n",
       "    </tr>\n",
       "    <tr>\n",
       "      <th>160</th>\n",
       "      <td>2011</td>\n",
       "      <td>Estonia</td>\n",
       "      <td>Total public expenditure on education as % of ...</td>\n",
       "      <td>5.16</td>\n",
       "      <td>NaN</td>\n",
       "    </tr>\n",
       "    <tr>\n",
       "      <th>172</th>\n",
       "      <td>2011</td>\n",
       "      <td>Ireland</td>\n",
       "      <td>Total public expenditure on education as % of ...</td>\n",
       "      <td>6.15</td>\n",
       "      <td>NaN</td>\n",
       "    </tr>\n",
       "    <tr>\n",
       "      <th>184</th>\n",
       "      <td>2011</td>\n",
       "      <td>Greece</td>\n",
       "      <td>Total public expenditure on education as % of ...</td>\n",
       "      <td>:</td>\n",
       "      <td>NaN</td>\n",
       "    </tr>\n",
       "    <tr>\n",
       "      <th>196</th>\n",
       "      <td>2011</td>\n",
       "      <td>Spain</td>\n",
       "      <td>Total public expenditure on education as % of ...</td>\n",
       "      <td>4.82</td>\n",
       "      <td>NaN</td>\n",
       "    </tr>\n",
       "    <tr>\n",
       "      <th>208</th>\n",
       "      <td>2011</td>\n",
       "      <td>France</td>\n",
       "      <td>Total public expenditure on education as % of ...</td>\n",
       "      <td>5.68</td>\n",
       "      <td>NaN</td>\n",
       "    </tr>\n",
       "    <tr>\n",
       "      <th>220</th>\n",
       "      <td>2011</td>\n",
       "      <td>Italy</td>\n",
       "      <td>Total public expenditure on education as % of ...</td>\n",
       "      <td>4.29</td>\n",
       "      <td>NaN</td>\n",
       "    </tr>\n",
       "    <tr>\n",
       "      <th>232</th>\n",
       "      <td>2011</td>\n",
       "      <td>Cyprus</td>\n",
       "      <td>Total public expenditure on education as % of ...</td>\n",
       "      <td>7.87</td>\n",
       "      <td>d</td>\n",
       "    </tr>\n",
       "    <tr>\n",
       "      <th>244</th>\n",
       "      <td>2011</td>\n",
       "      <td>Latvia</td>\n",
       "      <td>Total public expenditure on education as % of ...</td>\n",
       "      <td>4.96</td>\n",
       "      <td>NaN</td>\n",
       "    </tr>\n",
       "    <tr>\n",
       "      <th>256</th>\n",
       "      <td>2011</td>\n",
       "      <td>Lithuania</td>\n",
       "      <td>Total public expenditure on education as % of ...</td>\n",
       "      <td>5.17</td>\n",
       "      <td>NaN</td>\n",
       "    </tr>\n",
       "    <tr>\n",
       "      <th>268</th>\n",
       "      <td>2011</td>\n",
       "      <td>Luxembourg</td>\n",
       "      <td>Total public expenditure on education as % of ...</td>\n",
       "      <td>:</td>\n",
       "      <td>NaN</td>\n",
       "    </tr>\n",
       "    <tr>\n",
       "      <th>280</th>\n",
       "      <td>2011</td>\n",
       "      <td>Hungary</td>\n",
       "      <td>Total public expenditure on education as % of ...</td>\n",
       "      <td>4.71</td>\n",
       "      <td>NaN</td>\n",
       "    </tr>\n",
       "    <tr>\n",
       "      <th>292</th>\n",
       "      <td>2011</td>\n",
       "      <td>Malta</td>\n",
       "      <td>Total public expenditure on education as % of ...</td>\n",
       "      <td>7.96</td>\n",
       "      <td>NaN</td>\n",
       "    </tr>\n",
       "    <tr>\n",
       "      <th>304</th>\n",
       "      <td>2011</td>\n",
       "      <td>Netherlands</td>\n",
       "      <td>Total public expenditure on education as % of ...</td>\n",
       "      <td>5.93</td>\n",
       "      <td>NaN</td>\n",
       "    </tr>\n",
       "    <tr>\n",
       "      <th>316</th>\n",
       "      <td>2011</td>\n",
       "      <td>Austria</td>\n",
       "      <td>Total public expenditure on education as % of ...</td>\n",
       "      <td>5.80</td>\n",
       "      <td>NaN</td>\n",
       "    </tr>\n",
       "    <tr>\n",
       "      <th>328</th>\n",
       "      <td>2011</td>\n",
       "      <td>Poland</td>\n",
       "      <td>Total public expenditure on education as % of ...</td>\n",
       "      <td>4.94</td>\n",
       "      <td>NaN</td>\n",
       "    </tr>\n",
       "    <tr>\n",
       "      <th>340</th>\n",
       "      <td>2011</td>\n",
       "      <td>Portugal</td>\n",
       "      <td>Total public expenditure on education as % of ...</td>\n",
       "      <td>5.27</td>\n",
       "      <td>d</td>\n",
       "    </tr>\n",
       "    <tr>\n",
       "      <th>352</th>\n",
       "      <td>2011</td>\n",
       "      <td>Romania</td>\n",
       "      <td>Total public expenditure on education as % of ...</td>\n",
       "      <td>3.07</td>\n",
       "      <td>NaN</td>\n",
       "    </tr>\n",
       "    <tr>\n",
       "      <th>364</th>\n",
       "      <td>2011</td>\n",
       "      <td>Slovenia</td>\n",
       "      <td>Total public expenditure on education as % of ...</td>\n",
       "      <td>5.68</td>\n",
       "      <td>NaN</td>\n",
       "    </tr>\n",
       "    <tr>\n",
       "      <th>376</th>\n",
       "      <td>2011</td>\n",
       "      <td>Slovakia</td>\n",
       "      <td>Total public expenditure on education as % of ...</td>\n",
       "      <td>4.06</td>\n",
       "      <td>d</td>\n",
       "    </tr>\n",
       "    <tr>\n",
       "      <th>388</th>\n",
       "      <td>2011</td>\n",
       "      <td>Finland</td>\n",
       "      <td>Total public expenditure on education as % of ...</td>\n",
       "      <td>6.76</td>\n",
       "      <td>NaN</td>\n",
       "    </tr>\n",
       "  </tbody>\n",
       "</table>\n",
       "</div>"
      ],
      "text/plain": [
       "     TIME                                               GEO  \\\n",
       "16   2011                     European Union (28 countries)   \n",
       "28   2011                     European Union (27 countries)   \n",
       "40   2011                     European Union (25 countries)   \n",
       "52   2011                          Euro area (18 countries)   \n",
       "64   2011                          Euro area (17 countries)   \n",
       "76   2011                          Euro area (15 countries)   \n",
       "88   2011                          Euro area (13 countries)   \n",
       "100  2011                                           Belgium   \n",
       "112  2011                                          Bulgaria   \n",
       "124  2011                                    Czech Republic   \n",
       "136  2011                                           Denmark   \n",
       "148  2011  Germany (until 1990 former territory of the FRG)   \n",
       "160  2011                                           Estonia   \n",
       "172  2011                                           Ireland   \n",
       "184  2011                                            Greece   \n",
       "196  2011                                             Spain   \n",
       "208  2011                                            France   \n",
       "220  2011                                             Italy   \n",
       "232  2011                                            Cyprus   \n",
       "244  2011                                            Latvia   \n",
       "256  2011                                         Lithuania   \n",
       "268  2011                                        Luxembourg   \n",
       "280  2011                                           Hungary   \n",
       "292  2011                                             Malta   \n",
       "304  2011                                       Netherlands   \n",
       "316  2011                                           Austria   \n",
       "328  2011                                            Poland   \n",
       "340  2011                                          Portugal   \n",
       "352  2011                                           Romania   \n",
       "364  2011                                          Slovenia   \n",
       "376  2011                                          Slovakia   \n",
       "388  2011                                           Finland   \n",
       "\n",
       "                                                     A Value  \\\n",
       "16   Total public expenditure on education as % of ...  5.25   \n",
       "28   Total public expenditure on education as % of ...  5.25   \n",
       "40   Total public expenditure on education as % of ...  5.31   \n",
       "52   Total public expenditure on education as % of ...  5.15   \n",
       "64   Total public expenditure on education as % of ...  5.15   \n",
       "76   Total public expenditure on education as % of ...  5.16   \n",
       "88   Total public expenditure on education as % of ...  5.15   \n",
       "100  Total public expenditure on education as % of ...  6.55   \n",
       "112  Total public expenditure on education as % of ...  3.82   \n",
       "124  Total public expenditure on education as % of ...  4.51   \n",
       "136  Total public expenditure on education as % of ...  8.75   \n",
       "148  Total public expenditure on education as % of ...  4.98   \n",
       "160  Total public expenditure on education as % of ...  5.16   \n",
       "172  Total public expenditure on education as % of ...  6.15   \n",
       "184  Total public expenditure on education as % of ...     :   \n",
       "196  Total public expenditure on education as % of ...  4.82   \n",
       "208  Total public expenditure on education as % of ...  5.68   \n",
       "220  Total public expenditure on education as % of ...  4.29   \n",
       "232  Total public expenditure on education as % of ...  7.87   \n",
       "244  Total public expenditure on education as % of ...  4.96   \n",
       "256  Total public expenditure on education as % of ...  5.17   \n",
       "268  Total public expenditure on education as % of ...     :   \n",
       "280  Total public expenditure on education as % of ...  4.71   \n",
       "292  Total public expenditure on education as % of ...  7.96   \n",
       "304  Total public expenditure on education as % of ...  5.93   \n",
       "316  Total public expenditure on education as % of ...  5.80   \n",
       "328  Total public expenditure on education as % of ...  4.94   \n",
       "340  Total public expenditure on education as % of ...  5.27   \n",
       "352  Total public expenditure on education as % of ...  3.07   \n",
       "364  Total public expenditure on education as % of ...  5.68   \n",
       "376  Total public expenditure on education as % of ...  4.06   \n",
       "388  Total public expenditure on education as % of ...  6.76   \n",
       "\n",
       "    Flag and Footnotes  \n",
       "16                   e  \n",
       "28                   e  \n",
       "40                   e  \n",
       "52                   e  \n",
       "64                   e  \n",
       "76                   e  \n",
       "88                   e  \n",
       "100                  d  \n",
       "112                NaN  \n",
       "124                NaN  \n",
       "136                  d  \n",
       "148                NaN  \n",
       "160                NaN  \n",
       "172                NaN  \n",
       "184                NaN  \n",
       "196                NaN  \n",
       "208                NaN  \n",
       "220                NaN  \n",
       "232                  d  \n",
       "244                NaN  \n",
       "256                NaN  \n",
       "268                NaN  \n",
       "280                NaN  \n",
       "292                NaN  \n",
       "304                NaN  \n",
       "316                NaN  \n",
       "328                NaN  \n",
       "340                  d  \n",
       "352                NaN  \n",
       "364                NaN  \n",
       "376                  d  \n",
       "388                NaN  "
      ]
     },
     "execution_count": 126,
     "metadata": {},
     "output_type": "execute_result"
    }
   ],
   "source": [
    "edu[edu['TIME'] == 2011]"
   ]
  },
  {
   "cell_type": "code",
   "execution_count": 127,
   "id": "984c4720",
   "metadata": {},
   "outputs": [
    {
     "ename": "TypeError",
     "evalue": "'>' not supported between instances of 'str' and 'float'",
     "output_type": "error",
     "traceback": [
      "\u001b[0;31m---------------------------------------------------------------------------\u001b[0m",
      "\u001b[0;31mTypeError\u001b[0m                                 Traceback (most recent call last)",
      "Cell \u001b[0;32mIn[127], line 3\u001b[0m\n\u001b[1;32m      1\u001b[0m \u001b[38;5;66;03m# Another way of selection\u001b[39;00m\n\u001b[1;32m      2\u001b[0m \u001b[38;5;66;03m# by applying Boolean indexing. This indexing is commonly known as a filter. \u001b[39;00m\n\u001b[0;32m----> 3\u001b[0m edu[\u001b[43medu\u001b[49m\u001b[43m[\u001b[49m\u001b[38;5;124;43m'\u001b[39;49m\u001b[38;5;124;43mValue\u001b[39;49m\u001b[38;5;124;43m'\u001b[39;49m\u001b[43m]\u001b[49m\u001b[43m \u001b[49m\u001b[38;5;241;43m>\u001b[39;49m\u001b[43m \u001b[49m\u001b[38;5;241;43m6.5\u001b[39;49m]\n",
      "File \u001b[0;32m~/DP/lib/python3.11/site-packages/pandas/core/ops/common.py:76\u001b[0m, in \u001b[0;36m_unpack_zerodim_and_defer.<locals>.new_method\u001b[0;34m(self, other)\u001b[0m\n\u001b[1;32m     72\u001b[0m             \u001b[38;5;28;01mreturn\u001b[39;00m \u001b[38;5;28mNotImplemented\u001b[39m\n\u001b[1;32m     74\u001b[0m other \u001b[38;5;241m=\u001b[39m item_from_zerodim(other)\n\u001b[0;32m---> 76\u001b[0m \u001b[38;5;28;01mreturn\u001b[39;00m \u001b[43mmethod\u001b[49m\u001b[43m(\u001b[49m\u001b[38;5;28;43mself\u001b[39;49m\u001b[43m,\u001b[49m\u001b[43m \u001b[49m\u001b[43mother\u001b[49m\u001b[43m)\u001b[49m\n",
      "File \u001b[0;32m~/DP/lib/python3.11/site-packages/pandas/core/arraylike.py:56\u001b[0m, in \u001b[0;36mOpsMixin.__gt__\u001b[0;34m(self, other)\u001b[0m\n\u001b[1;32m     54\u001b[0m \u001b[38;5;129m@unpack_zerodim_and_defer\u001b[39m(\u001b[38;5;124m\"\u001b[39m\u001b[38;5;124m__gt__\u001b[39m\u001b[38;5;124m\"\u001b[39m)\n\u001b[1;32m     55\u001b[0m \u001b[38;5;28;01mdef\u001b[39;00m \u001b[38;5;21m__gt__\u001b[39m(\u001b[38;5;28mself\u001b[39m, other):\n\u001b[0;32m---> 56\u001b[0m     \u001b[38;5;28;01mreturn\u001b[39;00m \u001b[38;5;28;43mself\u001b[39;49m\u001b[38;5;241;43m.\u001b[39;49m\u001b[43m_cmp_method\u001b[49m\u001b[43m(\u001b[49m\u001b[43mother\u001b[49m\u001b[43m,\u001b[49m\u001b[43m \u001b[49m\u001b[43moperator\u001b[49m\u001b[38;5;241;43m.\u001b[39;49m\u001b[43mgt\u001b[49m\u001b[43m)\u001b[49m\n",
      "File \u001b[0;32m~/DP/lib/python3.11/site-packages/pandas/core/series.py:6099\u001b[0m, in \u001b[0;36mSeries._cmp_method\u001b[0;34m(self, other, op)\u001b[0m\n\u001b[1;32m   6096\u001b[0m lvalues \u001b[38;5;241m=\u001b[39m \u001b[38;5;28mself\u001b[39m\u001b[38;5;241m.\u001b[39m_values\n\u001b[1;32m   6097\u001b[0m rvalues \u001b[38;5;241m=\u001b[39m extract_array(other, extract_numpy\u001b[38;5;241m=\u001b[39m\u001b[38;5;28;01mTrue\u001b[39;00m, extract_range\u001b[38;5;241m=\u001b[39m\u001b[38;5;28;01mTrue\u001b[39;00m)\n\u001b[0;32m-> 6099\u001b[0m res_values \u001b[38;5;241m=\u001b[39m \u001b[43mops\u001b[49m\u001b[38;5;241;43m.\u001b[39;49m\u001b[43mcomparison_op\u001b[49m\u001b[43m(\u001b[49m\u001b[43mlvalues\u001b[49m\u001b[43m,\u001b[49m\u001b[43m \u001b[49m\u001b[43mrvalues\u001b[49m\u001b[43m,\u001b[49m\u001b[43m \u001b[49m\u001b[43mop\u001b[49m\u001b[43m)\u001b[49m\n\u001b[1;32m   6101\u001b[0m \u001b[38;5;28;01mreturn\u001b[39;00m \u001b[38;5;28mself\u001b[39m\u001b[38;5;241m.\u001b[39m_construct_result(res_values, name\u001b[38;5;241m=\u001b[39mres_name)\n",
      "File \u001b[0;32m~/DP/lib/python3.11/site-packages/pandas/core/ops/array_ops.py:344\u001b[0m, in \u001b[0;36mcomparison_op\u001b[0;34m(left, right, op)\u001b[0m\n\u001b[1;32m    341\u001b[0m     \u001b[38;5;28;01mreturn\u001b[39;00m invalid_comparison(lvalues, rvalues, op)\n\u001b[1;32m    343\u001b[0m \u001b[38;5;28;01melif\u001b[39;00m lvalues\u001b[38;5;241m.\u001b[39mdtype \u001b[38;5;241m==\u001b[39m \u001b[38;5;28mobject\u001b[39m \u001b[38;5;129;01mor\u001b[39;00m \u001b[38;5;28misinstance\u001b[39m(rvalues, \u001b[38;5;28mstr\u001b[39m):\n\u001b[0;32m--> 344\u001b[0m     res_values \u001b[38;5;241m=\u001b[39m \u001b[43mcomp_method_OBJECT_ARRAY\u001b[49m\u001b[43m(\u001b[49m\u001b[43mop\u001b[49m\u001b[43m,\u001b[49m\u001b[43m \u001b[49m\u001b[43mlvalues\u001b[49m\u001b[43m,\u001b[49m\u001b[43m \u001b[49m\u001b[43mrvalues\u001b[49m\u001b[43m)\u001b[49m\n\u001b[1;32m    346\u001b[0m \u001b[38;5;28;01melse\u001b[39;00m:\n\u001b[1;32m    347\u001b[0m     res_values \u001b[38;5;241m=\u001b[39m _na_arithmetic_op(lvalues, rvalues, op, is_cmp\u001b[38;5;241m=\u001b[39m\u001b[38;5;28;01mTrue\u001b[39;00m)\n",
      "File \u001b[0;32m~/DP/lib/python3.11/site-packages/pandas/core/ops/array_ops.py:129\u001b[0m, in \u001b[0;36mcomp_method_OBJECT_ARRAY\u001b[0;34m(op, x, y)\u001b[0m\n\u001b[1;32m    127\u001b[0m     result \u001b[38;5;241m=\u001b[39m libops\u001b[38;5;241m.\u001b[39mvec_compare(x\u001b[38;5;241m.\u001b[39mravel(), y\u001b[38;5;241m.\u001b[39mravel(), op)\n\u001b[1;32m    128\u001b[0m \u001b[38;5;28;01melse\u001b[39;00m:\n\u001b[0;32m--> 129\u001b[0m     result \u001b[38;5;241m=\u001b[39m \u001b[43mlibops\u001b[49m\u001b[38;5;241;43m.\u001b[39;49m\u001b[43mscalar_compare\u001b[49m\u001b[43m(\u001b[49m\u001b[43mx\u001b[49m\u001b[38;5;241;43m.\u001b[39;49m\u001b[43mravel\u001b[49m\u001b[43m(\u001b[49m\u001b[43m)\u001b[49m\u001b[43m,\u001b[49m\u001b[43m \u001b[49m\u001b[43my\u001b[49m\u001b[43m,\u001b[49m\u001b[43m \u001b[49m\u001b[43mop\u001b[49m\u001b[43m)\u001b[49m\n\u001b[1;32m    130\u001b[0m \u001b[38;5;28;01mreturn\u001b[39;00m result\u001b[38;5;241m.\u001b[39mreshape(x\u001b[38;5;241m.\u001b[39mshape)\n",
      "File \u001b[0;32mops.pyx:107\u001b[0m, in \u001b[0;36mpandas._libs.ops.scalar_compare\u001b[0;34m()\u001b[0m\n",
      "\u001b[0;31mTypeError\u001b[0m: '>' not supported between instances of 'str' and 'float'"
     ]
    }
   ],
   "source": [
    "# Another way of selection\n",
    "# by applying Boolean indexing. This indexing is commonly known as a filter. \n",
    "edu[edu['Value'] > 6.5]"
   ]
  },
  {
   "cell_type": "markdown",
   "id": "d9868daa",
   "metadata": {},
   "source": [
    "# Filtering Missing and dupliacated Values"
   ]
  },
  {
   "cell_type": "code",
   "execution_count": 131,
   "id": "8de89b7e-b068-43bd-b592-3bb8a590a6a7",
   "metadata": {},
   "outputs": [
    {
     "data": {
      "text/plain": [
       "5      False\n",
       "6      False\n",
       "7      False\n",
       "8      False\n",
       "9      False\n",
       "       ...  \n",
       "384     True\n",
       "385     True\n",
       "386     True\n",
       "387     True\n",
       "388     True\n",
       "Name: TIME, Length: 384, dtype: bool"
      ]
     },
     "execution_count": 131,
     "metadata": {},
     "output_type": "execute_result"
    }
   ],
   "source": [
    "edu['TIME'] >=2007"
   ]
  },
  {
   "cell_type": "code",
   "execution_count": 136,
   "id": "df03f388-9cbb-4028-a411-f8f977d8e847",
   "metadata": {},
   "outputs": [
    {
     "data": {
      "text/html": [
       "<div>\n",
       "<style scoped>\n",
       "    .dataframe tbody tr th:only-of-type {\n",
       "        vertical-align: middle;\n",
       "    }\n",
       "\n",
       "    .dataframe tbody tr th {\n",
       "        vertical-align: top;\n",
       "    }\n",
       "\n",
       "    .dataframe thead th {\n",
       "        text-align: right;\n",
       "    }\n",
       "</style>\n",
       "<table border=\"1\" class=\"dataframe\">\n",
       "  <thead>\n",
       "    <tr style=\"text-align: right;\">\n",
       "      <th></th>\n",
       "      <th>TIME</th>\n",
       "      <th>GEO</th>\n",
       "      <th>A</th>\n",
       "      <th>Value</th>\n",
       "      <th>Flag and Footnotes</th>\n",
       "    </tr>\n",
       "  </thead>\n",
       "  <tbody>\n",
       "    <tr>\n",
       "      <th>12</th>\n",
       "      <td>2007</td>\n",
       "      <td>European Union (28 countries)</td>\n",
       "      <td>Total public expenditure on education as % of ...</td>\n",
       "      <td>4.92</td>\n",
       "      <td>e</td>\n",
       "    </tr>\n",
       "    <tr>\n",
       "      <th>13</th>\n",
       "      <td>2008</td>\n",
       "      <td>European Union (28 countries)</td>\n",
       "      <td>Total public expenditure on education as % of ...</td>\n",
       "      <td>5.04</td>\n",
       "      <td>e</td>\n",
       "    </tr>\n",
       "    <tr>\n",
       "      <th>14</th>\n",
       "      <td>2009</td>\n",
       "      <td>European Union (28 countries)</td>\n",
       "      <td>Total public expenditure on education as % of ...</td>\n",
       "      <td>5.38</td>\n",
       "      <td>e</td>\n",
       "    </tr>\n",
       "    <tr>\n",
       "      <th>15</th>\n",
       "      <td>2010</td>\n",
       "      <td>European Union (28 countries)</td>\n",
       "      <td>Total public expenditure on education as % of ...</td>\n",
       "      <td>5.41</td>\n",
       "      <td>e</td>\n",
       "    </tr>\n",
       "    <tr>\n",
       "      <th>16</th>\n",
       "      <td>2011</td>\n",
       "      <td>European Union (28 countries)</td>\n",
       "      <td>Total public expenditure on education as % of ...</td>\n",
       "      <td>5.25</td>\n",
       "      <td>e</td>\n",
       "    </tr>\n",
       "    <tr>\n",
       "      <th>...</th>\n",
       "      <td>...</td>\n",
       "      <td>...</td>\n",
       "      <td>...</td>\n",
       "      <td>...</td>\n",
       "      <td>...</td>\n",
       "    </tr>\n",
       "    <tr>\n",
       "      <th>384</th>\n",
       "      <td>2007</td>\n",
       "      <td>Finland</td>\n",
       "      <td>Total public expenditure on education as % of ...</td>\n",
       "      <td>5.90</td>\n",
       "      <td>NaN</td>\n",
       "    </tr>\n",
       "    <tr>\n",
       "      <th>385</th>\n",
       "      <td>2008</td>\n",
       "      <td>Finland</td>\n",
       "      <td>Total public expenditure on education as % of ...</td>\n",
       "      <td>6.10</td>\n",
       "      <td>NaN</td>\n",
       "    </tr>\n",
       "    <tr>\n",
       "      <th>386</th>\n",
       "      <td>2009</td>\n",
       "      <td>Finland</td>\n",
       "      <td>Total public expenditure on education as % of ...</td>\n",
       "      <td>6.81</td>\n",
       "      <td>NaN</td>\n",
       "    </tr>\n",
       "    <tr>\n",
       "      <th>387</th>\n",
       "      <td>2010</td>\n",
       "      <td>Finland</td>\n",
       "      <td>Total public expenditure on education as % of ...</td>\n",
       "      <td>6.85</td>\n",
       "      <td>NaN</td>\n",
       "    </tr>\n",
       "    <tr>\n",
       "      <th>388</th>\n",
       "      <td>2011</td>\n",
       "      <td>Finland</td>\n",
       "      <td>Total public expenditure on education as % of ...</td>\n",
       "      <td>6.76</td>\n",
       "      <td>NaN</td>\n",
       "    </tr>\n",
       "  </tbody>\n",
       "</table>\n",
       "<p>150 rows × 5 columns</p>\n",
       "</div>"
      ],
      "text/plain": [
       "     TIME                            GEO  \\\n",
       "12   2007  European Union (28 countries)   \n",
       "13   2008  European Union (28 countries)   \n",
       "14   2009  European Union (28 countries)   \n",
       "15   2010  European Union (28 countries)   \n",
       "16   2011  European Union (28 countries)   \n",
       "..    ...                            ...   \n",
       "384  2007                        Finland   \n",
       "385  2008                        Finland   \n",
       "386  2009                        Finland   \n",
       "387  2010                        Finland   \n",
       "388  2011                        Finland   \n",
       "\n",
       "                                                     A Value  \\\n",
       "12   Total public expenditure on education as % of ...  4.92   \n",
       "13   Total public expenditure on education as % of ...  5.04   \n",
       "14   Total public expenditure on education as % of ...  5.38   \n",
       "15   Total public expenditure on education as % of ...  5.41   \n",
       "16   Total public expenditure on education as % of ...  5.25   \n",
       "..                                                 ...   ...   \n",
       "384  Total public expenditure on education as % of ...  5.90   \n",
       "385  Total public expenditure on education as % of ...  6.10   \n",
       "386  Total public expenditure on education as % of ...  6.81   \n",
       "387  Total public expenditure on education as % of ...  6.85   \n",
       "388  Total public expenditure on education as % of ...  6.76   \n",
       "\n",
       "    Flag and Footnotes  \n",
       "12                   e  \n",
       "13                   e  \n",
       "14                   e  \n",
       "15                   e  \n",
       "16                   e  \n",
       "..                 ...  \n",
       "384                NaN  \n",
       "385                NaN  \n",
       "386                NaN  \n",
       "387                NaN  \n",
       "388                NaN  \n",
       "\n",
       "[150 rows x 5 columns]"
      ]
     },
     "execution_count": 136,
     "metadata": {},
     "output_type": "execute_result"
    }
   ],
   "source": [
    "edu[(edu['Value'] != ':') & (edu['TIME'] >=2007)]"
   ]
  },
  {
   "cell_type": "code",
   "execution_count": 132,
   "id": "e7a537f7-a873-4ee0-be43-f5e0779e1985",
   "metadata": {},
   "outputs": [
    {
     "data": {
      "text/plain": [
       "5      False\n",
       "6      False\n",
       "7      False\n",
       "8      False\n",
       "9      False\n",
       "       ...  \n",
       "384    False\n",
       "385    False\n",
       "386    False\n",
       "387    False\n",
       "388    False\n",
       "Length: 384, dtype: bool"
      ]
     },
     "execution_count": 132,
     "metadata": {},
     "output_type": "execute_result"
    }
   ],
   "source": [
    "(edu['Value'] == ':') & (edu['TIME'] >=2007)"
   ]
  },
  {
   "cell_type": "code",
   "execution_count": null,
   "id": "65beca3b-a224-4138-a89a-3434258f751f",
   "metadata": {},
   "outputs": [],
   "source": [
    "edu[(~edu['Flag and Footnotes'].isnull()) & (edu['TIME'] == 2011) ]"
   ]
  },
  {
   "cell_type": "code",
   "execution_count": 140,
   "id": "d369b11a-8054-4b4b-8b12-c4c2fd839aba",
   "metadata": {},
   "outputs": [
    {
     "data": {
      "text/html": [
       "<div>\n",
       "<style scoped>\n",
       "    .dataframe tbody tr th:only-of-type {\n",
       "        vertical-align: middle;\n",
       "    }\n",
       "\n",
       "    .dataframe tbody tr th {\n",
       "        vertical-align: top;\n",
       "    }\n",
       "\n",
       "    .dataframe thead th {\n",
       "        text-align: right;\n",
       "    }\n",
       "</style>\n",
       "<table border=\"1\" class=\"dataframe\">\n",
       "  <thead>\n",
       "    <tr style=\"text-align: right;\">\n",
       "      <th></th>\n",
       "      <th>TIME</th>\n",
       "      <th>GEO</th>\n",
       "      <th>A</th>\n",
       "      <th>Value</th>\n",
       "      <th>Flag and Footnotes</th>\n",
       "    </tr>\n",
       "  </thead>\n",
       "  <tbody>\n",
       "    <tr>\n",
       "      <th>5</th>\n",
       "      <td>2000</td>\n",
       "      <td>European Union (28 countries)</td>\n",
       "      <td>Total public expenditure on education as % of ...</td>\n",
       "      <td>:</td>\n",
       "      <td>NaN</td>\n",
       "    </tr>\n",
       "    <tr>\n",
       "      <th>6</th>\n",
       "      <td>2001</td>\n",
       "      <td>European Union (28 countries)</td>\n",
       "      <td>Total public expenditure on education as % of ...</td>\n",
       "      <td>:</td>\n",
       "      <td>NaN</td>\n",
       "    </tr>\n",
       "    <tr>\n",
       "      <th>41</th>\n",
       "      <td>2000</td>\n",
       "      <td>Euro area (18 countries)</td>\n",
       "      <td>Total public expenditure on education as % of ...</td>\n",
       "      <td>:</td>\n",
       "      <td>NaN</td>\n",
       "    </tr>\n",
       "    <tr>\n",
       "      <th>42</th>\n",
       "      <td>2001</td>\n",
       "      <td>Euro area (18 countries)</td>\n",
       "      <td>Total public expenditure on education as % of ...</td>\n",
       "      <td>:</td>\n",
       "      <td>NaN</td>\n",
       "    </tr>\n",
       "    <tr>\n",
       "      <th>53</th>\n",
       "      <td>2000</td>\n",
       "      <td>Euro area (17 countries)</td>\n",
       "      <td>Total public expenditure on education as % of ...</td>\n",
       "      <td>:</td>\n",
       "      <td>NaN</td>\n",
       "    </tr>\n",
       "    <tr>\n",
       "      <th>...</th>\n",
       "      <td>...</td>\n",
       "      <td>...</td>\n",
       "      <td>...</td>\n",
       "      <td>...</td>\n",
       "      <td>...</td>\n",
       "    </tr>\n",
       "    <tr>\n",
       "      <th>384</th>\n",
       "      <td>2007</td>\n",
       "      <td>Finland</td>\n",
       "      <td>Total public expenditure on education as % of ...</td>\n",
       "      <td>5.90</td>\n",
       "      <td>NaN</td>\n",
       "    </tr>\n",
       "    <tr>\n",
       "      <th>385</th>\n",
       "      <td>2008</td>\n",
       "      <td>Finland</td>\n",
       "      <td>Total public expenditure on education as % of ...</td>\n",
       "      <td>6.10</td>\n",
       "      <td>NaN</td>\n",
       "    </tr>\n",
       "    <tr>\n",
       "      <th>386</th>\n",
       "      <td>2009</td>\n",
       "      <td>Finland</td>\n",
       "      <td>Total public expenditure on education as % of ...</td>\n",
       "      <td>6.81</td>\n",
       "      <td>NaN</td>\n",
       "    </tr>\n",
       "    <tr>\n",
       "      <th>387</th>\n",
       "      <td>2010</td>\n",
       "      <td>Finland</td>\n",
       "      <td>Total public expenditure on education as % of ...</td>\n",
       "      <td>6.85</td>\n",
       "      <td>NaN</td>\n",
       "    </tr>\n",
       "    <tr>\n",
       "      <th>388</th>\n",
       "      <td>2011</td>\n",
       "      <td>Finland</td>\n",
       "      <td>Total public expenditure on education as % of ...</td>\n",
       "      <td>6.76</td>\n",
       "      <td>NaN</td>\n",
       "    </tr>\n",
       "  </tbody>\n",
       "</table>\n",
       "<p>219 rows × 5 columns</p>\n",
       "</div>"
      ],
      "text/plain": [
       "     TIME                            GEO  \\\n",
       "5    2000  European Union (28 countries)   \n",
       "6    2001  European Union (28 countries)   \n",
       "41   2000       Euro area (18 countries)   \n",
       "42   2001       Euro area (18 countries)   \n",
       "53   2000       Euro area (17 countries)   \n",
       "..    ...                            ...   \n",
       "384  2007                        Finland   \n",
       "385  2008                        Finland   \n",
       "386  2009                        Finland   \n",
       "387  2010                        Finland   \n",
       "388  2011                        Finland   \n",
       "\n",
       "                                                     A Value  \\\n",
       "5    Total public expenditure on education as % of ...     :   \n",
       "6    Total public expenditure on education as % of ...     :   \n",
       "41   Total public expenditure on education as % of ...     :   \n",
       "42   Total public expenditure on education as % of ...     :   \n",
       "53   Total public expenditure on education as % of ...     :   \n",
       "..                                                 ...   ...   \n",
       "384  Total public expenditure on education as % of ...  5.90   \n",
       "385  Total public expenditure on education as % of ...  6.10   \n",
       "386  Total public expenditure on education as % of ...  6.81   \n",
       "387  Total public expenditure on education as % of ...  6.85   \n",
       "388  Total public expenditure on education as % of ...  6.76   \n",
       "\n",
       "    Flag and Footnotes  \n",
       "5                  NaN  \n",
       "6                  NaN  \n",
       "41                 NaN  \n",
       "42                 NaN  \n",
       "53                 NaN  \n",
       "..                 ...  \n",
       "384                NaN  \n",
       "385                NaN  \n",
       "386                NaN  \n",
       "387                NaN  \n",
       "388                NaN  \n",
       "\n",
       "[219 rows x 5 columns]"
      ]
     },
     "execution_count": 140,
     "metadata": {},
     "output_type": "execute_result"
    }
   ],
   "source": [
    "edu[edu['Flag and Footnotes'].isnull()]"
   ]
  },
  {
   "cell_type": "code",
   "execution_count": 142,
   "id": "39ba9594-1059-44a3-bde2-45fd57cdcc33",
   "metadata": {},
   "outputs": [
    {
     "data": {
      "text/plain": [
       "TIME                    0\n",
       "GEO                     0\n",
       "A                       0\n",
       "Value                   0\n",
       "Flag and Footnotes    219\n",
       "dtype: int64"
      ]
     },
     "execution_count": 142,
     "metadata": {},
     "output_type": "execute_result"
    }
   ],
   "source": [
    "edu.isnull().sum()"
   ]
  },
  {
   "cell_type": "code",
   "execution_count": null,
   "id": "b9539251",
   "metadata": {},
   "outputs": [],
   "source": [
    "edu[edu['Value'].isnull()].head()"
   ]
  },
  {
   "cell_type": "code",
   "execution_count": 145,
   "id": "082ff64e-81e1-479e-af01-515736f986f2",
   "metadata": {},
   "outputs": [
    {
     "data": {
      "text/html": [
       "<div>\n",
       "<style scoped>\n",
       "    .dataframe tbody tr th:only-of-type {\n",
       "        vertical-align: middle;\n",
       "    }\n",
       "\n",
       "    .dataframe tbody tr th {\n",
       "        vertical-align: top;\n",
       "    }\n",
       "\n",
       "    .dataframe thead th {\n",
       "        text-align: right;\n",
       "    }\n",
       "</style>\n",
       "<table border=\"1\" class=\"dataframe\">\n",
       "  <thead>\n",
       "    <tr style=\"text-align: right;\">\n",
       "      <th></th>\n",
       "      <th>TIME</th>\n",
       "      <th>GEO</th>\n",
       "      <th>A</th>\n",
       "      <th>Value</th>\n",
       "      <th>Flag and Footnotes</th>\n",
       "    </tr>\n",
       "  </thead>\n",
       "  <tbody>\n",
       "    <tr>\n",
       "      <th>6</th>\n",
       "      <td>2001</td>\n",
       "      <td>European Union (28 countries)</td>\n",
       "      <td>Total public expenditure on education as % of ...</td>\n",
       "      <td>:</td>\n",
       "      <td>NaN</td>\n",
       "    </tr>\n",
       "    <tr>\n",
       "      <th>12</th>\n",
       "      <td>2007</td>\n",
       "      <td>European Union (28 countries)</td>\n",
       "      <td>Total public expenditure on education as % of ...</td>\n",
       "      <td>4.92</td>\n",
       "      <td>e</td>\n",
       "    </tr>\n",
       "    <tr>\n",
       "      <th>17</th>\n",
       "      <td>2000</td>\n",
       "      <td>European Union (27 countries)</td>\n",
       "      <td>Total public expenditure on education as % of ...</td>\n",
       "      <td>4.91</td>\n",
       "      <td>s</td>\n",
       "    </tr>\n",
       "    <tr>\n",
       "      <th>19</th>\n",
       "      <td>2002</td>\n",
       "      <td>European Union (27 countries)</td>\n",
       "      <td>Total public expenditure on education as % of ...</td>\n",
       "      <td>5.00</td>\n",
       "      <td>e</td>\n",
       "    </tr>\n",
       "    <tr>\n",
       "      <th>20</th>\n",
       "      <td>2003</td>\n",
       "      <td>European Union (27 countries)</td>\n",
       "      <td>Total public expenditure on education as % of ...</td>\n",
       "      <td>5.04</td>\n",
       "      <td>e</td>\n",
       "    </tr>\n",
       "    <tr>\n",
       "      <th>...</th>\n",
       "      <td>...</td>\n",
       "      <td>...</td>\n",
       "      <td>...</td>\n",
       "      <td>...</td>\n",
       "      <td>...</td>\n",
       "    </tr>\n",
       "    <tr>\n",
       "      <th>374</th>\n",
       "      <td>2009</td>\n",
       "      <td>Slovakia</td>\n",
       "      <td>Total public expenditure on education as % of ...</td>\n",
       "      <td>4.09</td>\n",
       "      <td>d</td>\n",
       "    </tr>\n",
       "    <tr>\n",
       "      <th>375</th>\n",
       "      <td>2010</td>\n",
       "      <td>Slovakia</td>\n",
       "      <td>Total public expenditure on education as % of ...</td>\n",
       "      <td>4.22</td>\n",
       "      <td>d</td>\n",
       "    </tr>\n",
       "    <tr>\n",
       "      <th>380</th>\n",
       "      <td>2003</td>\n",
       "      <td>Finland</td>\n",
       "      <td>Total public expenditure on education as % of ...</td>\n",
       "      <td>6.43</td>\n",
       "      <td>NaN</td>\n",
       "    </tr>\n",
       "    <tr>\n",
       "      <th>383</th>\n",
       "      <td>2006</td>\n",
       "      <td>Finland</td>\n",
       "      <td>Total public expenditure on education as % of ...</td>\n",
       "      <td>6.18</td>\n",
       "      <td>NaN</td>\n",
       "    </tr>\n",
       "    <tr>\n",
       "      <th>384</th>\n",
       "      <td>2007</td>\n",
       "      <td>Finland</td>\n",
       "      <td>Total public expenditure on education as % of ...</td>\n",
       "      <td>5.90</td>\n",
       "      <td>NaN</td>\n",
       "    </tr>\n",
       "  </tbody>\n",
       "</table>\n",
       "<p>173 rows × 5 columns</p>\n",
       "</div>"
      ],
      "text/plain": [
       "     TIME                            GEO  \\\n",
       "6    2001  European Union (28 countries)   \n",
       "12   2007  European Union (28 countries)   \n",
       "17   2000  European Union (27 countries)   \n",
       "19   2002  European Union (27 countries)   \n",
       "20   2003  European Union (27 countries)   \n",
       "..    ...                            ...   \n",
       "374  2009                       Slovakia   \n",
       "375  2010                       Slovakia   \n",
       "380  2003                        Finland   \n",
       "383  2006                        Finland   \n",
       "384  2007                        Finland   \n",
       "\n",
       "                                                     A Value  \\\n",
       "6    Total public expenditure on education as % of ...     :   \n",
       "12   Total public expenditure on education as % of ...  4.92   \n",
       "17   Total public expenditure on education as % of ...  4.91   \n",
       "19   Total public expenditure on education as % of ...  5.00   \n",
       "20   Total public expenditure on education as % of ...  5.04   \n",
       "..                                                 ...   ...   \n",
       "374  Total public expenditure on education as % of ...  4.09   \n",
       "375  Total public expenditure on education as % of ...  4.22   \n",
       "380  Total public expenditure on education as % of ...  6.43   \n",
       "383  Total public expenditure on education as % of ...  6.18   \n",
       "384  Total public expenditure on education as % of ...  5.90   \n",
       "\n",
       "    Flag and Footnotes  \n",
       "6                  NaN  \n",
       "12                   e  \n",
       "17                   s  \n",
       "19                   e  \n",
       "20                   e  \n",
       "..                 ...  \n",
       "374                  d  \n",
       "375                  d  \n",
       "380                NaN  \n",
       "383                NaN  \n",
       "384                NaN  \n",
       "\n",
       "[173 rows x 5 columns]"
      ]
     },
     "execution_count": 145,
     "metadata": {},
     "output_type": "execute_result"
    }
   ],
   "source": [
    "edu[edu.duplicated(['Value'])]"
   ]
  },
  {
   "cell_type": "code",
   "execution_count": null,
   "id": "fd9c0ac8-8102-40c4-8448-599cc4d10943",
   "metadata": {},
   "outputs": [],
   "source": [
    "edu[edu.duplicated()]"
   ]
  },
  {
   "cell_type": "code",
   "execution_count": null,
   "id": "502caa46-5e1a-4d28-bd82-798e96e0c4e4",
   "metadata": {},
   "outputs": [],
   "source": [
    "edu.drop_duplicates('Value')"
   ]
  },
  {
   "cell_type": "markdown",
   "id": "71dc179a",
   "metadata": {},
   "source": [
    "# Manipulating Data"
   ]
  },
  {
   "cell_type": "code",
   "execution_count": 146,
   "id": "53db1656-00a3-48e6-9ecd-64dedc0060aa",
   "metadata": {},
   "outputs": [
    {
     "data": {
      "text/html": [
       "<div>\n",
       "<style scoped>\n",
       "    .dataframe tbody tr th:only-of-type {\n",
       "        vertical-align: middle;\n",
       "    }\n",
       "\n",
       "    .dataframe tbody tr th {\n",
       "        vertical-align: top;\n",
       "    }\n",
       "\n",
       "    .dataframe thead th {\n",
       "        text-align: right;\n",
       "    }\n",
       "</style>\n",
       "<table border=\"1\" class=\"dataframe\">\n",
       "  <thead>\n",
       "    <tr style=\"text-align: right;\">\n",
       "      <th></th>\n",
       "      <th>TIME</th>\n",
       "      <th>GEO</th>\n",
       "      <th>A</th>\n",
       "      <th>Value</th>\n",
       "      <th>Flag and Footnotes</th>\n",
       "    </tr>\n",
       "  </thead>\n",
       "  <tbody>\n",
       "    <tr>\n",
       "      <th>5</th>\n",
       "      <td>2000</td>\n",
       "      <td>European Union (28 countries)</td>\n",
       "      <td>Total public expenditure on education as % of ...</td>\n",
       "      <td>:</td>\n",
       "      <td>NaN</td>\n",
       "    </tr>\n",
       "    <tr>\n",
       "      <th>6</th>\n",
       "      <td>2001</td>\n",
       "      <td>European Union (28 countries)</td>\n",
       "      <td>Total public expenditure on education as % of ...</td>\n",
       "      <td>:</td>\n",
       "      <td>NaN</td>\n",
       "    </tr>\n",
       "    <tr>\n",
       "      <th>7</th>\n",
       "      <td>2002</td>\n",
       "      <td>European Union (28 countries)</td>\n",
       "      <td>Total public expenditure on education as % of ...</td>\n",
       "      <td>5.00</td>\n",
       "      <td>e</td>\n",
       "    </tr>\n",
       "    <tr>\n",
       "      <th>8</th>\n",
       "      <td>2003</td>\n",
       "      <td>European Union (28 countries)</td>\n",
       "      <td>Total public expenditure on education as % of ...</td>\n",
       "      <td>5.03</td>\n",
       "      <td>e</td>\n",
       "    </tr>\n",
       "    <tr>\n",
       "      <th>9</th>\n",
       "      <td>2004</td>\n",
       "      <td>European Union (28 countries)</td>\n",
       "      <td>Total public expenditure on education as % of ...</td>\n",
       "      <td>4.95</td>\n",
       "      <td>e</td>\n",
       "    </tr>\n",
       "  </tbody>\n",
       "</table>\n",
       "</div>"
      ],
      "text/plain": [
       "   TIME                            GEO  \\\n",
       "5  2000  European Union (28 countries)   \n",
       "6  2001  European Union (28 countries)   \n",
       "7  2002  European Union (28 countries)   \n",
       "8  2003  European Union (28 countries)   \n",
       "9  2004  European Union (28 countries)   \n",
       "\n",
       "                                                   A Value Flag and Footnotes  \n",
       "5  Total public expenditure on education as % of ...     :                NaN  \n",
       "6  Total public expenditure on education as % of ...     :                NaN  \n",
       "7  Total public expenditure on education as % of ...  5.00                  e  \n",
       "8  Total public expenditure on education as % of ...  5.03                  e  \n",
       "9  Total public expenditure on education as % of ...  4.95                  e  "
      ]
     },
     "execution_count": 146,
     "metadata": {},
     "output_type": "execute_result"
    }
   ],
   "source": [
    "edu.head()"
   ]
  },
  {
   "cell_type": "code",
   "execution_count": null,
   "id": "52615e8f",
   "metadata": {},
   "outputs": [],
   "source": [
    "edu['Value'].head()"
   ]
  },
  {
   "cell_type": "code",
   "execution_count": 148,
   "id": "964cd2fa",
   "metadata": {},
   "outputs": [],
   "source": [
    "edu['TIME_100'] = edu['TIME'] / 100 # you can apply it by one step"
   ]
  },
  {
   "cell_type": "code",
   "execution_count": 150,
   "id": "ede431e3-977b-4cc5-ad12-260b7bd416c1",
   "metadata": {},
   "outputs": [
    {
     "data": {
      "text/html": [
       "<div>\n",
       "<style scoped>\n",
       "    .dataframe tbody tr th:only-of-type {\n",
       "        vertical-align: middle;\n",
       "    }\n",
       "\n",
       "    .dataframe tbody tr th {\n",
       "        vertical-align: top;\n",
       "    }\n",
       "\n",
       "    .dataframe thead th {\n",
       "        text-align: right;\n",
       "    }\n",
       "</style>\n",
       "<table border=\"1\" class=\"dataframe\">\n",
       "  <thead>\n",
       "    <tr style=\"text-align: right;\">\n",
       "      <th></th>\n",
       "      <th>TIME</th>\n",
       "      <th>GEO</th>\n",
       "      <th>A</th>\n",
       "      <th>Value</th>\n",
       "      <th>Flag and Footnotes</th>\n",
       "      <th>TIME_100</th>\n",
       "    </tr>\n",
       "  </thead>\n",
       "  <tbody>\n",
       "    <tr>\n",
       "      <th>5</th>\n",
       "      <td>2000</td>\n",
       "      <td>European Union (28 countries)</td>\n",
       "      <td>Total public expenditure on education as % of ...</td>\n",
       "      <td>:</td>\n",
       "      <td>NaN</td>\n",
       "      <td>20.00</td>\n",
       "    </tr>\n",
       "    <tr>\n",
       "      <th>6</th>\n",
       "      <td>2001</td>\n",
       "      <td>European Union (28 countries)</td>\n",
       "      <td>Total public expenditure on education as % of ...</td>\n",
       "      <td>:</td>\n",
       "      <td>NaN</td>\n",
       "      <td>20.01</td>\n",
       "    </tr>\n",
       "  </tbody>\n",
       "</table>\n",
       "</div>"
      ],
      "text/plain": [
       "   TIME                            GEO  \\\n",
       "5  2000  European Union (28 countries)   \n",
       "6  2001  European Union (28 countries)   \n",
       "\n",
       "                                                   A Value Flag and Footnotes  \\\n",
       "5  Total public expenditure on education as % of ...     :                NaN   \n",
       "6  Total public expenditure on education as % of ...     :                NaN   \n",
       "\n",
       "   TIME_100  \n",
       "5     20.00  \n",
       "6     20.01  "
      ]
     },
     "execution_count": 150,
     "metadata": {},
     "output_type": "execute_result"
    }
   ],
   "source": [
    "edu.head(2)"
   ]
  },
  {
   "cell_type": "code",
   "execution_count": null,
   "id": "5459c3b2-3a98-46ff-b551-521000827372",
   "metadata": {},
   "outputs": [],
   "source": [
    "def y(x):\n",
    "    return x*2"
   ]
  },
  {
   "cell_type": "code",
   "execution_count": 151,
   "id": "7000ae10-c9be-4c71-89a5-3ffca9a8cd4e",
   "metadata": {},
   "outputs": [
    {
     "data": {
      "text/plain": [
       "6"
      ]
     },
     "execution_count": 151,
     "metadata": {},
     "output_type": "execute_result"
    }
   ],
   "source": [
    "y = lambda x: x*2\n",
    "y(3)"
   ]
  },
  {
   "cell_type": "code",
   "execution_count": 156,
   "id": "b334ed13-b58b-40d1-993d-f0f599e3b0fd",
   "metadata": {},
   "outputs": [],
   "source": [
    "edu['TIME'] = edu['TIME'].map(y)"
   ]
  },
  {
   "cell_type": "code",
   "execution_count": 157,
   "id": "6b53e587-4bf6-47b9-8674-fe1084e89db1",
   "metadata": {},
   "outputs": [
    {
     "data": {
      "text/html": [
       "<div>\n",
       "<style scoped>\n",
       "    .dataframe tbody tr th:only-of-type {\n",
       "        vertical-align: middle;\n",
       "    }\n",
       "\n",
       "    .dataframe tbody tr th {\n",
       "        vertical-align: top;\n",
       "    }\n",
       "\n",
       "    .dataframe thead th {\n",
       "        text-align: right;\n",
       "    }\n",
       "</style>\n",
       "<table border=\"1\" class=\"dataframe\">\n",
       "  <thead>\n",
       "    <tr style=\"text-align: right;\">\n",
       "      <th></th>\n",
       "      <th>TIME</th>\n",
       "      <th>GEO</th>\n",
       "      <th>A</th>\n",
       "      <th>Value</th>\n",
       "      <th>Flag and Footnotes</th>\n",
       "      <th>TIME_100</th>\n",
       "    </tr>\n",
       "  </thead>\n",
       "  <tbody>\n",
       "    <tr>\n",
       "      <th>5</th>\n",
       "      <td>8000</td>\n",
       "      <td>European Union (28 countries)</td>\n",
       "      <td>Total public expenditure on education as % of ...</td>\n",
       "      <td>:</td>\n",
       "      <td>NaN</td>\n",
       "      <td>20.00</td>\n",
       "    </tr>\n",
       "    <tr>\n",
       "      <th>6</th>\n",
       "      <td>8004</td>\n",
       "      <td>European Union (28 countries)</td>\n",
       "      <td>Total public expenditure on education as % of ...</td>\n",
       "      <td>:</td>\n",
       "      <td>NaN</td>\n",
       "      <td>20.01</td>\n",
       "    </tr>\n",
       "  </tbody>\n",
       "</table>\n",
       "</div>"
      ],
      "text/plain": [
       "   TIME                            GEO  \\\n",
       "5  8000  European Union (28 countries)   \n",
       "6  8004  European Union (28 countries)   \n",
       "\n",
       "                                                   A Value Flag and Footnotes  \\\n",
       "5  Total public expenditure on education as % of ...     :                NaN   \n",
       "6  Total public expenditure on education as % of ...     :                NaN   \n",
       "\n",
       "   TIME_100  \n",
       "5     20.00  \n",
       "6     20.01  "
      ]
     },
     "execution_count": 157,
     "metadata": {},
     "output_type": "execute_result"
    }
   ],
   "source": [
    "edu.head(2)"
   ]
  },
  {
   "cell_type": "code",
   "execution_count": null,
   "id": "f46fe182-3e06-473f-9ee7-d3ac89379711",
   "metadata": {},
   "outputs": [],
   "source": [
    "def z(t, v):\n",
    "    if v == ':':\n",
    "        return t*2\n",
    "    else:\n",
    "        return t"
   ]
  },
  {
   "cell_type": "code",
   "execution_count": 173,
   "id": "efb2e15b-ba48-4fcb-bed4-0cbec4a62b09",
   "metadata": {},
   "outputs": [
    {
     "data": {
      "text/plain": [
       "4"
      ]
     },
     "execution_count": 173,
     "metadata": {},
     "output_type": "execute_result"
    }
   ],
   "source": [
    "z = lambda t, v: t*2 if v==\":\" else t\n",
    "z(2, \":\")"
   ]
  },
  {
   "cell_type": "code",
   "execution_count": 175,
   "id": "93990ab7-980b-4d1e-af61-ef3742048b49",
   "metadata": {},
   "outputs": [
    {
     "name": "stderr",
     "output_type": "stream",
     "text": [
      "/var/folders/9n/yvd02hfx57z6hx0832zwsdrr0000gn/T/ipykernel_17340/1870585898.py:1: FutureWarning: Series.__getitem__ treating keys as positions is deprecated. In a future version, integer keys will always be treated as labels (consistent with DataFrame behavior). To access a value by position, use `ser.iloc[pos]`\n",
      "  edu['new'] = edu[['TIME', 'Value']].apply(lambda x:  x[0]*2 if x[1]==\":\" else x[0] , axis=1)\n"
     ]
    }
   ],
   "source": [
    "edu['new'] = edu[['TIME', 'Value']].apply(lambda x:  x[0]*2 if x[1]==\":\" else x[0] , axis=1)"
   ]
  },
  {
   "cell_type": "code",
   "execution_count": 176,
   "id": "e4ffa32a-8711-4410-942e-c7830a0c1913",
   "metadata": {},
   "outputs": [
    {
     "data": {
      "text/html": [
       "<div>\n",
       "<style scoped>\n",
       "    .dataframe tbody tr th:only-of-type {\n",
       "        vertical-align: middle;\n",
       "    }\n",
       "\n",
       "    .dataframe tbody tr th {\n",
       "        vertical-align: top;\n",
       "    }\n",
       "\n",
       "    .dataframe thead th {\n",
       "        text-align: right;\n",
       "    }\n",
       "</style>\n",
       "<table border=\"1\" class=\"dataframe\">\n",
       "  <thead>\n",
       "    <tr style=\"text-align: right;\">\n",
       "      <th></th>\n",
       "      <th>TIME</th>\n",
       "      <th>GEO</th>\n",
       "      <th>A</th>\n",
       "      <th>Value</th>\n",
       "      <th>Flag and Footnotes</th>\n",
       "      <th>TIME_100</th>\n",
       "      <th>new</th>\n",
       "    </tr>\n",
       "  </thead>\n",
       "  <tbody>\n",
       "    <tr>\n",
       "      <th>5</th>\n",
       "      <td>8000</td>\n",
       "      <td>European Union (28 countries)</td>\n",
       "      <td>Total public expenditure on education as % of ...</td>\n",
       "      <td>:</td>\n",
       "      <td>NaN</td>\n",
       "      <td>20.00</td>\n",
       "      <td>16000</td>\n",
       "    </tr>\n",
       "    <tr>\n",
       "      <th>6</th>\n",
       "      <td>8004</td>\n",
       "      <td>European Union (28 countries)</td>\n",
       "      <td>Total public expenditure on education as % of ...</td>\n",
       "      <td>:</td>\n",
       "      <td>NaN</td>\n",
       "      <td>20.01</td>\n",
       "      <td>16008</td>\n",
       "    </tr>\n",
       "    <tr>\n",
       "      <th>7</th>\n",
       "      <td>8008</td>\n",
       "      <td>European Union (28 countries)</td>\n",
       "      <td>Total public expenditure on education as % of ...</td>\n",
       "      <td>5.00</td>\n",
       "      <td>e</td>\n",
       "      <td>20.02</td>\n",
       "      <td>8008</td>\n",
       "    </tr>\n",
       "    <tr>\n",
       "      <th>8</th>\n",
       "      <td>8012</td>\n",
       "      <td>European Union (28 countries)</td>\n",
       "      <td>Total public expenditure on education as % of ...</td>\n",
       "      <td>5.03</td>\n",
       "      <td>e</td>\n",
       "      <td>20.03</td>\n",
       "      <td>8012</td>\n",
       "    </tr>\n",
       "    <tr>\n",
       "      <th>9</th>\n",
       "      <td>8016</td>\n",
       "      <td>European Union (28 countries)</td>\n",
       "      <td>Total public expenditure on education as % of ...</td>\n",
       "      <td>4.95</td>\n",
       "      <td>e</td>\n",
       "      <td>20.04</td>\n",
       "      <td>8016</td>\n",
       "    </tr>\n",
       "    <tr>\n",
       "      <th>...</th>\n",
       "      <td>...</td>\n",
       "      <td>...</td>\n",
       "      <td>...</td>\n",
       "      <td>...</td>\n",
       "      <td>...</td>\n",
       "      <td>...</td>\n",
       "      <td>...</td>\n",
       "    </tr>\n",
       "    <tr>\n",
       "      <th>384</th>\n",
       "      <td>8028</td>\n",
       "      <td>Finland</td>\n",
       "      <td>Total public expenditure on education as % of ...</td>\n",
       "      <td>5.90</td>\n",
       "      <td>NaN</td>\n",
       "      <td>20.07</td>\n",
       "      <td>8028</td>\n",
       "    </tr>\n",
       "    <tr>\n",
       "      <th>385</th>\n",
       "      <td>8032</td>\n",
       "      <td>Finland</td>\n",
       "      <td>Total public expenditure on education as % of ...</td>\n",
       "      <td>6.10</td>\n",
       "      <td>NaN</td>\n",
       "      <td>20.08</td>\n",
       "      <td>8032</td>\n",
       "    </tr>\n",
       "    <tr>\n",
       "      <th>386</th>\n",
       "      <td>8036</td>\n",
       "      <td>Finland</td>\n",
       "      <td>Total public expenditure on education as % of ...</td>\n",
       "      <td>6.81</td>\n",
       "      <td>NaN</td>\n",
       "      <td>20.09</td>\n",
       "      <td>8036</td>\n",
       "    </tr>\n",
       "    <tr>\n",
       "      <th>387</th>\n",
       "      <td>8040</td>\n",
       "      <td>Finland</td>\n",
       "      <td>Total public expenditure on education as % of ...</td>\n",
       "      <td>6.85</td>\n",
       "      <td>NaN</td>\n",
       "      <td>20.10</td>\n",
       "      <td>8040</td>\n",
       "    </tr>\n",
       "    <tr>\n",
       "      <th>388</th>\n",
       "      <td>8044</td>\n",
       "      <td>Finland</td>\n",
       "      <td>Total public expenditure on education as % of ...</td>\n",
       "      <td>6.76</td>\n",
       "      <td>NaN</td>\n",
       "      <td>20.11</td>\n",
       "      <td>8044</td>\n",
       "    </tr>\n",
       "  </tbody>\n",
       "</table>\n",
       "<p>384 rows × 7 columns</p>\n",
       "</div>"
      ],
      "text/plain": [
       "     TIME                            GEO  \\\n",
       "5    8000  European Union (28 countries)   \n",
       "6    8004  European Union (28 countries)   \n",
       "7    8008  European Union (28 countries)   \n",
       "8    8012  European Union (28 countries)   \n",
       "9    8016  European Union (28 countries)   \n",
       "..    ...                            ...   \n",
       "384  8028                        Finland   \n",
       "385  8032                        Finland   \n",
       "386  8036                        Finland   \n",
       "387  8040                        Finland   \n",
       "388  8044                        Finland   \n",
       "\n",
       "                                                     A Value  \\\n",
       "5    Total public expenditure on education as % of ...     :   \n",
       "6    Total public expenditure on education as % of ...     :   \n",
       "7    Total public expenditure on education as % of ...  5.00   \n",
       "8    Total public expenditure on education as % of ...  5.03   \n",
       "9    Total public expenditure on education as % of ...  4.95   \n",
       "..                                                 ...   ...   \n",
       "384  Total public expenditure on education as % of ...  5.90   \n",
       "385  Total public expenditure on education as % of ...  6.10   \n",
       "386  Total public expenditure on education as % of ...  6.81   \n",
       "387  Total public expenditure on education as % of ...  6.85   \n",
       "388  Total public expenditure on education as % of ...  6.76   \n",
       "\n",
       "    Flag and Footnotes  TIME_100    new  \n",
       "5                  NaN     20.00  16000  \n",
       "6                  NaN     20.01  16008  \n",
       "7                    e     20.02   8008  \n",
       "8                    e     20.03   8012  \n",
       "9                    e     20.04   8016  \n",
       "..                 ...       ...    ...  \n",
       "384                NaN     20.07   8028  \n",
       "385                NaN     20.08   8032  \n",
       "386                NaN     20.09   8036  \n",
       "387                NaN     20.10   8040  \n",
       "388                NaN     20.11   8044  \n",
       "\n",
       "[384 rows x 7 columns]"
      ]
     },
     "execution_count": 176,
     "metadata": {},
     "output_type": "execute_result"
    }
   ],
   "source": [
    "edu"
   ]
  },
  {
   "cell_type": "code",
   "execution_count": null,
   "id": "ab6e9d1b-3a7a-4105-aa68-31d90b79fbbc",
   "metadata": {},
   "outputs": [],
   "source": []
  },
  {
   "cell_type": "code",
   "execution_count": 178,
   "id": "ab942e40",
   "metadata": {},
   "outputs": [
    {
     "data": {
      "text/plain": [
       "5      89.442719\n",
       "6      89.465077\n",
       "7      89.487429\n",
       "8      89.509776\n",
       "9      89.532117\n",
       "         ...    \n",
       "384    89.599107\n",
       "385    89.621426\n",
       "386    89.643739\n",
       "387    89.666047\n",
       "388    89.688349\n",
       "Name: TIME, Length: 384, dtype: float64"
      ]
     },
     "execution_count": 178,
     "metadata": {},
     "output_type": "execute_result"
    }
   ],
   "source": [
    "# we can apply any function to a DataFrame or Series\n",
    "edu['TIME'].apply(np.sqrt) # sqrt function from the numpy library"
   ]
  },
  {
   "cell_type": "code",
   "execution_count": null,
   "id": "93ff17f5-8708-4963-9056-b7361e0eede5",
   "metadata": {},
   "outputs": [],
   "source": [
    "def f2(x, r ):\n",
    "    if x > 2002 and r == \":\":\n",
    "        return 1\n",
    "    else:\n",
    "        return 0"
   ]
  },
  {
   "cell_type": "code",
   "execution_count": null,
   "id": "56997987-260a-4a6a-85a3-90b82e56456f",
   "metadata": {},
   "outputs": [],
   "source": [
    "edu['new'] = edu[['TIME', 'Value']].apply(lambda c : f2(c[0],c[1]), axis=1)"
   ]
  },
  {
   "cell_type": "code",
   "execution_count": null,
   "id": "a1ae48c5-30df-45d0-a067-8914769d3a46",
   "metadata": {},
   "outputs": [],
   "source": [
    "edu.drop('TIME_1', axis=1, inplace=True)"
   ]
  },
  {
   "cell_type": "code",
   "execution_count": null,
   "id": "100aad16-721a-48c3-83bb-9bb5acc5306a",
   "metadata": {},
   "outputs": [],
   "source": [
    "edu.head(2)"
   ]
  },
  {
   "cell_type": "code",
   "execution_count": null,
   "id": "9b116698",
   "metadata": {},
   "outputs": [],
   "source": [
    "def f2(x):\n",
    "    return x**2\n",
    "edu['Value'].apply(f2)"
   ]
  },
  {
   "cell_type": "code",
   "execution_count": null,
   "id": "4f465a76",
   "metadata": {},
   "outputs": [],
   "source": [
    "edu['Value'].apply(lambda d: d**2)"
   ]
  },
  {
   "cell_type": "code",
   "execution_count": null,
   "id": "3bea8b53-d52f-4493-9844-375172da96a9",
   "metadata": {},
   "outputs": [],
   "source": [
    "# add a new column to a DataFrame\n",
    "edu['ValueNorm'] ="
   ]
  },
  {
   "cell_type": "code",
   "execution_count": null,
   "id": "ce5441ac-80d0-4e33-a3c2-c0f43bedf170",
   "metadata": {},
   "outputs": [],
   "source": [
    "edu[['Value','TIME']].apply(lambda)"
   ]
  },
  {
   "cell_type": "code",
   "execution_count": null,
   "id": "507ea32f",
   "metadata": {},
   "outputs": [],
   "source": [
    "# add a new column to a DataFrame\n",
    "edu['ValueNorm'] = edu['Value'] / edu['Value'].max()\n",
    "edu.tail()"
   ]
  },
  {
   "cell_type": "code",
   "execution_count": null,
   "id": "c8980ca1",
   "metadata": {},
   "outputs": [],
   "source": [
    "edu"
   ]
  },
  {
   "cell_type": "code",
   "execution_count": null,
   "id": "8fa3865d",
   "metadata": {
    "scrolled": true
   },
   "outputs": [],
   "source": [
    "# remove this column from the DataFrame\n",
    "# rows(axis=0), columns(axis=1) \n",
    "# inplace = False (default), inplace=True (change original DataFrame)\n",
    "edu.drop('ValueNorm', axis=1, inplace=True)\n",
    "edu.head()"
   ]
  },
  {
   "cell_type": "code",
   "execution_count": null,
   "id": "d9286a40",
   "metadata": {},
   "outputs": [],
   "source": [
    "edu"
   ]
  },
  {
   "cell_type": "code",
   "execution_count": null,
   "id": "3e563a73",
   "metadata": {},
   "outputs": [],
   "source": [
    "# insert a new row\n",
    "# ignore_index=True, otherwise the index 0\n",
    "edu = edu._append({'TIME': 2000, 'Value': 5.00, 'GEOq': 'a'}, ignore_index=True)\n",
    "edu.tail()"
   ]
  },
  {
   "cell_type": "code",
   "execution_count": null,
   "id": "597e7e24",
   "metadata": {},
   "outputs": [],
   "source": [
    "# remove row(axis=0)\n",
    "# inplace = False (default), inplace=True (change original DataFrame)\n",
    "edu.drop(max(edu.index), axis=0, inplace=True)\n",
    "edu.tail()"
   ]
  },
  {
   "cell_type": "code",
   "execution_count": null,
   "id": "d00987b1",
   "metadata": {},
   "outputs": [],
   "source": [
    "# to clear data frame\n",
    "edu.drop(edu.index, inplace=False)"
   ]
  },
  {
   "cell_type": "markdown",
   "id": "d479bc0d",
   "metadata": {},
   "source": [
    "# Sorting"
   ]
  },
  {
   "cell_type": "code",
   "execution_count": 179,
   "id": "00e79445-966b-417a-94a9-71809bb9a3da",
   "metadata": {},
   "outputs": [
    {
     "data": {
      "text/html": [
       "<div>\n",
       "<style scoped>\n",
       "    .dataframe tbody tr th:only-of-type {\n",
       "        vertical-align: middle;\n",
       "    }\n",
       "\n",
       "    .dataframe tbody tr th {\n",
       "        vertical-align: top;\n",
       "    }\n",
       "\n",
       "    .dataframe thead th {\n",
       "        text-align: right;\n",
       "    }\n",
       "</style>\n",
       "<table border=\"1\" class=\"dataframe\">\n",
       "  <thead>\n",
       "    <tr style=\"text-align: right;\">\n",
       "      <th></th>\n",
       "      <th>TIME</th>\n",
       "      <th>GEO</th>\n",
       "      <th>A</th>\n",
       "      <th>Value</th>\n",
       "      <th>Flag and Footnotes</th>\n",
       "      <th>TIME_100</th>\n",
       "      <th>new</th>\n",
       "    </tr>\n",
       "  </thead>\n",
       "  <tbody>\n",
       "    <tr>\n",
       "      <th>5</th>\n",
       "      <td>8000</td>\n",
       "      <td>European Union (28 countries)</td>\n",
       "      <td>Total public expenditure on education as % of ...</td>\n",
       "      <td>:</td>\n",
       "      <td>NaN</td>\n",
       "      <td>20.00</td>\n",
       "      <td>16000</td>\n",
       "    </tr>\n",
       "    <tr>\n",
       "      <th>6</th>\n",
       "      <td>8004</td>\n",
       "      <td>European Union (28 countries)</td>\n",
       "      <td>Total public expenditure on education as % of ...</td>\n",
       "      <td>:</td>\n",
       "      <td>NaN</td>\n",
       "      <td>20.01</td>\n",
       "      <td>16008</td>\n",
       "    </tr>\n",
       "    <tr>\n",
       "      <th>7</th>\n",
       "      <td>8008</td>\n",
       "      <td>European Union (28 countries)</td>\n",
       "      <td>Total public expenditure on education as % of ...</td>\n",
       "      <td>5.00</td>\n",
       "      <td>e</td>\n",
       "      <td>20.02</td>\n",
       "      <td>8008</td>\n",
       "    </tr>\n",
       "    <tr>\n",
       "      <th>8</th>\n",
       "      <td>8012</td>\n",
       "      <td>European Union (28 countries)</td>\n",
       "      <td>Total public expenditure on education as % of ...</td>\n",
       "      <td>5.03</td>\n",
       "      <td>e</td>\n",
       "      <td>20.03</td>\n",
       "      <td>8012</td>\n",
       "    </tr>\n",
       "    <tr>\n",
       "      <th>9</th>\n",
       "      <td>8016</td>\n",
       "      <td>European Union (28 countries)</td>\n",
       "      <td>Total public expenditure on education as % of ...</td>\n",
       "      <td>4.95</td>\n",
       "      <td>e</td>\n",
       "      <td>20.04</td>\n",
       "      <td>8016</td>\n",
       "    </tr>\n",
       "    <tr>\n",
       "      <th>...</th>\n",
       "      <td>...</td>\n",
       "      <td>...</td>\n",
       "      <td>...</td>\n",
       "      <td>...</td>\n",
       "      <td>...</td>\n",
       "      <td>...</td>\n",
       "      <td>...</td>\n",
       "    </tr>\n",
       "    <tr>\n",
       "      <th>384</th>\n",
       "      <td>8028</td>\n",
       "      <td>Finland</td>\n",
       "      <td>Total public expenditure on education as % of ...</td>\n",
       "      <td>5.90</td>\n",
       "      <td>NaN</td>\n",
       "      <td>20.07</td>\n",
       "      <td>8028</td>\n",
       "    </tr>\n",
       "    <tr>\n",
       "      <th>385</th>\n",
       "      <td>8032</td>\n",
       "      <td>Finland</td>\n",
       "      <td>Total public expenditure on education as % of ...</td>\n",
       "      <td>6.10</td>\n",
       "      <td>NaN</td>\n",
       "      <td>20.08</td>\n",
       "      <td>8032</td>\n",
       "    </tr>\n",
       "    <tr>\n",
       "      <th>386</th>\n",
       "      <td>8036</td>\n",
       "      <td>Finland</td>\n",
       "      <td>Total public expenditure on education as % of ...</td>\n",
       "      <td>6.81</td>\n",
       "      <td>NaN</td>\n",
       "      <td>20.09</td>\n",
       "      <td>8036</td>\n",
       "    </tr>\n",
       "    <tr>\n",
       "      <th>387</th>\n",
       "      <td>8040</td>\n",
       "      <td>Finland</td>\n",
       "      <td>Total public expenditure on education as % of ...</td>\n",
       "      <td>6.85</td>\n",
       "      <td>NaN</td>\n",
       "      <td>20.10</td>\n",
       "      <td>8040</td>\n",
       "    </tr>\n",
       "    <tr>\n",
       "      <th>388</th>\n",
       "      <td>8044</td>\n",
       "      <td>Finland</td>\n",
       "      <td>Total public expenditure on education as % of ...</td>\n",
       "      <td>6.76</td>\n",
       "      <td>NaN</td>\n",
       "      <td>20.11</td>\n",
       "      <td>8044</td>\n",
       "    </tr>\n",
       "  </tbody>\n",
       "</table>\n",
       "<p>384 rows × 7 columns</p>\n",
       "</div>"
      ],
      "text/plain": [
       "     TIME                            GEO  \\\n",
       "5    8000  European Union (28 countries)   \n",
       "6    8004  European Union (28 countries)   \n",
       "7    8008  European Union (28 countries)   \n",
       "8    8012  European Union (28 countries)   \n",
       "9    8016  European Union (28 countries)   \n",
       "..    ...                            ...   \n",
       "384  8028                        Finland   \n",
       "385  8032                        Finland   \n",
       "386  8036                        Finland   \n",
       "387  8040                        Finland   \n",
       "388  8044                        Finland   \n",
       "\n",
       "                                                     A Value  \\\n",
       "5    Total public expenditure on education as % of ...     :   \n",
       "6    Total public expenditure on education as % of ...     :   \n",
       "7    Total public expenditure on education as % of ...  5.00   \n",
       "8    Total public expenditure on education as % of ...  5.03   \n",
       "9    Total public expenditure on education as % of ...  4.95   \n",
       "..                                                 ...   ...   \n",
       "384  Total public expenditure on education as % of ...  5.90   \n",
       "385  Total public expenditure on education as % of ...  6.10   \n",
       "386  Total public expenditure on education as % of ...  6.81   \n",
       "387  Total public expenditure on education as % of ...  6.85   \n",
       "388  Total public expenditure on education as % of ...  6.76   \n",
       "\n",
       "    Flag and Footnotes  TIME_100    new  \n",
       "5                  NaN     20.00  16000  \n",
       "6                  NaN     20.01  16008  \n",
       "7                    e     20.02   8008  \n",
       "8                    e     20.03   8012  \n",
       "9                    e     20.04   8016  \n",
       "..                 ...       ...    ...  \n",
       "384                NaN     20.07   8028  \n",
       "385                NaN     20.08   8032  \n",
       "386                NaN     20.09   8036  \n",
       "387                NaN     20.10   8040  \n",
       "388                NaN     20.11   8044  \n",
       "\n",
       "[384 rows x 7 columns]"
      ]
     },
     "execution_count": 179,
     "metadata": {},
     "output_type": "execute_result"
    }
   ],
   "source": [
    "edu"
   ]
  },
  {
   "cell_type": "code",
   "execution_count": 183,
   "id": "287761a3",
   "metadata": {
    "scrolled": true
   },
   "outputs": [
    {
     "data": {
      "text/html": [
       "<div>\n",
       "<style scoped>\n",
       "    .dataframe tbody tr th:only-of-type {\n",
       "        vertical-align: middle;\n",
       "    }\n",
       "\n",
       "    .dataframe tbody tr th {\n",
       "        vertical-align: top;\n",
       "    }\n",
       "\n",
       "    .dataframe thead th {\n",
       "        text-align: right;\n",
       "    }\n",
       "</style>\n",
       "<table border=\"1\" class=\"dataframe\">\n",
       "  <thead>\n",
       "    <tr style=\"text-align: right;\">\n",
       "      <th></th>\n",
       "      <th>TIME</th>\n",
       "      <th>GEO</th>\n",
       "      <th>A</th>\n",
       "      <th>Value</th>\n",
       "      <th>Flag and Footnotes</th>\n",
       "      <th>TIME_100</th>\n",
       "      <th>new</th>\n",
       "    </tr>\n",
       "  </thead>\n",
       "  <tbody>\n",
       "    <tr>\n",
       "      <th>112</th>\n",
       "      <td>8044</td>\n",
       "      <td>Bulgaria</td>\n",
       "      <td>Total public expenditure on education as % of ...</td>\n",
       "      <td>3.82</td>\n",
       "      <td>NaN</td>\n",
       "      <td>20.11</td>\n",
       "      <td>8044</td>\n",
       "    </tr>\n",
       "    <tr>\n",
       "      <th>52</th>\n",
       "      <td>8044</td>\n",
       "      <td>Euro area (18 countries)</td>\n",
       "      <td>Total public expenditure on education as % of ...</td>\n",
       "      <td>5.15</td>\n",
       "      <td>e</td>\n",
       "      <td>20.11</td>\n",
       "      <td>8044</td>\n",
       "    </tr>\n",
       "    <tr>\n",
       "      <th>148</th>\n",
       "      <td>8044</td>\n",
       "      <td>Germany (until 1990 former territory of the FRG)</td>\n",
       "      <td>Total public expenditure on education as % of ...</td>\n",
       "      <td>4.98</td>\n",
       "      <td>NaN</td>\n",
       "      <td>20.11</td>\n",
       "      <td>8044</td>\n",
       "    </tr>\n",
       "    <tr>\n",
       "      <th>64</th>\n",
       "      <td>8044</td>\n",
       "      <td>Euro area (17 countries)</td>\n",
       "      <td>Total public expenditure on education as % of ...</td>\n",
       "      <td>5.15</td>\n",
       "      <td>e</td>\n",
       "      <td>20.11</td>\n",
       "      <td>8044</td>\n",
       "    </tr>\n",
       "    <tr>\n",
       "      <th>388</th>\n",
       "      <td>8044</td>\n",
       "      <td>Finland</td>\n",
       "      <td>Total public expenditure on education as % of ...</td>\n",
       "      <td>6.76</td>\n",
       "      <td>NaN</td>\n",
       "      <td>20.11</td>\n",
       "      <td>8044</td>\n",
       "    </tr>\n",
       "  </tbody>\n",
       "</table>\n",
       "</div>"
      ],
      "text/plain": [
       "     TIME                                               GEO  \\\n",
       "112  8044                                          Bulgaria   \n",
       "52   8044                          Euro area (18 countries)   \n",
       "148  8044  Germany (until 1990 former territory of the FRG)   \n",
       "64   8044                          Euro area (17 countries)   \n",
       "388  8044                                           Finland   \n",
       "\n",
       "                                                     A Value  \\\n",
       "112  Total public expenditure on education as % of ...  3.82   \n",
       "52   Total public expenditure on education as % of ...  5.15   \n",
       "148  Total public expenditure on education as % of ...  4.98   \n",
       "64   Total public expenditure on education as % of ...  5.15   \n",
       "388  Total public expenditure on education as % of ...  6.76   \n",
       "\n",
       "    Flag and Footnotes  TIME_100   new  \n",
       "112                NaN     20.11  8044  \n",
       "52                   e     20.11  8044  \n",
       "148                NaN     20.11  8044  \n",
       "64                   e     20.11  8044  \n",
       "388                NaN     20.11  8044  "
      ]
     },
     "execution_count": 183,
     "metadata": {},
     "output_type": "execute_result"
    }
   ],
   "source": [
    "edu.sort_values(by='TIME', ascending=True, inplace=True)\n",
    "edu.tail()"
   ]
  },
  {
   "cell_type": "code",
   "execution_count": 184,
   "id": "9e70e3f9",
   "metadata": {
    "scrolled": true
   },
   "outputs": [
    {
     "data": {
      "text/html": [
       "<div>\n",
       "<style scoped>\n",
       "    .dataframe tbody tr th:only-of-type {\n",
       "        vertical-align: middle;\n",
       "    }\n",
       "\n",
       "    .dataframe tbody tr th {\n",
       "        vertical-align: top;\n",
       "    }\n",
       "\n",
       "    .dataframe thead th {\n",
       "        text-align: right;\n",
       "    }\n",
       "</style>\n",
       "<table border=\"1\" class=\"dataframe\">\n",
       "  <thead>\n",
       "    <tr style=\"text-align: right;\">\n",
       "      <th></th>\n",
       "      <th>A</th>\n",
       "      <th>Flag and Footnotes</th>\n",
       "      <th>GEO</th>\n",
       "      <th>TIME</th>\n",
       "      <th>TIME_100</th>\n",
       "      <th>Value</th>\n",
       "      <th>new</th>\n",
       "    </tr>\n",
       "  </thead>\n",
       "  <tbody>\n",
       "    <tr>\n",
       "      <th>5</th>\n",
       "      <td>Total public expenditure on education as % of ...</td>\n",
       "      <td>NaN</td>\n",
       "      <td>European Union (28 countries)</td>\n",
       "      <td>8000</td>\n",
       "      <td>20.0</td>\n",
       "      <td>:</td>\n",
       "      <td>16000</td>\n",
       "    </tr>\n",
       "    <tr>\n",
       "      <th>161</th>\n",
       "      <td>Total public expenditure on education as % of ...</td>\n",
       "      <td>NaN</td>\n",
       "      <td>Ireland</td>\n",
       "      <td>8000</td>\n",
       "      <td>20.0</td>\n",
       "      <td>4.29</td>\n",
       "      <td>8000</td>\n",
       "    </tr>\n",
       "    <tr>\n",
       "      <th>377</th>\n",
       "      <td>Total public expenditure on education as % of ...</td>\n",
       "      <td>NaN</td>\n",
       "      <td>Finland</td>\n",
       "      <td>8000</td>\n",
       "      <td>20.0</td>\n",
       "      <td>5.89</td>\n",
       "      <td>8000</td>\n",
       "    </tr>\n",
       "    <tr>\n",
       "      <th>245</th>\n",
       "      <td>Total public expenditure on education as % of ...</td>\n",
       "      <td>NaN</td>\n",
       "      <td>Lithuania</td>\n",
       "      <td>8000</td>\n",
       "      <td>20.0</td>\n",
       "      <td>5.63</td>\n",
       "      <td>8000</td>\n",
       "    </tr>\n",
       "    <tr>\n",
       "      <th>101</th>\n",
       "      <td>Total public expenditure on education as % of ...</td>\n",
       "      <td>NaN</td>\n",
       "      <td>Bulgaria</td>\n",
       "      <td>8000</td>\n",
       "      <td>20.0</td>\n",
       "      <td>3.88</td>\n",
       "      <td>8000</td>\n",
       "    </tr>\n",
       "  </tbody>\n",
       "</table>\n",
       "</div>"
      ],
      "text/plain": [
       "                                                     A Flag and Footnotes  \\\n",
       "5    Total public expenditure on education as % of ...                NaN   \n",
       "161  Total public expenditure on education as % of ...                NaN   \n",
       "377  Total public expenditure on education as % of ...                NaN   \n",
       "245  Total public expenditure on education as % of ...                NaN   \n",
       "101  Total public expenditure on education as % of ...                NaN   \n",
       "\n",
       "                               GEO  TIME  TIME_100 Value    new  \n",
       "5    European Union (28 countries)  8000      20.0     :  16000  \n",
       "161                        Ireland  8000      20.0  4.29   8000  \n",
       "377                        Finland  8000      20.0  5.89   8000  \n",
       "245                      Lithuania  8000      20.0  5.63   8000  \n",
       "101                       Bulgaria  8000      20.0  3.88   8000  "
      ]
     },
     "execution_count": 184,
     "metadata": {},
     "output_type": "execute_result"
    }
   ],
   "source": [
    "# to return to the original order, we can sort by an index using the sort_index and axis=0\n",
    "edu.sort_index(axis=1, ascending=True, inplace=True)\n",
    "edu.head()"
   ]
  },
  {
   "cell_type": "markdown",
   "id": "afc9029e",
   "metadata": {},
   "source": [
    "# Grouping Data"
   ]
  },
  {
   "cell_type": "code",
   "execution_count": null,
   "id": "ecbcce7d-a201-495b-826f-a35509de402d",
   "metadata": {},
   "outputs": [],
   "source": [
    "# By “group by” we are referring to a process involving one or more of the following steps:\n",
    "# 1. Splitting the data into groups based on some criteria\n",
    "# 2. Applying a function to each group independently\n",
    "# 3. Combining the results into a data structure"
   ]
  },
  {
   "cell_type": "code",
   "execution_count": 185,
   "id": "724e97f6-3238-4b3a-8735-561cd4545537",
   "metadata": {},
   "outputs": [
    {
     "data": {
      "text/html": [
       "<div>\n",
       "<style scoped>\n",
       "    .dataframe tbody tr th:only-of-type {\n",
       "        vertical-align: middle;\n",
       "    }\n",
       "\n",
       "    .dataframe tbody tr th {\n",
       "        vertical-align: top;\n",
       "    }\n",
       "\n",
       "    .dataframe thead th {\n",
       "        text-align: right;\n",
       "    }\n",
       "</style>\n",
       "<table border=\"1\" class=\"dataframe\">\n",
       "  <thead>\n",
       "    <tr style=\"text-align: right;\">\n",
       "      <th></th>\n",
       "      <th>A</th>\n",
       "      <th>Flag and Footnotes</th>\n",
       "      <th>GEO</th>\n",
       "      <th>TIME</th>\n",
       "      <th>TIME_100</th>\n",
       "      <th>Value</th>\n",
       "      <th>new</th>\n",
       "    </tr>\n",
       "  </thead>\n",
       "  <tbody>\n",
       "    <tr>\n",
       "      <th>5</th>\n",
       "      <td>Total public expenditure on education as % of ...</td>\n",
       "      <td>NaN</td>\n",
       "      <td>European Union (28 countries)</td>\n",
       "      <td>8000</td>\n",
       "      <td>20.00</td>\n",
       "      <td>:</td>\n",
       "      <td>16000</td>\n",
       "    </tr>\n",
       "    <tr>\n",
       "      <th>161</th>\n",
       "      <td>Total public expenditure on education as % of ...</td>\n",
       "      <td>NaN</td>\n",
       "      <td>Ireland</td>\n",
       "      <td>8000</td>\n",
       "      <td>20.00</td>\n",
       "      <td>4.29</td>\n",
       "      <td>8000</td>\n",
       "    </tr>\n",
       "    <tr>\n",
       "      <th>377</th>\n",
       "      <td>Total public expenditure on education as % of ...</td>\n",
       "      <td>NaN</td>\n",
       "      <td>Finland</td>\n",
       "      <td>8000</td>\n",
       "      <td>20.00</td>\n",
       "      <td>5.89</td>\n",
       "      <td>8000</td>\n",
       "    </tr>\n",
       "    <tr>\n",
       "      <th>245</th>\n",
       "      <td>Total public expenditure on education as % of ...</td>\n",
       "      <td>NaN</td>\n",
       "      <td>Lithuania</td>\n",
       "      <td>8000</td>\n",
       "      <td>20.00</td>\n",
       "      <td>5.63</td>\n",
       "      <td>8000</td>\n",
       "    </tr>\n",
       "    <tr>\n",
       "      <th>101</th>\n",
       "      <td>Total public expenditure on education as % of ...</td>\n",
       "      <td>NaN</td>\n",
       "      <td>Bulgaria</td>\n",
       "      <td>8000</td>\n",
       "      <td>20.00</td>\n",
       "      <td>3.88</td>\n",
       "      <td>8000</td>\n",
       "    </tr>\n",
       "    <tr>\n",
       "      <th>...</th>\n",
       "      <td>...</td>\n",
       "      <td>...</td>\n",
       "      <td>...</td>\n",
       "      <td>...</td>\n",
       "      <td>...</td>\n",
       "      <td>...</td>\n",
       "      <td>...</td>\n",
       "    </tr>\n",
       "    <tr>\n",
       "      <th>112</th>\n",
       "      <td>Total public expenditure on education as % of ...</td>\n",
       "      <td>NaN</td>\n",
       "      <td>Bulgaria</td>\n",
       "      <td>8044</td>\n",
       "      <td>20.11</td>\n",
       "      <td>3.82</td>\n",
       "      <td>8044</td>\n",
       "    </tr>\n",
       "    <tr>\n",
       "      <th>52</th>\n",
       "      <td>Total public expenditure on education as % of ...</td>\n",
       "      <td>e</td>\n",
       "      <td>Euro area (18 countries)</td>\n",
       "      <td>8044</td>\n",
       "      <td>20.11</td>\n",
       "      <td>5.15</td>\n",
       "      <td>8044</td>\n",
       "    </tr>\n",
       "    <tr>\n",
       "      <th>148</th>\n",
       "      <td>Total public expenditure on education as % of ...</td>\n",
       "      <td>NaN</td>\n",
       "      <td>Germany (until 1990 former territory of the FRG)</td>\n",
       "      <td>8044</td>\n",
       "      <td>20.11</td>\n",
       "      <td>4.98</td>\n",
       "      <td>8044</td>\n",
       "    </tr>\n",
       "    <tr>\n",
       "      <th>64</th>\n",
       "      <td>Total public expenditure on education as % of ...</td>\n",
       "      <td>e</td>\n",
       "      <td>Euro area (17 countries)</td>\n",
       "      <td>8044</td>\n",
       "      <td>20.11</td>\n",
       "      <td>5.15</td>\n",
       "      <td>8044</td>\n",
       "    </tr>\n",
       "    <tr>\n",
       "      <th>388</th>\n",
       "      <td>Total public expenditure on education as % of ...</td>\n",
       "      <td>NaN</td>\n",
       "      <td>Finland</td>\n",
       "      <td>8044</td>\n",
       "      <td>20.11</td>\n",
       "      <td>6.76</td>\n",
       "      <td>8044</td>\n",
       "    </tr>\n",
       "  </tbody>\n",
       "</table>\n",
       "<p>384 rows × 7 columns</p>\n",
       "</div>"
      ],
      "text/plain": [
       "                                                     A Flag and Footnotes  \\\n",
       "5    Total public expenditure on education as % of ...                NaN   \n",
       "161  Total public expenditure on education as % of ...                NaN   \n",
       "377  Total public expenditure on education as % of ...                NaN   \n",
       "245  Total public expenditure on education as % of ...                NaN   \n",
       "101  Total public expenditure on education as % of ...                NaN   \n",
       "..                                                 ...                ...   \n",
       "112  Total public expenditure on education as % of ...                NaN   \n",
       "52   Total public expenditure on education as % of ...                  e   \n",
       "148  Total public expenditure on education as % of ...                NaN   \n",
       "64   Total public expenditure on education as % of ...                  e   \n",
       "388  Total public expenditure on education as % of ...                NaN   \n",
       "\n",
       "                                                  GEO  TIME  TIME_100 Value  \\\n",
       "5                       European Union (28 countries)  8000     20.00     :   \n",
       "161                                           Ireland  8000     20.00  4.29   \n",
       "377                                           Finland  8000     20.00  5.89   \n",
       "245                                         Lithuania  8000     20.00  5.63   \n",
       "101                                          Bulgaria  8000     20.00  3.88   \n",
       "..                                                ...   ...       ...   ...   \n",
       "112                                          Bulgaria  8044     20.11  3.82   \n",
       "52                           Euro area (18 countries)  8044     20.11  5.15   \n",
       "148  Germany (until 1990 former territory of the FRG)  8044     20.11  4.98   \n",
       "64                           Euro area (17 countries)  8044     20.11  5.15   \n",
       "388                                           Finland  8044     20.11  6.76   \n",
       "\n",
       "       new  \n",
       "5    16000  \n",
       "161   8000  \n",
       "377   8000  \n",
       "245   8000  \n",
       "101   8000  \n",
       "..     ...  \n",
       "112   8044  \n",
       "52    8044  \n",
       "148   8044  \n",
       "64    8044  \n",
       "388   8044  \n",
       "\n",
       "[384 rows x 7 columns]"
      ]
     },
     "execution_count": 185,
     "metadata": {},
     "output_type": "execute_result"
    }
   ],
   "source": [
    "edu"
   ]
  },
  {
   "cell_type": "code",
   "execution_count": 202,
   "id": "ac8f565a-ec33-4508-a57e-59e0b4772bf0",
   "metadata": {},
   "outputs": [
    {
     "data": {
      "text/html": [
       "<div>\n",
       "<style scoped>\n",
       "    .dataframe tbody tr th:only-of-type {\n",
       "        vertical-align: middle;\n",
       "    }\n",
       "\n",
       "    .dataframe tbody tr th {\n",
       "        vertical-align: top;\n",
       "    }\n",
       "\n",
       "    .dataframe thead th {\n",
       "        text-align: right;\n",
       "    }\n",
       "</style>\n",
       "<table border=\"1\" class=\"dataframe\">\n",
       "  <thead>\n",
       "    <tr style=\"text-align: right;\">\n",
       "      <th></th>\n",
       "      <th>A</th>\n",
       "      <th>Flag and Footnotes</th>\n",
       "      <th>GEO</th>\n",
       "      <th>TIME</th>\n",
       "      <th>TIME_100</th>\n",
       "      <th>Value</th>\n",
       "      <th>new</th>\n",
       "    </tr>\n",
       "  </thead>\n",
       "  <tbody>\n",
       "    <tr>\n",
       "      <th>353</th>\n",
       "      <td>Total public expenditure on education as % of ...</td>\n",
       "      <td>NaN</td>\n",
       "      <td>Slovenia</td>\n",
       "      <td>8000</td>\n",
       "      <td>20.00</td>\n",
       "      <td>:</td>\n",
       "      <td>16000</td>\n",
       "    </tr>\n",
       "    <tr>\n",
       "      <th>354</th>\n",
       "      <td>Total public expenditure on education as % of ...</td>\n",
       "      <td>NaN</td>\n",
       "      <td>Slovenia</td>\n",
       "      <td>8004</td>\n",
       "      <td>20.01</td>\n",
       "      <td>5.86</td>\n",
       "      <td>8004</td>\n",
       "    </tr>\n",
       "    <tr>\n",
       "      <th>355</th>\n",
       "      <td>Total public expenditure on education as % of ...</td>\n",
       "      <td>NaN</td>\n",
       "      <td>Slovenia</td>\n",
       "      <td>8008</td>\n",
       "      <td>20.02</td>\n",
       "      <td>5.76</td>\n",
       "      <td>8008</td>\n",
       "    </tr>\n",
       "    <tr>\n",
       "      <th>356</th>\n",
       "      <td>Total public expenditure on education as % of ...</td>\n",
       "      <td>NaN</td>\n",
       "      <td>Slovenia</td>\n",
       "      <td>8012</td>\n",
       "      <td>20.03</td>\n",
       "      <td>5.80</td>\n",
       "      <td>8012</td>\n",
       "    </tr>\n",
       "    <tr>\n",
       "      <th>357</th>\n",
       "      <td>Total public expenditure on education as % of ...</td>\n",
       "      <td>NaN</td>\n",
       "      <td>Slovenia</td>\n",
       "      <td>8016</td>\n",
       "      <td>20.04</td>\n",
       "      <td>5.74</td>\n",
       "      <td>8016</td>\n",
       "    </tr>\n",
       "    <tr>\n",
       "      <th>358</th>\n",
       "      <td>Total public expenditure on education as % of ...</td>\n",
       "      <td>NaN</td>\n",
       "      <td>Slovenia</td>\n",
       "      <td>8020</td>\n",
       "      <td>20.05</td>\n",
       "      <td>5.73</td>\n",
       "      <td>8020</td>\n",
       "    </tr>\n",
       "    <tr>\n",
       "      <th>359</th>\n",
       "      <td>Total public expenditure on education as % of ...</td>\n",
       "      <td>NaN</td>\n",
       "      <td>Slovenia</td>\n",
       "      <td>8024</td>\n",
       "      <td>20.06</td>\n",
       "      <td>5.72</td>\n",
       "      <td>8024</td>\n",
       "    </tr>\n",
       "    <tr>\n",
       "      <th>360</th>\n",
       "      <td>Total public expenditure on education as % of ...</td>\n",
       "      <td>NaN</td>\n",
       "      <td>Slovenia</td>\n",
       "      <td>8028</td>\n",
       "      <td>20.07</td>\n",
       "      <td>5.15</td>\n",
       "      <td>8028</td>\n",
       "    </tr>\n",
       "    <tr>\n",
       "      <th>361</th>\n",
       "      <td>Total public expenditure on education as % of ...</td>\n",
       "      <td>NaN</td>\n",
       "      <td>Slovenia</td>\n",
       "      <td>8032</td>\n",
       "      <td>20.08</td>\n",
       "      <td>5.20</td>\n",
       "      <td>8032</td>\n",
       "    </tr>\n",
       "    <tr>\n",
       "      <th>362</th>\n",
       "      <td>Total public expenditure on education as % of ...</td>\n",
       "      <td>NaN</td>\n",
       "      <td>Slovenia</td>\n",
       "      <td>8036</td>\n",
       "      <td>20.09</td>\n",
       "      <td>5.69</td>\n",
       "      <td>8036</td>\n",
       "    </tr>\n",
       "    <tr>\n",
       "      <th>363</th>\n",
       "      <td>Total public expenditure on education as % of ...</td>\n",
       "      <td>NaN</td>\n",
       "      <td>Slovenia</td>\n",
       "      <td>8040</td>\n",
       "      <td>20.10</td>\n",
       "      <td>5.68</td>\n",
       "      <td>8040</td>\n",
       "    </tr>\n",
       "    <tr>\n",
       "      <th>364</th>\n",
       "      <td>Total public expenditure on education as % of ...</td>\n",
       "      <td>NaN</td>\n",
       "      <td>Slovenia</td>\n",
       "      <td>8044</td>\n",
       "      <td>20.11</td>\n",
       "      <td>5.68</td>\n",
       "      <td>8044</td>\n",
       "    </tr>\n",
       "  </tbody>\n",
       "</table>\n",
       "</div>"
      ],
      "text/plain": [
       "                                                     A Flag and Footnotes  \\\n",
       "353  Total public expenditure on education as % of ...                NaN   \n",
       "354  Total public expenditure on education as % of ...                NaN   \n",
       "355  Total public expenditure on education as % of ...                NaN   \n",
       "356  Total public expenditure on education as % of ...                NaN   \n",
       "357  Total public expenditure on education as % of ...                NaN   \n",
       "358  Total public expenditure on education as % of ...                NaN   \n",
       "359  Total public expenditure on education as % of ...                NaN   \n",
       "360  Total public expenditure on education as % of ...                NaN   \n",
       "361  Total public expenditure on education as % of ...                NaN   \n",
       "362  Total public expenditure on education as % of ...                NaN   \n",
       "363  Total public expenditure on education as % of ...                NaN   \n",
       "364  Total public expenditure on education as % of ...                NaN   \n",
       "\n",
       "          GEO  TIME  TIME_100 Value    new  \n",
       "353  Slovenia  8000     20.00     :  16000  \n",
       "354  Slovenia  8004     20.01  5.86   8004  \n",
       "355  Slovenia  8008     20.02  5.76   8008  \n",
       "356  Slovenia  8012     20.03  5.80   8012  \n",
       "357  Slovenia  8016     20.04  5.74   8016  \n",
       "358  Slovenia  8020     20.05  5.73   8020  \n",
       "359  Slovenia  8024     20.06  5.72   8024  \n",
       "360  Slovenia  8028     20.07  5.15   8028  \n",
       "361  Slovenia  8032     20.08  5.20   8032  \n",
       "362  Slovenia  8036     20.09  5.69   8036  \n",
       "363  Slovenia  8040     20.10  5.68   8040  \n",
       "364  Slovenia  8044     20.11  5.68   8044  "
      ]
     },
     "execution_count": 202,
     "metadata": {},
     "output_type": "execute_result"
    }
   ],
   "source": [
    "s = list(edu.groupby('GEO'))\n",
    "s[30][1]"
   ]
  },
  {
   "cell_type": "code",
   "execution_count": 209,
   "id": "67d64f49-343f-445a-b1a3-4f991a069b59",
   "metadata": {},
   "outputs": [
    {
     "data": {
      "text/html": [
       "<div>\n",
       "<style scoped>\n",
       "    .dataframe tbody tr th:only-of-type {\n",
       "        vertical-align: middle;\n",
       "    }\n",
       "\n",
       "    .dataframe tbody tr th {\n",
       "        vertical-align: top;\n",
       "    }\n",
       "\n",
       "    .dataframe thead th {\n",
       "        text-align: right;\n",
       "    }\n",
       "</style>\n",
       "<table border=\"1\" class=\"dataframe\">\n",
       "  <thead>\n",
       "    <tr style=\"text-align: right;\">\n",
       "      <th></th>\n",
       "      <th>TIME</th>\n",
       "      <th>new</th>\n",
       "      <th>TIME_100</th>\n",
       "    </tr>\n",
       "    <tr>\n",
       "      <th>GEO</th>\n",
       "      <th></th>\n",
       "      <th></th>\n",
       "      <th></th>\n",
       "    </tr>\n",
       "  </thead>\n",
       "  <tbody>\n",
       "    <tr>\n",
       "      <th>Austria</th>\n",
       "      <td>8022.0</td>\n",
       "      <td>8022.000000</td>\n",
       "      <td>20.055</td>\n",
       "    </tr>\n",
       "    <tr>\n",
       "      <th>Belgium</th>\n",
       "      <td>8022.0</td>\n",
       "      <td>8688.666667</td>\n",
       "      <td>20.055</td>\n",
       "    </tr>\n",
       "    <tr>\n",
       "      <th>Bulgaria</th>\n",
       "      <td>8022.0</td>\n",
       "      <td>8022.000000</td>\n",
       "      <td>20.055</td>\n",
       "    </tr>\n",
       "    <tr>\n",
       "      <th>Cyprus</th>\n",
       "      <td>8022.0</td>\n",
       "      <td>8022.000000</td>\n",
       "      <td>20.055</td>\n",
       "    </tr>\n",
       "    <tr>\n",
       "      <th>Czech Republic</th>\n",
       "      <td>8022.0</td>\n",
       "      <td>8022.000000</td>\n",
       "      <td>20.055</td>\n",
       "    </tr>\n",
       "    <tr>\n",
       "      <th>Denmark</th>\n",
       "      <td>8022.0</td>\n",
       "      <td>8022.000000</td>\n",
       "      <td>20.055</td>\n",
       "    </tr>\n",
       "    <tr>\n",
       "      <th>Estonia</th>\n",
       "      <td>8022.0</td>\n",
       "      <td>8022.000000</td>\n",
       "      <td>20.055</td>\n",
       "    </tr>\n",
       "    <tr>\n",
       "      <th>Euro area (13 countries)</th>\n",
       "      <td>8022.0</td>\n",
       "      <td>8688.666667</td>\n",
       "      <td>20.055</td>\n",
       "    </tr>\n",
       "    <tr>\n",
       "      <th>Euro area (15 countries)</th>\n",
       "      <td>8022.0</td>\n",
       "      <td>8688.666667</td>\n",
       "      <td>20.055</td>\n",
       "    </tr>\n",
       "    <tr>\n",
       "      <th>Euro area (17 countries)</th>\n",
       "      <td>8022.0</td>\n",
       "      <td>9355.666667</td>\n",
       "      <td>20.055</td>\n",
       "    </tr>\n",
       "    <tr>\n",
       "      <th>Euro area (18 countries)</th>\n",
       "      <td>8022.0</td>\n",
       "      <td>9355.666667</td>\n",
       "      <td>20.055</td>\n",
       "    </tr>\n",
       "    <tr>\n",
       "      <th>European Union (25 countries)</th>\n",
       "      <td>8022.0</td>\n",
       "      <td>8022.000000</td>\n",
       "      <td>20.055</td>\n",
       "    </tr>\n",
       "    <tr>\n",
       "      <th>European Union (27 countries)</th>\n",
       "      <td>8022.0</td>\n",
       "      <td>8022.000000</td>\n",
       "      <td>20.055</td>\n",
       "    </tr>\n",
       "    <tr>\n",
       "      <th>European Union (28 countries)</th>\n",
       "      <td>8022.0</td>\n",
       "      <td>9355.666667</td>\n",
       "      <td>20.055</td>\n",
       "    </tr>\n",
       "    <tr>\n",
       "      <th>Finland</th>\n",
       "      <td>8022.0</td>\n",
       "      <td>8022.000000</td>\n",
       "      <td>20.055</td>\n",
       "    </tr>\n",
       "    <tr>\n",
       "      <th>France</th>\n",
       "      <td>8022.0</td>\n",
       "      <td>8022.000000</td>\n",
       "      <td>20.055</td>\n",
       "    </tr>\n",
       "    <tr>\n",
       "      <th>Germany (until 1990 former territory of the FRG)</th>\n",
       "      <td>8022.0</td>\n",
       "      <td>8022.000000</td>\n",
       "      <td>20.055</td>\n",
       "    </tr>\n",
       "    <tr>\n",
       "      <th>Greece</th>\n",
       "      <td>8022.0</td>\n",
       "      <td>12039.000000</td>\n",
       "      <td>20.055</td>\n",
       "    </tr>\n",
       "    <tr>\n",
       "      <th>Hungary</th>\n",
       "      <td>8022.0</td>\n",
       "      <td>8022.000000</td>\n",
       "      <td>20.055</td>\n",
       "    </tr>\n",
       "    <tr>\n",
       "      <th>Ireland</th>\n",
       "      <td>8022.0</td>\n",
       "      <td>8022.000000</td>\n",
       "      <td>20.055</td>\n",
       "    </tr>\n",
       "    <tr>\n",
       "      <th>Italy</th>\n",
       "      <td>8022.0</td>\n",
       "      <td>8022.000000</td>\n",
       "      <td>20.055</td>\n",
       "    </tr>\n",
       "    <tr>\n",
       "      <th>Latvia</th>\n",
       "      <td>8022.0</td>\n",
       "      <td>8022.000000</td>\n",
       "      <td>20.055</td>\n",
       "    </tr>\n",
       "    <tr>\n",
       "      <th>Lithuania</th>\n",
       "      <td>8022.0</td>\n",
       "      <td>8022.000000</td>\n",
       "      <td>20.055</td>\n",
       "    </tr>\n",
       "    <tr>\n",
       "      <th>Luxembourg</th>\n",
       "      <td>8022.0</td>\n",
       "      <td>11368.000000</td>\n",
       "      <td>20.055</td>\n",
       "    </tr>\n",
       "    <tr>\n",
       "      <th>Malta</th>\n",
       "      <td>8022.0</td>\n",
       "      <td>8022.000000</td>\n",
       "      <td>20.055</td>\n",
       "    </tr>\n",
       "    <tr>\n",
       "      <th>Netherlands</th>\n",
       "      <td>8022.0</td>\n",
       "      <td>8022.000000</td>\n",
       "      <td>20.055</td>\n",
       "    </tr>\n",
       "    <tr>\n",
       "      <th>Poland</th>\n",
       "      <td>8022.0</td>\n",
       "      <td>8022.000000</td>\n",
       "      <td>20.055</td>\n",
       "    </tr>\n",
       "    <tr>\n",
       "      <th>Portugal</th>\n",
       "      <td>8022.0</td>\n",
       "      <td>8022.000000</td>\n",
       "      <td>20.055</td>\n",
       "    </tr>\n",
       "    <tr>\n",
       "      <th>Romania</th>\n",
       "      <td>8022.0</td>\n",
       "      <td>9360.000000</td>\n",
       "      <td>20.055</td>\n",
       "    </tr>\n",
       "    <tr>\n",
       "      <th>Slovakia</th>\n",
       "      <td>8022.0</td>\n",
       "      <td>8022.000000</td>\n",
       "      <td>20.055</td>\n",
       "    </tr>\n",
       "    <tr>\n",
       "      <th>Slovenia</th>\n",
       "      <td>8022.0</td>\n",
       "      <td>8688.666667</td>\n",
       "      <td>20.055</td>\n",
       "    </tr>\n",
       "    <tr>\n",
       "      <th>Spain</th>\n",
       "      <td>8022.0</td>\n",
       "      <td>8022.000000</td>\n",
       "      <td>20.055</td>\n",
       "    </tr>\n",
       "  </tbody>\n",
       "</table>\n",
       "</div>"
      ],
      "text/plain": [
       "                                                    TIME           new  \\\n",
       "GEO                                                                      \n",
       "Austria                                           8022.0   8022.000000   \n",
       "Belgium                                           8022.0   8688.666667   \n",
       "Bulgaria                                          8022.0   8022.000000   \n",
       "Cyprus                                            8022.0   8022.000000   \n",
       "Czech Republic                                    8022.0   8022.000000   \n",
       "Denmark                                           8022.0   8022.000000   \n",
       "Estonia                                           8022.0   8022.000000   \n",
       "Euro area (13 countries)                          8022.0   8688.666667   \n",
       "Euro area (15 countries)                          8022.0   8688.666667   \n",
       "Euro area (17 countries)                          8022.0   9355.666667   \n",
       "Euro area (18 countries)                          8022.0   9355.666667   \n",
       "European Union (25 countries)                     8022.0   8022.000000   \n",
       "European Union (27 countries)                     8022.0   8022.000000   \n",
       "European Union (28 countries)                     8022.0   9355.666667   \n",
       "Finland                                           8022.0   8022.000000   \n",
       "France                                            8022.0   8022.000000   \n",
       "Germany (until 1990 former territory of the FRG)  8022.0   8022.000000   \n",
       "Greece                                            8022.0  12039.000000   \n",
       "Hungary                                           8022.0   8022.000000   \n",
       "Ireland                                           8022.0   8022.000000   \n",
       "Italy                                             8022.0   8022.000000   \n",
       "Latvia                                            8022.0   8022.000000   \n",
       "Lithuania                                         8022.0   8022.000000   \n",
       "Luxembourg                                        8022.0  11368.000000   \n",
       "Malta                                             8022.0   8022.000000   \n",
       "Netherlands                                       8022.0   8022.000000   \n",
       "Poland                                            8022.0   8022.000000   \n",
       "Portugal                                          8022.0   8022.000000   \n",
       "Romania                                           8022.0   9360.000000   \n",
       "Slovakia                                          8022.0   8022.000000   \n",
       "Slovenia                                          8022.0   8688.666667   \n",
       "Spain                                             8022.0   8022.000000   \n",
       "\n",
       "                                                  TIME_100  \n",
       "GEO                                                         \n",
       "Austria                                             20.055  \n",
       "Belgium                                             20.055  \n",
       "Bulgaria                                            20.055  \n",
       "Cyprus                                              20.055  \n",
       "Czech Republic                                      20.055  \n",
       "Denmark                                             20.055  \n",
       "Estonia                                             20.055  \n",
       "Euro area (13 countries)                            20.055  \n",
       "Euro area (15 countries)                            20.055  \n",
       "Euro area (17 countries)                            20.055  \n",
       "Euro area (18 countries)                            20.055  \n",
       "European Union (25 countries)                       20.055  \n",
       "European Union (27 countries)                       20.055  \n",
       "European Union (28 countries)                       20.055  \n",
       "Finland                                             20.055  \n",
       "France                                              20.055  \n",
       "Germany (until 1990 former territory of the FRG)    20.055  \n",
       "Greece                                              20.055  \n",
       "Hungary                                             20.055  \n",
       "Ireland                                             20.055  \n",
       "Italy                                               20.055  \n",
       "Latvia                                              20.055  \n",
       "Lithuania                                           20.055  \n",
       "Luxembourg                                          20.055  \n",
       "Malta                                               20.055  \n",
       "Netherlands                                         20.055  \n",
       "Poland                                              20.055  \n",
       "Portugal                                            20.055  \n",
       "Romania                                             20.055  \n",
       "Slovakia                                            20.055  \n",
       "Slovenia                                            20.055  \n",
       "Spain                                               20.055  "
      ]
     },
     "execution_count": 209,
     "metadata": {},
     "output_type": "execute_result"
    }
   ],
   "source": [
    "edu[['GEO','TIME', 'new', 'TIME_100']].groupby('GEO').mean()"
   ]
  },
  {
   "cell_type": "code",
   "execution_count": null,
   "id": "e7dbe9de",
   "metadata": {
    "scrolled": true
   },
   "outputs": [],
   "source": [
    "# like group by in sql\n",
    "group = edu[['GEO', 'Value']].groupby('GEO').mean()\n",
    "group.head()"
   ]
  },
  {
   "cell_type": "markdown",
   "id": "5b02e33c-1e85-4722-8232-d4f50214fecf",
   "metadata": {},
   "source": [
    "# Merging Data"
   ]
  },
  {
   "cell_type": "code",
   "execution_count": null,
   "id": "b34afb12-796c-4549-aa1f-dc63c7e58829",
   "metadata": {},
   "outputs": [],
   "source": [
    "np.random.randn(10, 4)"
   ]
  },
  {
   "cell_type": "code",
   "execution_count": null,
   "id": "a4af4376-3793-49b8-b258-fe60de881d1a",
   "metadata": {},
   "outputs": [],
   "source": [
    "df = pd.DataFrame(np.random.randn(10, 4))"
   ]
  },
  {
   "cell_type": "code",
   "execution_count": null,
   "id": "489c3009-7ce2-4107-a951-81cc26ea41f3",
   "metadata": {},
   "outputs": [],
   "source": [
    "s = df[:3]\n",
    "s"
   ]
  },
  {
   "cell_type": "code",
   "execution_count": null,
   "id": "44bfdbe6-3231-47ba-a59c-1694facd16a2",
   "metadata": {},
   "outputs": [],
   "source": [
    "ss = df[3:7]\n",
    "ss"
   ]
  },
  {
   "cell_type": "code",
   "execution_count": null,
   "id": "93d207c5-bae3-4ca4-9001-ed10ed504993",
   "metadata": {},
   "outputs": [],
   "source": [
    "df[7:]"
   ]
  },
  {
   "cell_type": "code",
   "execution_count": null,
   "id": "763e3cab-8042-4fc8-a022-e014261517b0",
   "metadata": {},
   "outputs": [],
   "source": [
    "pd.concat([s, ss], axis=1)"
   ]
  },
  {
   "cell_type": "code",
   "execution_count": null,
   "id": "4fc7166a-1988-4070-b923-e5c8f0a562ff",
   "metadata": {},
   "outputs": [],
   "source": [
    "pd.merge(left, right, on=\"key\")"
   ]
  },
  {
   "cell_type": "markdown",
   "id": "a7bfc182",
   "metadata": {
    "jp-MarkdownHeadingCollapsed": true
   },
   "source": [
    "# Resources\n",
    "- Chapter 2, Introduction to Data Science by Laura Igual and Santi Seguí\n",
    "    - https://github.com/DataScienceUB/introduction-datascience-python-book \n",
    "- pandas Documentation: https://pandas.pydata.org/"
   ]
  }
 ],
 "metadata": {
  "kernelspec": {
   "display_name": "Python 3 (ipykernel)",
   "language": "python",
   "name": "python3"
  },
  "language_info": {
   "codemirror_mode": {
    "name": "ipython",
    "version": 3
   },
   "file_extension": ".py",
   "mimetype": "text/x-python",
   "name": "python",
   "nbconvert_exporter": "python",
   "pygments_lexer": "ipython3",
   "version": "3.11.7"
  }
 },
 "nbformat": 4,
 "nbformat_minor": 5
}
